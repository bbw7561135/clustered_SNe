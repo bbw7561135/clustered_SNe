{
 "metadata": {
  "name": "",
  "signature": "sha256:a89aac5be7d6028ff3f02a30a7b7d7e01f9dafa571a044f790c60077b604ae28"
 },
 "nbformat": 3,
 "nbformat_minor": 0,
 "worksheets": [
  {
   "cells": [
    {
     "cell_type": "code",
     "collapsed": false,
     "input": [
      "filename = 'fluid.adiabatic'\n",
      "ext = 'f08'"
     ],
     "language": "python",
     "metadata": {},
     "outputs": [],
     "prompt_number": 2
    },
    {
     "cell_type": "code",
     "collapsed": false,
     "input": [
      "filename = 'tmp'\n",
      "ext = 'f08'"
     ],
     "language": "python",
     "metadata": {},
     "outputs": [],
     "prompt_number": 52
    },
    {
     "cell_type": "code",
     "collapsed": false,
     "input": [
      "%%bash -s \"$filename\" \"$ext\"\n",
      "echo running: $1.$2\n",
      "gfortran  $1.$2 -pedantic -Wall -std=f2008 -o $1\n",
      "./$1 >& 2"
     ],
     "language": "python",
     "metadata": {},
     "outputs": [
      {
       "output_type": "stream",
       "stream": "stdout",
       "text": [
        "running: fluid.adiabatic.f08\n"
       ]
      }
     ],
     "prompt_number": 139
    },
    {
     "cell_type": "code",
     "collapsed": false,
     "input": [
      "%%bash -s \"$filename\"\n",
      "echo running without compiling: $1\n",
      "./$1 >&2"
     ],
     "language": "python",
     "metadata": {},
     "outputs": [
      {
       "output_type": "stream",
       "stream": "stdout",
       "text": [
        "running without compiling: fluid.adiabatic\n"
       ]
      }
     ],
     "prompt_number": 33
    },
    {
     "cell_type": "code",
     "collapsed": false,
     "input": [
      "#things to do:\n",
      "#    Change x-axis to M_int\n",
      "#        - add an alternate switch for R as the x-axis\n",
      "#    Add a plot of t and delta_t"
     ],
     "language": "python",
     "metadata": {},
     "outputs": [],
     "prompt_number": 174
    },
    {
     "cell_type": "code",
     "collapsed": false,
     "input": [
      "data_filename = 'velos'\n",
      "\n",
      "data = np.loadtxt(data_filename)\n",
      "\n",
      "k, i, R, u, rho, T, Mass, c_ad, E, P = data.transpose()\n",
      "\n",
      "zones = (max(i) +2)/2.\n",
      "lines = k.size\n",
      "n_timesteps= lines / zones\n",
      "time_max = max(k2d[:,1])\n",
      "time_min = min(k2d[:,1])\n",
      "timestep_jump = (time_max - time_min) / (n_timesteps - 1)\n",
      "\n",
      "k2d = k.reshape((lines/zones, zones))\n",
      "i2d = i.reshape((lines/zones,zones))\n",
      "R2d = R.reshape((lines/zones,zones))\n",
      "u2d = u.reshape((lines/zones,zones))\n",
      "rho2d = np.power(10., rho.reshape((lines/zones,zones)))\n",
      "T2d = T.reshape((lines/zones,zones))\n",
      "Mass2d = Mass.reshape((lines/zones,zones))\n",
      "c_ad2d = c_ad.reshape((lines/zones,zones))\n",
      "E2d = E.reshape((lines/zones,zones))\n",
      "P2d = P.reshape((lines/zones,zones))\n",
      "mach2d = np.divide(u2d, c_ad2d)\n",
      "\n",
      "timestep_dict = dict(zip(k2d[:,1], range(int(n_timesteps))))\n",
      "\n",
      "\n",
      "def plot_T_graph(t):\n",
      "    plt.xscale('linear')\n",
      "    plt.yscale('log')\n",
      "    plt.scatter(i2d[timestep_dict[t]], T2d[timestep_dict[t]])\n",
      "    plt.xlabel(r\"zone\")\n",
      "    plt.ylabel(r\"$T$ [K]\")\n",
      "    \n",
      "def plot_u_graph(t):\n",
      "    plt.xscale('linear')\n",
      "    plt.yscale('log')\n",
      "    plt.scatter(i2d[timestep_dict[t]], u2d[timestep_dict[t]])\n",
      "    plt.xlabel(r\"zone\")\n",
      "    plt.ylabel(r\"$u$ [cm s$^{-1}$]\")\n",
      "\n",
      "def plot_R_graph(t):\n",
      "    plt.xscale('linear')\n",
      "    plt.yscale('log')\n",
      "    plt.scatter(i2d[timestep_dict[t]], R2d[timestep_dict[t]])\n",
      "    plt.xlabel(r\"zone\")\n",
      "    plt.ylabel(r\"$R$ [cm]\")\n",
      "\n",
      "def plot_mach_graph(t):\n",
      "    plt.xscale('linear')\n",
      "    plt.yscale('log')\n",
      "    plt.scatter(i2d[timestep_dict[t]], mach2d[timestep_dict[t]])\n",
      "    plt.xlabel(r\"zone\")\n",
      "    plt.ylabel(r\"$\\mathcal{M}$\")\n",
      "\n",
      "def plot_E_graph(t):\n",
      "    plt.xscale('linear')\n",
      "    plt.yscale('log')\n",
      "    plt.scatter(i2d[timestep_dict[t]], E2d[timestep_dict[t]])\n",
      "    plt.xlabel(r\"zone\")\n",
      "    plt.ylabel(r\"$E_\\mathrm{int}$ [erg]\")\n",
      "\n",
      "def plot_rho_graph(t):\n",
      "    plt.xscale('linear')\n",
      "    plt.yscale('log')\n",
      "    plt.scatter(i2d[timestep_dict[t]], rho2d[timestep_dict[t]])\n",
      "    plt.xlabel(r\"zone\")\n",
      "    plt.ylabel(r\"$\\rho$ [g cm$^{-3}$]\")\n",
      "#    plt.ylim([1e-19, 1e-15])\n",
      "\n",
      "def plot_P_graph(t):\n",
      "    plt.xscale('linear')\n",
      "    plt.yscale('log')\n",
      "    plt.scatter(i2d[timestep_dict[t]], P2d[timestep_dict[t]])\n",
      "    plt.xlabel(r\"zone\")\n",
      "    plt.ylabel(r\"$P$ [dyne cm$^{-2}$]\")\n",
      "    \n",
      "    \n",
      "def plot_graphs(t=0, plot_variable=plot_rho_graph):\n",
      "    plot_variable(t)\n",
      "\n",
      "interact(plot_graphs, t=(time_min,time_max, timestep_jump),\n",
      "    plot_variable={'T':plot_T_graph, 'u':plot_u_graph, 'R':plot_R_graph, 'Mach':plot_mach_graph, 'E':plot_E_graph, 'rho':plot_rho_graph, 'P':plot_P_graph});\n"
     ],
     "language": "python",
     "metadata": {},
     "outputs": [
      {
       "metadata": {},
       "output_type": "display_data",
       "png": "[encoded data removed]",
       "text": [
        "<matplotlib.figure.Figure at 0x7f926ee2aa50>"
       ]
      }
     ],
     "prompt_number": 140
    },
    {
     "cell_type": "code",
     "collapsed": false,
     "input": [
      "a = np.arange(10)\n",
      "a = np.power(5., a)\n",
      "b = range(10)\n",
      "print b\n",
      "\n",
      "print a\n",
      "zip(a, range(10))\n",
      "d = dict(zip(a, range(10)))\n",
      "d[25]"
     ],
     "language": "python",
     "metadata": {},
     "outputs": [
      {
       "output_type": "stream",
       "stream": "stdout",
       "text": [
        "[0, 1, 2, 3, 4, 5, 6, 7, 8, 9]\n",
        "[  1.00000000e+00   5.00000000e+00   2.50000000e+01   1.25000000e+02\n",
        "   6.25000000e+02   3.12500000e+03   1.56250000e+04   7.81250000e+04\n",
        "   3.90625000e+05   1.95312500e+06]\n"
       ]
      },
      {
       "metadata": {},
       "output_type": "pyout",
       "prompt_number": 68,
       "text": [
        "2"
       ]
      }
     ],
     "prompt_number": 68
    },
    {
     "cell_type": "code",
     "collapsed": false,
     "input": [
      "n_timesteps\n",
      "range(int(n_timesteps))\n",
      "k2d[:,1]\n",
      "d = dict(zip(k2d[:,1], range(int(n_timesteps))))\n",
      "timestep_jump = max(k2d[:,1]) / (k2d[:,1].size-1)\n",
      "print timestep_jump"
     ],
     "language": "python",
     "metadata": {},
     "outputs": [
      {
       "output_type": "stream",
       "stream": "stdout",
       "text": [
        "5.0\n"
       ]
      }
     ],
     "prompt_number": 115
    }
   ],
   "metadata": {}
  }
 ]
}