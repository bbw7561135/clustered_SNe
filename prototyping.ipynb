{
 "metadata": {
  "name": "",
  "signature": "sha256:cd9811c3159a592106ad0d312d98fc89d7c44e448e9f0d95467bd9b67dc20ab8"
 },
 "nbformat": 3,
 "nbformat_minor": 0,
 "worksheets": [
  {
   "cells": [
    {
     "cell_type": "code",
     "collapsed": false,
     "input": [
      "filename = 'fluid.adiabatic'\n",
      "ext = 'f08'"
     ],
     "language": "python",
     "metadata": {},
     "outputs": [],
     "prompt_number": 129
    },
    {
     "cell_type": "code",
     "collapsed": false,
     "input": [
      "%%bash -s \"$filename\" \"$ext\" --out output\n",
      "gfortran  $1.$2 -o $1\n",
      "./$1 >& 2"
     ],
     "language": "python",
     "metadata": {},
     "outputs": [],
     "prompt_number": 130
    }
   ],
   "metadata": {}
  }
 ]
}