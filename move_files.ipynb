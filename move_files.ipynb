{
 "cells": [
  {
   "cell_type": "code",
   "execution_count": 1,
   "metadata": {
    "collapsed": true
   },
   "outputs": [],
   "source": [
    "import os\n",
    "import glob\n",
    "import shutil\n",
    "import numpy as np\n",
    "\n",
    "m_proton = 1.672622e-24\n"
   ]
  },
  {
   "cell_type": "code",
   "execution_count": 2,
   "metadata": {
    "collapsed": false
   },
   "outputs": [],
   "source": [
    "class Overview(object):\n",
    "    \"\"\"Overview of a given ./SNe run\"\"\"\n",
    "    def __init__(self, filename):\n",
    "        super(Overview, self).__init__()\n",
    "        \n",
    "        self.id = overview_filename.split(\"_\")[0]\n",
    "        \n",
    "        \n",
    "        f = open(filename, \"r\")\n",
    "        line = f.readline()\n",
    "        self.metallicity = float(line.split()[1])\n",
    "\n",
    "        line = f.readline()\n",
    "        self.background_density = float(line.split()[2])\n",
    "\n",
    "        line = f.readline()\n",
    "        self.background_temperature = float(line.split()[2])\n",
    "        f.close()\n",
    "\n",
    "    def __str__(self):\n",
    "        string  = \"id \\t\\t\\t = {0}\".format(self.id) + \"\\n\"\n",
    "        string += \"metallicity \\t\\t = {0} \".format(self.metallicity) + \"\\n\"\n",
    "        string += \"background density \\t = {0} [g cm^-3]\".format(self.background_density) + \"\\n\"\n",
    "        string += \"background temperature \\t = {0:e} [K]\".format(self.background_temperature)\n",
    "        return string\n",
    "\n",
    "def make_path_Thornton_parameter_study(overview):\n",
    "    \n",
    "    index = 0\n",
    "\n",
    "    dir = \"saved_runs/riemann/Thornton_parameter_study/\"\n",
    "    dir += \"log_n_\" + \"{0:+03.0f}\".format(5*int(round(2*np.log10(overview.background_density / m_proton / 1.33))))\n",
    "    dir += \"/\"\n",
    "    dir += \"log_Z_\" + \"{0:+03.0f}\".format(5*int(round(2*np.log10(overview.metallicity / .02))))\n",
    "    dir += \"/\"\n",
    "    dir += \"T_\" + \"{0:.0f}\".format(overview.background_temperature)\n",
    "\n",
    "    return dir"
   ]
  },
  {
   "cell_type": "code",
   "execution_count": 3,
   "metadata": {
    "collapsed": false
   },
   "outputs": [],
   "source": [
    "overview_filenames = glob.glob(\"*overview.dat\")\n",
    "overviews = [None] * len(overview_filenames)\n",
    "for i, overview_filename in enumerate(overview_filenames):\n",
    "     overviews[i] = Overview(overview_filename)\n",
    "\n",
    "for overview in overviews:\n",
    "    path = make_path_Thornton_parameter_study(overview)\n",
    "    if not os.path.isdir(path):\n",
    "        os.makedirs(path)\n",
    "    files = glob.glob(overview.id + \"*\")\n",
    "    for file in files:\n",
    "        shutil.move(file, path)\n",
    "        "
   ]
  }
 ],
 "metadata": {
  "kernelspec": {
   "display_name": "Python 3",
   "language": "python",
   "name": "python3"
  },
  "language_info": {
   "codemirror_mode": {
    "name": "ipython",
    "version": 3
   },
   "file_extension": ".py",
   "mimetype": "text/x-python",
   "name": "python",
   "nbconvert_exporter": "python",
   "pygments_lexer": "ipython3",
   "version": "3.4.3"
  }
 },
 "nbformat": 4,
 "nbformat_minor": 0
}
