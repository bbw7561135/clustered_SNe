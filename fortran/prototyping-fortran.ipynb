{
 "metadata": {
  "name": "",
  "signature": "sha256:071ee46cf798d360e7a2121214ed94167b2cef8f8313e2ff5f57e25469d16a9a"
 },
 "nbformat": 3,
 "nbformat_minor": 0,
 "worksheets": [
  {
   "cells": [
    {
     "cell_type": "code",
     "collapsed": false,
     "input": [
      "%matplotlib inline\n",
      "import numpy as np\n",
      "import matplotlib.pyplot as plt\n",
      "from matplotlib import rc\n",
      "from __future__ import print_function\n",
      "rc('text', usetex=True)\n",
      "plt.rc('font', family='serif')\n",
      "\n",
      "\n",
      "from IPython.html.widgets import interact"
     ],
     "language": "python",
     "metadata": {},
     "outputs": [],
     "prompt_number": 1
    },
    {
     "cell_type": "code",
     "collapsed": false,
     "input": [
      "filename = 'fluid.adiabatic'\n",
      "ext = 'f08'"
     ],
     "language": "python",
     "metadata": {},
     "outputs": [],
     "prompt_number": 3
    },
    {
     "cell_type": "code",
     "collapsed": false,
     "input": [
      "filename = 'tmp'\n",
      "ext = 'f08'"
     ],
     "language": "python",
     "metadata": {},
     "outputs": [],
     "prompt_number": 6
    },
    {
     "cell_type": "code",
     "collapsed": false,
     "input": [
      "%%bash -s \"$filename\" \"$ext\"\n",
      "echo running: $1.$2\n",
      "gfortran  $1.$2 -pedantic -Wall -std=f2008 -o $1\n",
      "./$1 >& 2"
     ],
     "language": "python",
     "metadata": {},
     "outputs": [
      {
       "output_type": "stream",
       "stream": "stdout",
       "text": [
        "running: fluid.adiabatic.f08\n"
       ]
      },
      {
       "output_type": "stream",
       "stream": "stderr",
       "text": [
        "   402997763.40300000     \n"
       ]
      }
     ],
     "prompt_number": 4
    },
    {
     "cell_type": "code",
     "collapsed": false,
     "input": [
      "%%bash -s \"$filename\"\n",
      "echo running without compiling: $1\n",
      "./$1 >&2"
     ],
     "language": "python",
     "metadata": {},
     "outputs": [
      {
       "output_type": "stream",
       "stream": "stdout",
       "text": [
        "running without compiling: fluid.adiabatic\n"
       ]
      }
     ],
     "prompt_number": 37
    },
    {
     "cell_type": "code",
     "collapsed": false,
     "input": [
      "#things to do:\n",
      "#    Change x-axis to M_int\n",
      "#        - add an alternate switch for R as the x-axis\n",
      "#    Add a plot of t and delta_t"
     ],
     "language": "python",
     "metadata": {},
     "outputs": [],
     "prompt_number": 174
    },
    {
     "cell_type": "code",
     "collapsed": false,
     "input": [
      "#data_filename = 'saved_results/sedov_E_nonconservative/velos'\n",
      "#info_filename = 'saved_results/sedov_E_nonconservative/info'\n",
      "data_filename = 'velos'\n",
      "info_filename = 'info'\n",
      "pc = 3.0856e18  # parsec in [cm]\n",
      "M_solar = 2e33  # solar mass in [g]\n",
      "yr = 3.154e7    # year in [s]\n",
      "\n",
      "data = np.loadtxt(data_filename)\n",
      "info = np.loadtxt(info_filename)\n",
      "\n",
      "k, i, R, u, rho, T, Mass, c_ad, E, P = data.transpose()\n",
      "k_info, E_tot_info, E_grav_info, E_kin_info, E_int_info, M_tot_info, delta_time_info, time_total_info = info.transpose()\n",
      "\n",
      "\n",
      "zones = (max(i) +2)/2.\n",
      "lines = k.size\n",
      "n_timesteps= lines / zones\n",
      "\n",
      "\n",
      "k2d = k.reshape((lines/zones, zones))\n",
      "i2d = i.reshape((lines/zones,zones))\n",
      "R2d = R.reshape((lines/zones,zones)) / pc\n",
      "u2d = u.reshape((lines/zones,zones))\n",
      "rho2d = np.power(10., rho.reshape((lines/zones,zones)))\n",
      "T2d = T.reshape((lines/zones,zones))\n",
      "Mass2d = Mass.reshape((lines/zones,zones))\n",
      "c_ad2d = c_ad.reshape((lines/zones,zones))\n",
      "E2d = E.reshape((lines/zones,zones))\n",
      "P2d = P.reshape((lines/zones,zones))\n",
      "mach2d = np.divide(np.abs(u2d), c_ad2d)\n",
      "\n",
      "s2d = np.log(T2d / P2d) # specific entropy, in arbitrary units\n",
      "\n",
      "time_max = max(k2d[:,1])\n",
      "time_min = min(k2d[:,1])\n",
      "timestep_jump = (time_max - time_min) / (n_timesteps - 1)\n",
      "timestep_dict = dict(zip(k2d[:,1], range(int(n_timesteps))))\n",
      "\n",
      "i     = i2d[0]\n",
      "Mass  = Mass2d[0]\n",
      "M_int = np.cumsum(Mass)\n",
      "\n",
      "\n",
      "def plot_T_graph(t, x_axis):\n",
      "    if x_axis is True:\n",
      "        plt.scatter(i[1:], T2d[timestep_dict[t], 1:])\n",
      "        plt.xlabel(r\"zone\")\n",
      "    else:\n",
      "        plt.scatter(R2d[timestep_dict[t], 1:], T2d[timestep_dict[t], 1:])\n",
      "        plt.xlabel(r\"$R$ [pc]\")\n",
      "    plt.ylabel(r\"$T$ [K]\")\n",
      "    \n",
      "def plot_u_graph(t, x_axis):\n",
      "    if x_axis is True:\n",
      "        plt.scatter(i[1:], u2d[timestep_dict[t], 1:])\n",
      "        plt.xlabel(r\"zone\")\n",
      "    else:\n",
      "        plt.scatter(R2d[timestep_dict[t]], u2d[timestep_dict[t]])\n",
      "        plt.xlabel(r\"$R$ [pc]\")\n",
      "    plt.ylabel(r\"$u$ [cm s$^{-1}$]\")\n",
      "    ymin, ymax = plt.ylim()   # return the current ylim\n",
      "    plt.ylim([ymax * 1e-15, ymax])\n",
      "\n",
      "def plot_R_graph(t, x_axis):\n",
      "    if x_axis is True:\n",
      "        plt.scatter(i[1:], R2d[timestep_dict[t], 1:])\n",
      "        plt.xlabel(r\"zone\")\n",
      "    else:\n",
      "        plt.scatter(R2d[timestep_dict[t], 1:], R2d[timestep_dict[t], 1:])\n",
      "        plt.xlabel(r\"$R$ [pc]\")\n",
      "    plt.ylabel(r\"$R$ [pc]\")\n",
      "\n",
      "def plot_mach_graph(t, x_axis):\n",
      "    if x_axis is True:\n",
      "        plt.scatter(i[1:], mach2d[timestep_dict[t], 1:])\n",
      "        plt.xlabel(r\"zone\")\n",
      "    else:\n",
      "        plt.scatter(R2d[timestep_dict[t], 1:], mach2d[timestep_dict[t], 1:])\n",
      "        plt.xlabel(r\"$R$ [pc]\")\n",
      "    plt.ylabel(r\"$\\mathcal{M}$\")\n",
      "    ymin, ymax = plt.ylim()   # return the current ylim\n",
      "    plt.ylim([ymax * 1e-15, ymax])\n",
      "    \n",
      "\n",
      "\n",
      "def plot_E_graph(t, x_axis):\n",
      "    if x_axis is True:\n",
      "        plt.scatter(i[1:], E2d[timestep_dict[t], 1:])\n",
      "        plt.xlabel(r\"zone\")\n",
      "    else:\n",
      "        plt.scatter(R2d[timestep_dict[t], 1:], E2d[timestep_dict[t], 1:])\n",
      "        plt.xlabel(r\"$R$ [pc]\")    \n",
      "    plt.ylabel(r\"$E_\\mathrm{int}$ [erg g$^{-1}$]\")\n",
      "\n",
      "def plot_rho_graph(t, x_axis):\n",
      "    if x_axis is True:\n",
      "        plt.scatter(i[1:], rho2d[timestep_dict[t], 1:])\n",
      "        plt.xlabel(r\"zone\")\n",
      "    else:\n",
      "        plt.scatter(R2d[timestep_dict[t], 1:], rho2d[timestep_dict[t], 1:])\n",
      "        plt.xlabel(r\"$R$ [pc]\")\n",
      "    plt.ylabel(r\"$\\rho$ [g cm$^{-3}$]\")\n",
      "#    plt.ylim([1e-19, 1e-15])\n",
      "\n",
      "def plot_P_graph(t, x_axis):\n",
      "    if x_axis is True:\n",
      "        plt.scatter(i[1:], P2d[timestep_dict[t], 1:])\n",
      "        plt.xlabel(r\"zone\")\n",
      "    else:\n",
      "        plt.scatter(R2d[timestep_dict[t], 1:], P2d[timestep_dict[t], 1:])\n",
      "        plt.xlabel(r\"$R$ [pc]\")\n",
      "    plt.ylabel(r\"$P$ [dyne cm$^{-2}$]\")\n",
      "    \n",
      "def plot_s_graph(t, x_axis):\n",
      "    if x_axis is True:\n",
      "        plt.scatter(i[1:], s2d[timestep_dict[t], 1:])\n",
      "        plt.xlabel(r\"zone\")\n",
      "    else:\n",
      "        plt.scatter(R2d[timestep_dict[t], 1:], s2d[timestep_dict[t], 1:])\n",
      "        plt.xlabel(r\"$R$ [pc]\")\n",
      "    plt.ylabel(r\"$s$ [arbitrary units]\")\n",
      "\n",
      "\n",
      "def plot_Mass_graph(t, x_axis):\n",
      "    if x_axis is True:\n",
      "        plt.scatter(i[1:], Mass[1:] / M_solar)\n",
      "        plt.xlabel(r\"zone\")\n",
      "    else:\n",
      "        plt.scatter(R2d[timestep_dict[t], 1:],\n",
      "                    Mass[1:] / M_solar)\n",
      "        plt.xlabel(r\"$R$ [pc]\")\n",
      "    plt.ylabel(r\"$M$ [$M_\\odot$]\")\n",
      "    \n",
      "    \n",
      "def plot_M_int_graph(t, x_axis):\n",
      "    if x_axis is True:\n",
      "        plt.scatter(i[1:], M_int[1:] / M_solar)\n",
      "        plt.xlabel(r\"zone\")\n",
      "    else:\n",
      "        plt.scatter(R2d[timestep_dict[t], 1:],\n",
      "                    M_int[1:] / M_solar)\n",
      "        plt.xlabel(r\"$R$ [pc]\")\n",
      "    plt.ylabel(r\"$M_{int}$ [$M_\\odot$]\")\n",
      "    \n",
      "def plot_ExM_graph(t, x_axis):\n",
      "    if x_axis is True:\n",
      "        plt.scatter(i[1:], E2d[timestep_dict[t], 1:] * Mass[1:])\n",
      "        plt.xlabel(r\"zone\")\n",
      "    else:\n",
      "        plt.scatter(R2d[timestep_dict[t], 1:], \n",
      "                    E2d[timestep_dict[t], 1:] * Mass[1:])\n",
      "        plt.xlabel(r\"$R$ [pc]\")    \n",
      "    plt.ylabel(r\"$E \\cdot M$ [erg]\")\n",
      "    \n",
      "def plot_graphs(t=0, plot_variable=plot_rho_graph, x_axis=True, y_axis=True):\n",
      "    plt.xscale('linear')\n",
      "    if y_axis is True:\n",
      "        plt.yscale('log')\n",
      "    else:\n",
      "        plt.yscale('linear')\n",
      "    plot_variable(t, x_axis)\n",
      "    print(\"current time: \", time_total_info[timestep_dict[t]] / yr, \" years\")\n",
      "    print(\"energy conserved to: \", (E_tot_info[timestep_dict[t]] / E_tot_info[1] -1))\n",
      "\n",
      "\n",
      "interact(plot_graphs,\n",
      "    plot_variable={'T':plot_T_graph, 'u':plot_u_graph, \n",
      "                   'R':plot_R_graph, 'Mach':plot_mach_graph,\n",
      "                   'E':plot_E_graph, 'E * M': plot_ExM_graph,\n",
      "                   'rho':plot_rho_graph, \n",
      "                   'P':plot_P_graph, 's':plot_s_graph,\n",
      "                   \"Mass\":plot_Mass_graph, \"M_int\":plot_M_int_graph},\n",
      "    x_axis={'zones':True, 'R':False},\n",
      "    y_axis={'log':True, 'linear':False},\n",
      "    t=(time_min,time_max, timestep_jump));\n",
      "\n"
     ],
     "language": "python",
     "metadata": {},
     "outputs": [
      {
       "output_type": "stream",
       "stream": "stdout",
       "text": [
        "current time:  215.722891566  years\n",
        "energy conserved to:  -0.646521075528\n"
       ]
      },
      {
       "metadata": {},
       "output_type": "display_data",
       "png": "[encoded data removed]",
       "text": [
        "<matplotlib.figure.Figure at 0x113284d68>"
       ]
      }
     ],
     "prompt_number": 3
    },
    {
     "cell_type": "code",
     "collapsed": false,
     "input": [],
     "language": "python",
     "metadata": {},
     "outputs": []
    }
   ],
   "metadata": {}
  }
 ]
}