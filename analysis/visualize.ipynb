{
 "cells": [
  {
   "cell_type": "code",
   "execution_count": null,
   "metadata": {
    "collapsed": false
   },
   "outputs": [],
   "source": [
    "%matplotlib inline\n",
    "\n",
    "from __future__ import print_function, division\n",
    "\n",
    "import os, sys\n",
    "import glob\n",
    "import numpy as np\n",
    "import pandas as pd\n",
    "import matplotlib.pyplot as plt\n",
    "import ipywidgets as widgets\n",
    "from ipywidgets import interact, interactive, interact_manual\n",
    "from ipywidgets import FloatSlider, IntSlider, Dropdown\n",
    "from ipywidgets import Checkbox, RadioButtons, fixed \n",
    "\n",
    "from IPython.display import display, Math, clear_output\n",
    "\n",
    "from astropy.convolution import convolve, Gaussian1DKernel\n",
    "\n",
    "import seaborn as sns\n",
    "sns.set(context=\"poster\", font_scale=1.5)\n",
    "\n",
    "\n",
    "## import from local files\n",
    "\n",
    "## Boilerplate path hack to give access to full clustered_SNe package\n",
    "import os, sys\n",
    "if __package__ is None:\n",
    "    if os.pardir not in sys.path[0]:\n",
    "        file_dir = os.getcwd()\n",
    "        sys.path.insert(0, os.path.join(file_dir, \n",
    "                                        os.pardir, \n",
    "                                        os.pardir))\n",
    "\n",
    "from clustered_SNe.analysis.constants import m_proton, pc, yr, M_solar, \\\n",
    "                                   gamma, E_0, metallicity_solar\n",
    "    \n",
    "from clustered_SNe.analysis.sedov.dimensionalize_sedov import dimensionalized_sedov\n",
    "from clustered_SNe.analysis.sedov.closed_form_sedov import SedovSolution\n",
    "from clustered_SNe.analysis.parameter_study_file_structure import make_dirname_from_properties\n",
    "from clustered_SNe.analysis.parse import RunSummary, Overview, parse_run, cols\n",
    "\n",
    "\n",
    "general_string_format = \".2e\"\n",
    "\n",
    "from clustered_SNe.analysis.visualize_helpers import plotter, single_run, \\\n",
    "                                                     conduction_comparisons, \\\n",
    "                                                     parameter_study_wrapper, \\\n",
    "                                                     SNe_distplot, \\\n",
    "                                                     plot_zones, \\\n",
    "                                                     plot_shock_location, \\\n",
    "                                                     plot_energy, \\\n",
    "                                                     plot_momentum, \\\n",
    "                                                     plot_luminosity\n",
    "\n",
    "\n",
    "\n",
    "        \n",
    "# Holds the most recent run, if more analysis is desired\n",
    "last_run = RunSummary()    "
   ]
  },
  {
   "cell_type": "code",
   "execution_count": null,
   "metadata": {
    "collapsed": false
   },
   "outputs": [],
   "source": [
    "data_dir_default = \"../src/\"\n",
    "data_dir_default = \"../saved_runs/cluster_parameter_study\"\n",
    "\n",
    "\n",
    "# you don't need the full uuid, just enoughto distinguish it\n",
    "id_default = \"\"\n",
    "\n",
    "# last_run = single_run(data_dir=data_dir_default, id=id_default)\n",
    "result_widget = interact_manual(single_run,\n",
    "                                data_dir = widgets.Text(data_dir_default),\n",
    "                                id = widgets.Text(id_default))\n",
    "def update_last_run_single_run(widget):\n",
    "    \"\"\"Copy the latest result into last_run\n",
    "    \n",
    "    Don't reuse this function definition; needs to be bound to the correct result_widget\"\"\"\n",
    "    last_run.replace_with(result_widget.widget.result)\n",
    "result_widget.widget.children[0].on_submit(update_last_run_single_run)\n",
    "result_widget.widget.children[1].on_submit(update_last_run_single_run)\n",
    "result_widget.widget.children[2].on_click(update_last_run_single_run)\n",
    "\n"
   ]
  },
  {
   "cell_type": "code",
   "execution_count": null,
   "metadata": {
    "collapsed": false
   },
   "outputs": [],
   "source": [
    "time_left = last_run.overview.SNe_times.max() * 3 - last_run.times[-1]\n",
    "\n",
    "print(time_left)\n"
   ]
  },
  {
   "cell_type": "code",
   "execution_count": null,
   "metadata": {
    "collapsed": false
   },
   "outputs": [],
   "source": [
    "# data_dir = \"../saved_runs/conduction/H_1\"\n",
    "# H_0 = \"H_0\" in data_dir\n",
    "\n",
    "# M_cluster = 10**3* M_solar\n",
    "\n",
    "# conduction_comparisons(M_cluster, H_0, data_dir, num_SNe=2)\n"
   ]
  },
  {
   "cell_type": "code",
   "execution_count": null,
   "metadata": {
    "collapsed": false,
    "scrolled": false
   },
   "outputs": [],
   "source": [
    "# data_dir = \"../saved_runs/conduction/H_1\"\n",
    "# H_0 = \"H_0\" in data_dir\n",
    "\n",
    "# M_clusters = np.array([1e2, 1e3, 1e4, 1e5]) * M_solar\n",
    "# for M_cluster in M_clusters:\n",
    "#     plt.close()\n",
    "#     clear_output()\n",
    "#     conduction_comparisons(M_cluster, H_0, data_dir, num_SNe=2)\n"
   ]
  },
  {
   "cell_type": "code",
   "execution_count": null,
   "metadata": {
    "collapsed": false
   },
   "outputs": [],
   "source": [
    "# result_widget_parameter_study = interact_manual(parameter_study_wrapper,\n",
    "#                                 log_Z = FloatSlider(min=-3.0, max=+0.5, step=0.5, value=0),\n",
    "#                                 log_n = FloatSlider(min=-3.0, max=+3.0, step=1.0, value=-1),\n",
    "#                                 T     = fixed(1e4),\n",
    "#                                 with_cooling = True)\n",
    "# def update_last_run_parameter_study(widget):\n",
    "#     \"\"\"Copy the latest result into last_run\n",
    "    \n",
    "#     Don't reuse this function definition; needs to be bound to the correct result_widget\"\"\"\n",
    "#     last_run.replace_with(result_widget_parameter_study.widget.result)\n",
    "# result_widget_parameter_study.widget.children[-1].on_click(update_last_run_parameter_study)\n"
   ]
  },
  {
   "cell_type": "code",
   "execution_count": null,
   "metadata": {
    "collapsed": false
   },
   "outputs": [],
   "source": [
    "plot_zones(last_run)"
   ]
  },
  {
   "cell_type": "code",
   "execution_count": null,
   "metadata": {
    "collapsed": false
   },
   "outputs": [],
   "source": [
    "t = (last_run.times) / yr\n",
    "t_offset = last_run.times[0] / yr\n",
    "mask = t > .5\n",
    "\n",
    "from scipy import stats\n",
    "SNe_times = last_run.overview.SNe_times / yr\n",
    "sns.distplot(SNe_times)\n",
    "# plt.plot(SNe_times - t_offset, 4e-8 * (SNe_times/1e7)**-.63)\n",
    "# plt.plot(SNe_times, )\n",
    "\n",
    "shape,loc,scale = stats.powerlaw.fit(SNe_times-t_offset, floc=1e7 - t_offset, fscale=SNe_times.max()- t_offset)\n",
    "print(shape,loc,scale)\n",
    "plt.plot(SNe_times, stats.powerlaw.pdf(SNe_times-t_offset, shape,loc=loc, scale=scale), label=\"fit\")\n",
    "plt.legend(loc=\"best\")\n",
    "\n",
    "a_1 = shape-1\n",
    "a_2 = (a_1 + 3)/5\n",
    "print(\"a_1 (dE/dt ~ t^{a_1}) = \", a_1)\n",
    "print(\"a_2 (R ~ t^{a_2}) = \", a_2)\n",
    "\n",
    "plt.figure()\n",
    "\n",
    "R = last_run.R_shock / pc\n",
    "t = (last_run.times) / yr\n",
    "t_offset = last_run.times[0] / yr\n",
    "mask = t > .5\n",
    "t_0 = 1e7\n",
    "R_0 = R[np.argmin(np.abs((t-t_offset) - t_0))]\n",
    "\n",
    "plt.plot(t[mask], R[mask], label=\"data\")\n",
    "plt.plot(t[mask], R_0 * ((t[mask] - t_offset)/t_0)**.6, linestyle=\"dashed\", label=\"predicted (a_1 = 0)\")\n",
    "plt.plot(t[mask], R_0 * ((t[mask] - t_offset)/t_0)**a_2, linestyle=\"dashed\", label=\"predicted (a_1 from SNe)\")\n",
    "plt.plot(t[mask], R_0 * ((t[mask] - t_offset)/t_0)**.53, linestyle=\"dashed\", label=\"fit by eye\")\n",
    "plt.xlabel(\"time [yr]\")\n",
    "plt.ylabel(\"R [pc]\")\n",
    "plt.legend(loc=\"best\")\n",
    "# plt.xscale(\"log\")\n",
    "# plt.yscale(\"log\")\n",
    "\n",
    "plt.figure()\n",
    "momentum = last_run.momentum\n",
    "t_0 = 1e7\n",
    "momentum_0 = momentum[np.argmin(np.abs((t-t_offset) - t_0))]\n",
    "\n",
    "plt.plot(t[mask], momentum[mask], label=\"data\")\n",
    "plt.plot(t[mask], momentum_0 * ((t[mask] - t_offset)/t_0)**1.4, linestyle=\"dashed\", label=\"predicted (a_1 = 0)\")\n",
    "plt.plot(t[mask], momentum_0 * ((t[mask] - t_offset)/t_0)**(4*a_2 - 1), linestyle=\"dashed\", label=\"predicted (a_1 free)\")\n",
    "plt.plot(t[mask], momentum_0 * ((t[mask] - t_offset)/t_0)**((.53*4) - 1), linestyle=\"dashed\", label=\"predicted by shock fit (a_1=0)\")\n",
    "plt.plot(t[mask], momentum_0 * ((t[mask] - t_offset)/t_0)**1.1, linestyle=\"dashed\", label=\"fit by eye\")\n",
    "plt.xlabel(\"time [yr]\")\n",
    "plt.ylabel(\"momentum [g cm s-1]\")\n",
    "plt.legend(loc=\"best\")\n",
    "# plt.xscale(\"log\")\n",
    "# plt.yscale(\"log\")"
   ]
  },
  {
   "cell_type": "code",
   "execution_count": null,
   "metadata": {
    "collapsed": false,
    "scrolled": false
   },
   "outputs": [],
   "source": [
    "plot_shock_location(last_run)"
   ]
  },
  {
   "cell_type": "code",
   "execution_count": null,
   "metadata": {
    "collapsed": false,
    "scrolled": false
   },
   "outputs": [],
   "source": [
    "_ = interact(plot_energy,\n",
    "         last_run=fixed(last_run),\n",
    "         x_axis = RadioButtons(options=[\"time\", \"checkpoints\"]))"
   ]
  },
  {
   "cell_type": "code",
   "execution_count": null,
   "metadata": {
    "collapsed": true
   },
   "outputs": [],
   "source": [
    "# last_run.overview.cluster_mass = 100 * M_solar"
   ]
  },
  {
   "cell_type": "code",
   "execution_count": null,
   "metadata": {
    "collapsed": false,
    "scrolled": false
   },
   "outputs": [],
   "source": [
    "_ = interact(plot_momentum,\n",
    "         last_run=fixed(last_run),\n",
    "         x_axis = RadioButtons(options=[\"time\", \"checkpoints\"]),\n",
    "         clear_previous=fixed(True),\n",
    "         distplot=fixed(True))\n",
    "plt.ylim(ymax=5e3)"
   ]
  },
  {
   "cell_type": "code",
   "execution_count": null,
   "metadata": {
    "collapsed": false
   },
   "outputs": [],
   "source": [
    "_ = interact(plot_luminosity,\n",
    "         last_run=fixed(last_run),\n",
    "         x_axis = RadioButtons(options=[\"time\", \"checkpoints\"]))\n"
   ]
  },
  {
   "cell_type": "code",
   "execution_count": null,
   "metadata": {
    "collapsed": true
   },
   "outputs": [],
   "source": []
  }
 ],
 "metadata": {
  "kernelspec": {
   "display_name": "Python 3",
   "language": "python",
   "name": "python3"
  },
  "language_info": {
   "codemirror_mode": {
    "name": "ipython",
    "version": 3
   },
   "file_extension": ".py",
   "mimetype": "text/x-python",
   "name": "python",
   "nbconvert_exporter": "python",
   "pygments_lexer": "ipython3",
   "version": "3.4.3"
  }
 },
 "nbformat": 4,
 "nbformat_minor": 0
}
