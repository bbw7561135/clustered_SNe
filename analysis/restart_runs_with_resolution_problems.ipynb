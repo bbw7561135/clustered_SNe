{
 "cells": [
  {
   "cell_type": "code",
   "execution_count": null,
   "metadata": {
    "collapsed": false
   },
   "outputs": [],
   "source": [
    "from __future__ import print_function\n",
    "\n",
    "import numpy as np\n",
    "import glob\n",
    "\n",
    "\n",
    "## Boilerplate path hack to give access to full clustered_SNe package\n",
    "import sys, os\n",
    "if __package__ is None:\n",
    "    if os.pardir not in sys.path[0]:\n",
    "        file_dir = os.getcwd()\n",
    "        sys.path.insert(0, os.path.join(file_dir, \n",
    "                                        os.pardir, \n",
    "                                        os.pardir))\n",
    "        \n",
    "from clustered_SNe import data_dir_default\n",
    "from clustered_SNe.analysis.constants import m_proton, pc, yr, M_solar, \\\n",
    "                                   metallicity_solar\n",
    "from clustered_SNe.analysis.parse import Overview, RunSummary, \\\n",
    "                                         Inputs, \\\n",
    "                                         get_full_id_from_partial_id, \\\n",
    "                                         checkpoint_num_from_filename\n",
    "\n",
    "from clustered_SNe.analysis.database_helpers import session, \\\n",
    "                                                Simulation, \\\n",
    "                                                Simulation_Inputs, \\\n",
    "                                                Simulation_Status\n"
   ]
  },
  {
   "cell_type": "code",
   "execution_count": null,
   "metadata": {
    "collapsed": true
   },
   "outputs": [],
   "source": [
    "data_dir = data_dir_default"
   ]
  },
  {
   "cell_type": "code",
   "execution_count": null,
   "metadata": {
    "collapsed": false
   },
   "outputs": [],
   "source": [
    "id_tuples = []\n",
    "for filename in glob.glob(os.path.join(data_dir, \"*_overview.dat\")):\n",
    "    overview = Overview(filename)\n",
    "    if overview.num_SNe != 1:\n",
    "        continue\n",
    "    run_summary = RunSummary(overview.dirname, overview.id)\n",
    "    current_status = session.query(Simulation_Status).get(overview.id).status\n",
    "    delta_time = run_summary.times.max() - run_summary.times.min()\n",
    "    if delta_time <=0 :\n",
    "        raise RuntimeError(\"delta_time not positive\")\n",
    "    if np.any(run_summary.momentum < 0):\n",
    "        id_tuples.append((overview.id, \"negative momentum\", current_status, delta_time))\n",
    "        continue\n",
    "    if run_summary.num_momenta_maxima() > 1:\n",
    "        id_tuples.append((overview.id, \"too many momentum maxima\", current_status, delta_time))\n",
    "        continue\n",
    "    if run_summary.num_momenta_maxima == 0 :\n",
    "        id_tuples.append((overview.id, \"no momentum maxima?\", current_status, delta_time))\n",
    "        continue\n",
    "    if not run_summary.is_time_resolved():\n",
    "        id_tuples.append((overview.id, \"not time resolved\", current_status, delta_time))\n",
    "        continue\n",
    "        \n",
    "    \n",
    "    "
   ]
  },
  {
   "cell_type": "code",
   "execution_count": null,
   "metadata": {
    "collapsed": false
   },
   "outputs": [],
   "source": [
    "restart_dir = \"restart_resolution\"\n",
    "\n",
    "qsub_systems = set([\"SGE\", \"PBS\"])\n",
    "qsub_system = \"PBS\"\n",
    "assert(qsub_system in qsub_systems)\n",
    "    \n",
    "f_submit = open(\"submit_script\", mode=\"w\")\n",
    "f_submit.write(\"#!/bin/bash \\n\")\n",
    "\n",
    "f_delete = open(\"delete_script\", mode=\"w\")\n",
    "f_delete.write(\"#!/bin/bash \\n\")\n",
    "f_delete.write(\"mkdir -p _tmp_ \\n\")\n",
    "\n",
    "f_copy = open(\"copy_script\", mode=\"w\")\n",
    "f_copy.write(\"#!/bin/bash \\n\")\n",
    "f_copy.write(\"mkdir -p ../\" + restart_dir + \"\\n\")\n",
    "\n",
    "for id, reason, status, delta_time in id_tuples:\n",
    "\n",
    "    print(\"id: \", id)\n",
    "        \n",
    "    first_checkpoint_filename  = id + \"_checkpoint_0000.dat\"\n",
    "    \n",
    "    restart_checkpoints_needed = 99\n",
    "    \n",
    "    restart_time_needed = .3 * delta_time\n",
    "    print(\"extra time needed: \", restart_time_needed, \"[s]\")\n",
    "\n",
    "    print(\"\")\n",
    "\n",
    "    CFL = .025\n",
    "\n",
    "    f_submit.write(\"qsub \" +\n",
    "                       \"-v RESTART_ID=\" + id + \",\"\n",
    "                       + \"RESTART_N_CHECKPOINTS=\" + str(restart_checkpoints_needed) + \",\"\n",
    "                       + \"RESTART_DELTA_TIME=\" + str(restart_time_needed) + \",\"\n",
    "                       + \"RESTART_CFL=\" + str(CFL)\n",
    "                    + \" -N \" + id + \"_restart.batch \"\n",
    "                    + \" ../scripts/\" + qsub_system + \"/restart.batch.env_variables \\n\")\n",
    "    \n",
    "    f_delete.write(\"cp -p       \" + first_checkpoint_filename + \" _tmp_/ \\n\")\n",
    "    f_delete.write(\"rm          \" + id + \"_checkpoint_*.dat \\n\")\n",
    "    f_delete.write(\"cp -p _tmp_/\" + first_checkpoint_filename + \" . \\n\")\n",
    "    \n",
    "    f_copy.write(\"cp -p \" + first_checkpoint_filename + \" ../\" + restart_dir + \" \\n\")\n",
    "    f_copy.write(\"cp -p \" + id + \"_overview.dat       \" + \" ../\" + restart_dir + \" \\n\")\n",
    "    f_copy.write(\"cp -p \" + id + \"_SNe.dat            \" + \" ../\" + restart_dir + \" \\n\")\n",
    "    f_copy.write(\"cp -p \" + id + \"_inputs.dat         \" + \" ../\" + restart_dir + \" \\n\")\n",
    "     \n",
    "f_delete.write(\"rm -rf _tmp_ \\n\")\n",
    "f_submit.close()\n",
    "f_copy.close()\n",
    "f_delete.close()"
   ]
  },
  {
   "cell_type": "code",
   "execution_count": null,
   "metadata": {
    "collapsed": false
   },
   "outputs": [],
   "source": [
    "for id in ids:\n",
    "    session.query(Simulation_Status).filter(Simulation_Status.id == id).update({\"status\":\"Running\"})\n",
    "    sim_status = session.query(Simulation_Status).get(id)\n",
    "    print(sim_status.status)\n",
    "    print(id)"
   ]
  },
  {
   "cell_type": "code",
   "execution_count": null,
   "metadata": {
    "collapsed": false
   },
   "outputs": [],
   "source": [
    "session.commit()"
   ]
  }
 ],
 "metadata": {
  "kernelspec": {
   "display_name": "Python 3",
   "language": "python",
   "name": "python3"
  },
  "language_info": {
   "codemirror_mode": {
    "name": "ipython",
    "version": 3
   },
   "file_extension": ".py",
   "mimetype": "text/x-python",
   "name": "python",
   "nbconvert_exporter": "python",
   "pygments_lexer": "ipython3",
   "version": "3.4.4"
  }
 },
 "nbformat": 4,
 "nbformat_minor": 0
}
