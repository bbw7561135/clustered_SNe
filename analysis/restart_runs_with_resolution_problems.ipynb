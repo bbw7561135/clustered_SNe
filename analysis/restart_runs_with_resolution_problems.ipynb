{
 "cells": [
  {
   "cell_type": "code",
   "execution_count": null,
   "metadata": {
    "collapsed": false
   },
   "outputs": [],
   "source": [
    "from __future__ import print_function\n",
    "\n",
    "import numpy as np\n",
    "import glob\n",
    "import platform\n",
    "\n",
    "\n",
    "## Boilerplate path hack to give access to full clustered_SNe package\n",
    "import sys, os\n",
    "if __package__ is None:\n",
    "    if os.pardir not in sys.path[0]:\n",
    "        file_dir = os.getcwd()\n",
    "        sys.path.insert(0, os.path.join(file_dir, \n",
    "                                        os.pardir, \n",
    "                                        os.pardir))\n",
    "        \n",
    "\n",
    "from clustered_SNe.analysis.constants import m_proton, pc, yr, M_solar, \\\n",
    "                                   metallicity_solar\n",
    "from clustered_SNe.analysis.parse import Overview, RunSummary, \\\n",
    "                                         Inputs, \\\n",
    "                                         get_full_id_from_partial_id, \\\n",
    "                                         checkpoint_num_from_filename\n",
    "\n",
    "from clustered_SNe.analysis.database_helpers import session, \\\n",
    "                                                Simulation, \\\n",
    "                                                Simulation_Inputs, \\\n",
    "                                                Simulation_Status\n"
   ]
  },
  {
   "cell_type": "code",
   "execution_count": null,
   "metadata": {
    "collapsed": false
   },
   "outputs": [],
   "source": [
    "if (\"hyades\" in platform.node()) or (\"eudora\" in platform.node()):\n",
    "    data_dir = \"../cluster_parameter_study/\"\n",
    "else:\n",
    "    data_dir = \"../saved_runs/cluster_parameter_study/\""
   ]
  },
  {
   "cell_type": "code",
   "execution_count": null,
   "metadata": {
    "collapsed": false
   },
   "outputs": [],
   "source": [
    "energy_ids = [\n",
    "    \"b5f8a507-0bbe-422e-8ee6-2f6e53813027\",\n",
    "\"0522ca33-c440-4384-ba16-2db6998fc8d0\",\n",
    "\"7ddb48b1-ca9d-4c87-808a-a5fa6c59b687\",\n",
    "\"3cf9d3f4-b657-4437-a59f-324de0b52763\",\n",
    "\"2af1f468-1aaa-471f-beec-d94c328a445b\",\n",
    "\"51e34873-903a-4a3b-8b27-26830709c9b6\",\n",
    "\"20b4fccc-e53f-48ca-894b-3ee282bad8ea\",\n",
    "\"f2a0cce6-88ca-4bfc-b6e9-be77356ee0bb\",\n",
    "\"741000c8-441e-4361-bbcc-bed2ac836ad8\",\n",
    "\"468f39c5-c4ad-472b-878e-e468224cac52\",\n",
    "]\n",
    "\n",
    "resolution_ids = [\n",
    "    \"26e43ef9-1710-4629-96fa-6ac055930dad\",\n",
    "\"9f8d633d-40e7-4c7b-b309-37b3218fcd1a\",\n",
    "\"59b7f2b4-ed74-48bc-ab18-7a860043a7de\",\n",
    "\"2af1f468-1aaa-471f-beec-d94c328a445b\",\n",
    "\"c381b033-8dfe-4ab9-acb2-5a28fc49e9f4\",\n",
    "\"7ddb48b1-ca9d-4c87-808a-a5fa6c59b687\",\n",
    "\"7d54ea03-7abd-429b-9438-39b0dfcbbe8f\",\n",
    "\"3cf9d3f4-b657-4437-a59f-324de0b52763\",\n",
    "\"6a3b2459-9dcc-424c-a836-c23575424395\",\n",
    "\"741000c8-441e-4361-bbcc-bed2ac836ad8\",\n",
    "\"468f39c5-c4ad-472b-878e-e468224cac52\",\n",
    "\"f22ff92d-fd0e-4a13-8372-7275e0bf41ed\",\n",
    "\"372eac02-4b98-4434-86ab-f7adaf4cbb11\",\n",
    "]\n",
    "\n",
    "ids = []\n",
    "for rid in resolution_ids:\n",
    "    if rid in energy_ids:\n",
    "        continue\n",
    "    overview = Overview(os.path.join(data_dir, rid + \"_overview.dat\"))\n",
    "    if overview.SNe_times.size > 1:\n",
    "        continue\n",
    "    ids.append(rid)"
   ]
  },
  {
   "cell_type": "code",
   "execution_count": null,
   "metadata": {
    "collapsed": false
   },
   "outputs": [],
   "source": [
    "restart_dir = \"restart_resolution\"\n",
    "\n",
    "qsub_systems = set([\"SGE\", \"PBS\"])\n",
    "qsub_system = \"PBS\"\n",
    "assert(qsub_system in qsub_systems)\n",
    "    \n",
    "f_submit = open(\"submit_script\", mode=\"w\")\n",
    "f_submit.write(\"#!/bin/bash \\n\")\n",
    "\n",
    "f_delete = open(\"delete_script\", mode=\"w\")\n",
    "f_delete.write(\"#!/bin/bash \\n\")\n",
    "f_delete.write(\"mkdir -p _tmp_ \\n\")\n",
    "\n",
    "\n",
    "f_copy = open(\"copy_script\", mode=\"w\")\n",
    "f_copy.write(\"#!/bin/bash \\n\")\n",
    "f_copy.write(\"mkdir -p ../\" + restart_dir + \"\\n\")\n",
    "\n",
    "for id in ids:\n",
    "\n",
    "    print(\"id: \", id)\n",
    "        \n",
    "    first_checkpoint_filename  = id + \"_checkpoint_0000.dat\"\n",
    "    \n",
    "    restart_checkpoints_needed = 99\n",
    "    \n",
    "    restart_time_needed = 3e-2 * 3e15\n",
    "    print(\"extra time needed: \", restart_time_needed, \"[s]\")\n",
    "\n",
    "    print(\"\")\n",
    "\n",
    "    CFL = .025\n",
    "\n",
    "    f_submit.write(\"qsub \" +\n",
    "                       \"-v RESTART_ID=\" + id + \",\"\n",
    "                       + \"RESTART_N_CHECKPOINTS=\" + str(restart_checkpoints_needed) + \",\"\n",
    "                       + \"RESTART_DELTA_TIME=\" + str(restart_time_needed) + \",\"\n",
    "                       + \"RESTART_CFL=\" + str(CFL)\n",
    "                    + \" ../scripts/\" + qsub_system + \"/restart.batch.env_variables \\n\")\n",
    "    \n",
    "    f_delete.write(\"mv \" + first_checkpoint_filename + \" _tmp_/ \\n\")\n",
    "    f_delete.write(\"rm -f \" + id + \"_checkpoint_*.dat \\n\")\n",
    "    f_delete.write(\"mv _tmp_/\" + first_checkpoint_filename + \" . \\n\")\n",
    "    \n",
    "    f_copy.write(\"cp \" + first_checkpoint_filename + \" ../\" + restart_dir + \" \\n\")\n",
    "    f_copy.write(\"cp \" + id + \"_overview.dat       \" + \" ../\" + restart_dir + \" \\n\")\n",
    "    f_copy.write(\"cp \" + id + \"_SNe.dat            \" + \" ../\" + restart_dir + \" \\n\")\n",
    "    f_copy.write(\"cp \" + id + \"_inputs.dat         \" + \" ../\" + restart_dir + \" \\n\")\n",
    "     \n",
    "f_delete.write(\"rm -rf _tmp_ \\n\")\n",
    "f_submit.close()\n",
    "f_copy.close()\n",
    "f_delete.close()"
   ]
  },
  {
   "cell_type": "code",
   "execution_count": null,
   "metadata": {
    "collapsed": false
   },
   "outputs": [],
   "source": [
    "for id in ids:\n",
    "#     full_id = get_full_id_from_partial_id(data_dir, id)\n",
    "    session.query(Simulation_Status).filter(Simulation_Status.id == id).update({\"status\":\"Running\"})\n",
    "    sim_status = session.query(Simulation_Status).get(id)\n",
    "    print(sim_status.status)\n",
    "    print(id)"
   ]
  },
  {
   "cell_type": "code",
   "execution_count": null,
   "metadata": {
    "collapsed": false
   },
   "outputs": [],
   "source": [
    "session.commit()"
   ]
  }
 ],
 "metadata": {
  "kernelspec": {
   "display_name": "Python 3",
   "language": "python",
   "name": "python3"
  },
  "language_info": {
   "codemirror_mode": {
    "name": "ipython",
    "version": 3
   },
   "file_extension": ".py",
   "mimetype": "text/x-python",
   "name": "python",
   "nbconvert_exporter": "python",
   "pygments_lexer": "ipython3",
   "version": "3.4.4"
  }
 },
 "nbformat": 4,
 "nbformat_minor": 0
}
