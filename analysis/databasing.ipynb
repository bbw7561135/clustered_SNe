{
 "cells": [
  {
   "cell_type": "code",
   "execution_count": 1,
   "metadata": {
    "collapsed": false
   },
   "outputs": [
    {
     "name": "stderr",
     "output_type": "stream",
     "text": [
      "/Users/egentry/anaconda/lib/python3.4/site-packages/IPython/kernel/__init__.py:13: ShimWarning: The `IPython.kernel` package has been deprecated. You should import from ipykernel or jupyter_client instead.\n",
      "  \"You should import from ipykernel or jupyter_client instead.\", ShimWarning)\n"
     ]
    }
   ],
   "source": [
    "from __future__ import print_function\n",
    "\n",
    "from sqlalchemy import create_engine, Column, Integer, String, Float\n",
    "from sqlalchemy.ext.declarative import declarative_base\n",
    "from sqlalchemy.orm import sessionmaker\n",
    "from sqlalchemy.sql import exists\n",
    "\n",
    "import datetime\n",
    "import numpy as np\n",
    "import glob\n",
    "\n",
    "from multiprocessing import Pool\n",
    "\n",
    "## Boilerplate path hack to give access to full clustered_SNe package\n",
    "import os,sys\n",
    "if __package__ is None:\n",
    "    if os.pardir not in sys.path[0]:\n",
    "        file_dir = os.getcwd()\n",
    "        sys.path.insert(0, os.path.join(file_dir, \n",
    "                                        os.pardir, \n",
    "                                        os.pardir))\n",
    "        \n",
    "\n",
    "from clustered_SNe.analysis.constants import m_proton, pc, yr, M_solar, \\\n",
    "                                   metallicity_solar\n",
    "from clustered_SNe.analysis.parse import Overview, parse_run, \\\n",
    "                                         Inputs\n",
    "    \n",
    "from clustered_SNe.analysis.database_helpers import session, \\\n",
    "                                                Simulation, \\\n",
    "                                                Simulation_Inputs\n",
    "\n"
   ]
  },
  {
   "cell_type": "markdown",
   "metadata": {},
   "source": [
    "#### Helpful resource:\n",
    "http://docs.sqlalchemy.org/en/latest/orm/tutorial.html"
   ]
  },
  {
   "cell_type": "code",
   "execution_count": 2,
   "metadata": {
    "collapsed": false
   },
   "outputs": [],
   "source": [
    "class Momentum_Surface_Point(object):\n",
    "    def __init__(self, simulation):\n",
    "        self.mass = simulation.cluster_mass\n",
    "        self.momentum = simulation.momentum\n",
    "        self.density = simulation.background_density\n",
    "        self.metallicity = simulation.metallicity\n",
    "        self.id = simulation.id"
   ]
  },
  {
   "cell_type": "code",
   "execution_count": 3,
   "metadata": {
    "collapsed": false
   },
   "outputs": [],
   "source": [
    "def parse_into_simulations(data_dir_and_id):\n",
    "    # wrapper function to allow multiprocessing + map\n",
    "    data_dir, id = data_dir_and_id\n",
    "    last_run = parse_run(data_dir, id)\n",
    "    simulation = Simulation.from_last_run(data_dir, last_run)\n",
    "    \n",
    "    inputs = Inputs(os.path.join(data_dir, id + \"_inputs.dat\"))\n",
    "    simulation_inputs = Simulation_Inputs.from_Inputs(id, inputs)\n",
    "    return simulation, simulation_inputs\n",
    "        "
   ]
  },
  {
   "cell_type": "code",
   "execution_count": 4,
   "metadata": {
    "collapsed": false
   },
   "outputs": [],
   "source": [
    "for sim in session.query(Simulation):\n",
    "    print(sim)"
   ]
  },
  {
   "cell_type": "code",
   "execution_count": 5,
   "metadata": {
    "collapsed": false
   },
   "outputs": [],
   "source": [
    "for sim_inputs in session.query(Simulation_Inputs):\n",
    "    print(sim_inputs)"
   ]
  },
  {
   "cell_type": "code",
   "execution_count": 7,
   "metadata": {
    "collapsed": false
   },
   "outputs": [],
   "source": [
    "def add_entire_dir_to_database(data_dir):\n",
    "    overview_filenames = glob.glob(os.path.join(data_dir, \"*overview.dat\"))\n",
    "    ids = [None]*len(overview_filenames)\n",
    "    for k, filename in enumerate(overview_filenames):\n",
    "        ids[k] = os.path.basename(filename).split(\"_overview.dat\")[0]\n",
    "#     print(ids)\n",
    "\n",
    "    mappable_inputs = [(data_dir, id) for id in ids][0:4]\n",
    "    \n",
    "    pool = Pool(4)\n",
    "    simulation_tuples = pool.map(parse_into_simulations, mappable_inputs)\n",
    "    for simulation, simulation_inputs in simulation_tuples:\n",
    "        simulation.add_or_update_to_table()\n",
    "        simulation_inputs.add_or_update_to_table()\n",
    "add_entire_dir_to_database(\"../saved_runs/cluster_parameter_study_new\")"
   ]
  },
  {
   "cell_type": "code",
   "execution_count": null,
   "metadata": {
    "collapsed": false
   },
   "outputs": [],
   "source": [
    "session.commit()"
   ]
  },
  {
   "cell_type": "code",
   "execution_count": 3,
   "metadata": {
    "collapsed": false
   },
   "outputs": [],
   "source": [
    "session.close()"
   ]
  },
  {
   "cell_type": "markdown",
   "metadata": {},
   "source": [
    "# Use the database"
   ]
  },
  {
   "cell_type": "code",
   "execution_count": 8,
   "metadata": {
    "collapsed": false
   },
   "outputs": [],
   "source": [
    "points = []\n",
    "\n",
    "for simulation in session.query(Simulation):\n",
    "    point = Momentum_Surface_Point(simulation)\n",
    "    points.append(point)"
   ]
  },
  {
   "cell_type": "code",
   "execution_count": 9,
   "metadata": {
    "collapsed": false
   },
   "outputs": [],
   "source": [
    "momenta = [point.momentum for point in points if (point.metallicity==metallicity_solar)]\n",
    "masses = [point.mass for point in points if (point.metallicity==metallicity_solar)]\n",
    "densities = [point.density for point in points if (point.metallicity==metallicity_solar)]\n",
    "\n",
    "momenta = np.array(momenta)\n",
    "masses = np.array(masses)\n",
    "densities = np.array(densities)\n",
    "\n",
    "momenta = momenta / masses / 1e5\n",
    "masses = masses / M_solar\n",
    "densities\n",
    "\n",
    "masses_set = set()\n",
    "for mass in masses:\n",
    "    masses_set.add(mass)\n",
    "\n",
    "density_set = set()\n",
    "for density in densities:\n",
    "    density_set.add(density)\n",
    "    \n",
    "masses_1D = np.sort(list(masses_set))\n",
    "densities_1D = np.sort(list(density_set))\n",
    "\n",
    "masses_2D, densities_2D = np.meshgrid(masses_1D, densities_1D) \n",
    "\n",
    "momenta_2D = np.empty_like(masses_2D)\n",
    "\n",
    "for i,mass in enumerate(masses_1D):\n",
    "    for j,density in enumerate(densities_1D):\n",
    "        good_masses = (masses == mass)\n",
    "        good_densities = (densities == density)\n",
    "        good = good_masses & good_densities\n",
    "        print(\"good momenta: \", momenta[good])\n",
    "        print(\"mass: {0}   density:  {1}\".format(mass, density))\n",
    "        print()\n",
    "        momenta_2D[j,i] = np.average(momenta[good])\n",
    "    \n",
    "momenta_2D[momenta_2D == 0] = 1"
   ]
  },
  {
   "cell_type": "code",
   "execution_count": 12,
   "metadata": {
    "collapsed": false,
    "scrolled": true
   },
   "outputs": [],
   "source": [
    "%matplotlib notebook\n",
    "import matplotlib.pyplot as plt\n",
    "import numpy as np\n",
    "\n",
    "from mpl_toolkits.mplot3d import axes3d\n",
    "fig = plt.figure()\n",
    "ax = fig.add_subplot(111, projection='3d')\n",
    "\n",
    "\n",
    "surf = ax.plot_wireframe(np.log10(masses_2D), np.log10(densities_2D), momenta_2D, rstride=1, cstride=1,\n",
    "                       linewidth=1)\n",
    "\n",
    "plt.xlabel(\"Mass\")\n",
    "plt.ylabel(\"density\")\n",
    "plt.show()"
   ]
  }
 ],
 "metadata": {
  "kernelspec": {
   "display_name": "Python 3",
   "language": "python",
   "name": "python3"
  },
  "language_info": {
   "codemirror_mode": {
    "name": "ipython",
    "version": 3
   },
   "file_extension": ".py",
   "mimetype": "text/x-python",
   "name": "python",
   "nbconvert_exporter": "python",
   "pygments_lexer": "ipython3",
   "version": "3.4.3"
  }
 },
 "nbformat": 4,
 "nbformat_minor": 0
}
