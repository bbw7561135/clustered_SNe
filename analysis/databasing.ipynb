{
 "cells": [
  {
   "cell_type": "code",
   "execution_count": null,
   "metadata": {
    "collapsed": false
   },
   "outputs": [],
   "source": [
    "from __future__ import print_function\n",
    "\n",
    "import datetime\n",
    "import numpy as np\n",
    "import glob\n",
    "import warnings\n",
    "\n",
    "from multiprocessing import Pool\n",
    "\n",
    "## Boilerplate path hack to give access to full clustered_SNe package\n",
    "import sys, os\n",
    "if __package__ is None:\n",
    "    if os.pardir not in sys.path[0]:\n",
    "        file_dir = os.getcwd()\n",
    "        sys.path.insert(0, os.path.join(file_dir, \n",
    "                                        os.pardir, \n",
    "                                        os.pardir))\n",
    "        \n",
    "\n",
    "from clustered_SNe.analysis.constants import m_proton, pc, yr, M_solar, \\\n",
    "                                   metallicity_solar\n",
    "from clustered_SNe.analysis.parse import Overview, RunSummary, \\\n",
    "                                         Inputs\n",
    "    \n",
    "from clustered_SNe.analysis.database_helpers import session, \\\n",
    "                                                Simulation, \\\n",
    "                                                Simulation_Inputs, \\\n",
    "                                                Simulation_Status\n",
    "\n"
   ]
  },
  {
   "cell_type": "markdown",
   "metadata": {},
   "source": [
    "#### Helpful resource:\n",
    "http://docs.sqlalchemy.org/en/latest/orm/tutorial.html"
   ]
  },
  {
   "cell_type": "code",
   "execution_count": null,
   "metadata": {
    "collapsed": true
   },
   "outputs": [],
   "source": [
    "data_dir = \"../saved_runs/cluster_parameter_study/\""
   ]
  },
  {
   "cell_type": "code",
   "execution_count": null,
   "metadata": {
    "collapsed": true
   },
   "outputs": [],
   "source": [
    "data_dir = \"../saved_runs/cluster_parameter_study/\"\n",
    "id = \"f8644401\"\n",
    "run_summary = RunSummary(data_dir=data_dir, id=id)"
   ]
  },
  {
   "cell_type": "code",
   "execution_count": null,
   "metadata": {
    "collapsed": false
   },
   "outputs": [],
   "source": [
    "s = Simulation_Status.from_run_summary(run_summary)"
   ]
  },
  {
   "cell_type": "code",
   "execution_count": null,
   "metadata": {
    "collapsed": false
   },
   "outputs": [],
   "source": [
    "s.status"
   ]
  },
  {
   "cell_type": "code",
   "execution_count": null,
   "metadata": {
    "collapsed": false
   },
   "outputs": [],
   "source": [
    "def parse_into_simulations(data_dir_and_id):\n",
    "    # wrapper function to allow multiprocessing + map\n",
    "    data_dir, id = data_dir_and_id\n",
    "    run_summary = RunSummary(data_dir=data_dir, id=id)\n",
    "\n",
    "    simulation = Simulation.from_run_summary(run_summary)\n",
    "    \n",
    "    inputs = Inputs(os.path.join(data_dir, id + \"_inputs.dat\"))\n",
    "    simulation_inputs = Simulation_Inputs.from_Inputs(id, inputs)\n",
    "    \n",
    "    simulation_status = Simulation_Status.from_run_summary(run_summary)\n",
    "    \n",
    "    \n",
    "    return simulation, simulation_inputs, simulation_status\n",
    "        "
   ]
  },
  {
   "cell_type": "markdown",
   "metadata": {},
   "source": [
    "# Check which rows already exist"
   ]
  },
  {
   "cell_type": "code",
   "execution_count": null,
   "metadata": {
    "collapsed": false
   },
   "outputs": [],
   "source": [
    "for sim in session.query(Simulation):\n",
    "    print(sim)"
   ]
  },
  {
   "cell_type": "code",
   "execution_count": null,
   "metadata": {
    "collapsed": false
   },
   "outputs": [],
   "source": [
    "for sim_inputs in session.query(Simulation_Inputs):\n",
    "    print(sim_inputs)"
   ]
  },
  {
   "cell_type": "markdown",
   "metadata": {},
   "source": [
    "# Add files to database in batch"
   ]
  },
  {
   "cell_type": "code",
   "execution_count": null,
   "metadata": {
    "collapsed": false,
    "scrolled": true
   },
   "outputs": [],
   "source": [
    "def add_entire_dir_to_database(data_dir):\n",
    "    overview_filenames = glob.glob(os.path.join(data_dir, \"*overview.dat\"))\n",
    "    ids = [None]*len(overview_filenames)\n",
    "    for k, filename in enumerate(overview_filenames):\n",
    "        ids[k] = os.path.basename(filename).split(\"_overview.dat\")[0]\n",
    "\n",
    "    ids = ids[:4]\n",
    "\n",
    "    mappable_inputs = [(data_dir, id) for id in ids]\n",
    "    \n",
    "    pool = Pool(4)\n",
    "    simulation_tuples = pool.map(parse_into_simulations, mappable_inputs)\n",
    "    for simulation, simulation_inputs, simulation_status in simulation_tuples:\n",
    "        simulation.add_or_update_to_table()\n",
    "        simulation_inputs.add_or_update_to_table()\n",
    "        simulation_status.add_or_update_to_table()\n",
    "add_entire_dir_to_database(data_dir)"
   ]
  },
  {
   "cell_type": "markdown",
   "metadata": {},
   "source": [
    "# Check statuses from database"
   ]
  },
  {
   "cell_type": "code",
   "execution_count": null,
   "metadata": {
    "collapsed": false
   },
   "outputs": [],
   "source": [
    "statuses = np.array([status.status for status in session.query(Simulation_Status)])\n",
    "counts = {status : 0 for status in Simulation_Status.possible_statuses}\n",
    "\n",
    "for status in statuses:\n",
    "    counts[status] += 1\n",
    "\n",
    "print(counts)"
   ]
  },
  {
   "cell_type": "code",
   "execution_count": null,
   "metadata": {
    "collapsed": false
   },
   "outputs": [],
   "source": [
    "for simulation_status in session.query(Simulation_Status).filter(Simulation_Status.status == \"Error\"):\n",
    "    print(simulation_status.id)"
   ]
  },
  {
   "cell_type": "code",
   "execution_count": null,
   "metadata": {
    "collapsed": false
   },
   "outputs": [],
   "source": [
    "for simulation_status in session.query(Simulation_Status).filter(Simulation_Status.status == \"Running\"):\n",
    "    print(simulation_status.id)"
   ]
  },
  {
   "cell_type": "code",
   "execution_count": null,
   "metadata": {
    "collapsed": false
   },
   "outputs": [],
   "source": [
    "for simulation_status in session.query(Simulation_Status).filter(Simulation_Status.status == \"Unknown\"):\n",
    "    print(simulation_status.id)"
   ]
  },
  {
   "cell_type": "markdown",
   "metadata": {},
   "source": [
    "# Restart if ready"
   ]
  },
  {
   "cell_type": "code",
   "execution_count": null,
   "metadata": {
    "collapsed": true
   },
   "outputs": [],
   "source": [
    "for status in session.query(Simulation_Status):\n",
    "    if status.status == \"Ready\":\n",
    "#         status.create_new_batch_file_and_switch_to_running()\n",
    "        pass"
   ]
  },
  {
   "cell_type": "markdown",
   "metadata": {},
   "source": [
    "# Shut down SQL session when done"
   ]
  },
  {
   "cell_type": "code",
   "execution_count": null,
   "metadata": {
    "collapsed": true
   },
   "outputs": [],
   "source": [
    "session.commit()"
   ]
  },
  {
   "cell_type": "code",
   "execution_count": null,
   "metadata": {
    "collapsed": false
   },
   "outputs": [],
   "source": [
    "session.close()"
   ]
  }
 ],
 "metadata": {
  "kernelspec": {
   "display_name": "Python 3",
   "language": "python",
   "name": "python3"
  },
  "language_info": {
   "codemirror_mode": {
    "name": "ipython",
    "version": 3
   },
   "file_extension": ".py",
   "mimetype": "text/x-python",
   "name": "python",
   "nbconvert_exporter": "python",
   "pygments_lexer": "ipython3",
   "version": "3.4.3"
  }
 },
 "nbformat": 4,
 "nbformat_minor": 0
}
