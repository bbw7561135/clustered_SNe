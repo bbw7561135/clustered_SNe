{
 "cells": [
  {
   "cell_type": "code",
   "execution_count": 1,
   "metadata": {
    "collapsed": false
   },
   "outputs": [
    {
     "name": "stderr",
     "output_type": "stream",
     "text": [
      "/Users/egentry/anaconda/lib/python3.4/site-packages/IPython/kernel/__init__.py:13: ShimWarning: The `IPython.kernel` package has been deprecated. You should import from ipykernel or jupyter_client instead.\n",
      "  \"You should import from ipykernel or jupyter_client instead.\", ShimWarning)\n",
      "/Users/egentry/Dropbox/Data/clustered_SNe/analysis/../../clustered_SNe/analysis/database_helpers.py:38: UserWarning: `session' from database_helpers can only write using 1 process at a time\n",
      "  UserWarning)\n"
     ]
    }
   ],
   "source": [
    "from __future__ import print_function\n",
    "\n",
    "import datetime\n",
    "import numpy as np\n",
    "import glob\n",
    "\n",
    "from multiprocessing import Pool\n",
    "\n",
    "## Boilerplate path hack to give access to full clustered_SNe package\n",
    "import os, sys\n",
    "if __package__ is None:\n",
    "    if os.pardir not in sys.path[0]:\n",
    "        file_dir = os.getcwd()\n",
    "        sys.path.insert(0, os.path.join(file_dir, \n",
    "                                        os.pardir, \n",
    "                                        os.pardir))\n",
    "        \n",
    "\n",
    "from clustered_SNe.analysis.constants import m_proton, pc, yr, M_solar, \\\n",
    "                                   metallicity_solar\n",
    "from clustered_SNe.analysis.parse import Overview, parse_run, \\\n",
    "                                         Inputs\n",
    "    \n",
    "from clustered_SNe.analysis.database_helpers import session, \\\n",
    "                                                Simulation, \\\n",
    "                                                Simulation_Inputs\n",
    "\n"
   ]
  },
  {
   "cell_type": "markdown",
   "metadata": {},
   "source": [
    "#### Helpful resource:\n",
    "http://docs.sqlalchemy.org/en/latest/orm/tutorial.html"
   ]
  },
  {
   "cell_type": "code",
   "execution_count": 2,
   "metadata": {
    "collapsed": false
   },
   "outputs": [],
   "source": [
    "def parse_into_simulations(data_dir_and_id):\n",
    "    # wrapper function to allow multiprocessing + map\n",
    "    data_dir, id = data_dir_and_id\n",
    "    last_run = parse_run(data_dir, id)\n",
    "    simulation = Simulation.from_last_run(data_dir, last_run)\n",
    "    \n",
    "    inputs = Inputs(os.path.join(data_dir, id + \"_inputs.dat\"))\n",
    "    simulation_inputs = Simulation_Inputs.from_Inputs(id, inputs)\n",
    "    return simulation, simulation_inputs\n",
    "        "
   ]
  },
  {
   "cell_type": "markdown",
   "metadata": {},
   "source": [
    "## Check which rows already exist"
   ]
  },
  {
   "cell_type": "code",
   "execution_count": null,
   "metadata": {
    "collapsed": false
   },
   "outputs": [],
   "source": [
    "for sim in session.query(Simulation):\n",
    "    print(sim)"
   ]
  },
  {
   "cell_type": "code",
   "execution_count": null,
   "metadata": {
    "collapsed": false
   },
   "outputs": [],
   "source": [
    "for sim_inputs in session.query(Simulation_Inputs):\n",
    "    print(sim_inputs)"
   ]
  },
  {
   "cell_type": "markdown",
   "metadata": {},
   "source": [
    "## Add files to database in batch"
   ]
  },
  {
   "cell_type": "code",
   "execution_count": 3,
   "metadata": {
    "collapsed": false,
    "scrolled": true
   },
   "outputs": [],
   "source": [
    "def add_entire_dir_to_database(data_dir):\n",
    "    overview_filenames = glob.glob(os.path.join(data_dir, \"*overview.dat\"))\n",
    "    ids = [None]*len(overview_filenames)\n",
    "    for k, filename in enumerate(overview_filenames):\n",
    "        ids[k] = os.path.basename(filename).split(\"_overview.dat\")[0]\n",
    "#     print(ids)\n",
    "\n",
    "    mappable_inputs = [(data_dir, id) for id in ids]\n",
    "    \n",
    "    pool = Pool(4)\n",
    "    simulation_tuples = pool.map(parse_into_simulations, mappable_inputs)\n",
    "    for simulation, simulation_inputs in simulation_tuples:\n",
    "        simulation.add_or_update_to_table()\n",
    "        simulation_inputs.add_or_update_to_table()\n",
    "add_entire_dir_to_database(\"../saved_runs/cluster_parameter_study\")"
   ]
  },
  {
   "cell_type": "code",
   "execution_count": 4,
   "metadata": {
    "collapsed": false
   },
   "outputs": [],
   "source": [
    "session.commit()"
   ]
  },
  {
   "cell_type": "code",
   "execution_count": 5,
   "metadata": {
    "collapsed": false
   },
   "outputs": [],
   "source": [
    "session.close()"
   ]
  }
 ],
 "metadata": {
  "kernelspec": {
   "display_name": "Python 3",
   "language": "python",
   "name": "python3"
  },
  "language_info": {
   "codemirror_mode": {
    "name": "ipython",
    "version": 3
   },
   "file_extension": ".py",
   "mimetype": "text/x-python",
   "name": "python",
   "nbconvert_exporter": "python",
   "pygments_lexer": "ipython3",
   "version": "3.4.3"
  }
 },
 "nbformat": 4,
 "nbformat_minor": 0
}
