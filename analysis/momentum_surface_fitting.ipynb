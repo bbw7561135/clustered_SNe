{
 "cells": [
  {
   "cell_type": "code",
   "execution_count": null,
   "metadata": {
    "collapsed": false
   },
   "outputs": [],
   "source": [
    "from __future__ import print_function, division\n",
    "\n",
    "%matplotlib inline\n",
    "import seaborn as sns\n",
    "import matplotlib.pyplot as plt\n",
    "import numpy as np\n",
    "\n",
    "## Boilerplate path hack to give access to full clustered_SNe package\n",
    "import sys, os\n",
    "if __package__ is None:\n",
    "    if os.pardir not in sys.path[0]:\n",
    "        file_dir = os.getcwd()\n",
    "        sys.path.insert(0, os.path.join(file_dir, \n",
    "                                        os.pardir, \n",
    "                                        os.pardir))\n",
    "        \n",
    "\n",
    "from clustered_SNe.analysis.constants import m_proton, pc, yr, M_solar, \\\n",
    "                                   metallicity_solar\n",
    "from clustered_SNe.analysis.parse import Overview, RunSummary, \\\n",
    "                                         Inputs, parse_into_scientific_notation\n",
    "    \n",
    "from clustered_SNe.analysis.database_helpers import session, \\\n",
    "                                                Simulation, \\\n",
    "                                                Simulation_Inputs, \\\n",
    "                                                Simulation_Status\n",
    "            \n",
    "from clustered_SNe.analysis.fit_helpers import AggregatedResults\n",
    "                                         "
   ]
  },
  {
   "cell_type": "code",
   "execution_count": null,
   "metadata": {
    "collapsed": false
   },
   "outputs": [],
   "source": [
    "aggregated_results = AggregatedResults()"
   ]
  },
  {
   "cell_type": "markdown",
   "metadata": {},
   "source": [
    "## Example: visualize surface (fixed metallicity)"
   ]
  },
  {
   "cell_type": "code",
   "execution_count": null,
   "metadata": {
    "collapsed": false
   },
   "outputs": [],
   "source": [
    "%matplotlib notebook\n",
    "\n",
    "metallicity_index = np.argmax(aggregated_results.metallicities_1D==metallicity_solar)\n",
    "\n",
    "from mpl_toolkits.mplot3d import axes3d\n",
    "fig = plt.figure()\n",
    "ax = fig.add_subplot(111, projection='3d')\n",
    "\n",
    "with sns.plotting_context(\"poster\"):\n",
    "    surf = ax.plot_wireframe(np.log10(aggregated_results.masses_3D[   metallicity_index,:,:]),\n",
    "                             np.log10(aggregated_results.densities_3D[metallicity_index,:,:]),\n",
    "                             aggregated_results.momenta_3D[           metallicity_index,:,:],\n",
    "                             rstride=1, cstride=1, linewidth=1)\n",
    "\n",
    "    plt.xlabel(\"log Mass\")\n",
    "    plt.ylabel(\"log density\")\n",
    "    plt.show()"
   ]
  },
  {
   "cell_type": "markdown",
   "metadata": {},
   "source": [
    "## Example: visualize surface (fixed density)"
   ]
  },
  {
   "cell_type": "code",
   "execution_count": null,
   "metadata": {
    "collapsed": false
   },
   "outputs": [],
   "source": [
    "%matplotlib notebook\n",
    "\n",
    "density_index = np.argmax(aggregated_results.densities_1D==1.33 * m_proton)\n",
    "\n",
    "from mpl_toolkits.mplot3d import axes3d\n",
    "fig = plt.figure()\n",
    "ax = fig.add_subplot(111, projection='3d')\n",
    "\n",
    "with sns.plotting_context(\"poster\"):\n",
    "    surf = ax.plot_wireframe(np.log10(aggregated_results.masses_3D[       :, density_index, :]),\n",
    "                             np.log10(aggregated_results.metallicities_3D[:, density_index, :]),\n",
    "                             aggregated_results.momenta_3D[               :, density_index, :],\n",
    "                             rstride=1, cstride=1, linewidth=1)\n",
    "\n",
    "    plt.xlabel(\"log Mass\")\n",
    "    plt.ylabel(\"log Z / Z_sun\")\n",
    "    plt.show()"
   ]
  },
  {
   "cell_type": "markdown",
   "metadata": {},
   "source": [
    "# Fit the model"
   ]
  },
  {
   "cell_type": "code",
   "execution_count": null,
   "metadata": {
    "collapsed": true
   },
   "outputs": [],
   "source": [
    "MLE_fit = aggregated_results.get_MLE_fit()\n",
    "Bayesian_fit = aggregated_results.get_Bayesian_fit()"
   ]
  },
  {
   "cell_type": "markdown",
   "metadata": {},
   "source": [
    "## Plot the data + model (using a 2D slice of fixed metallicity)"
   ]
  },
  {
   "cell_type": "code",
   "execution_count": null,
   "metadata": {
    "collapsed": false,
    "scrolled": false
   },
   "outputs": [],
   "source": [
    "%matplotlib inline\n",
    "\n",
    "metallicity_index = np.argmax(np.isclose(aggregated_results.metallicities_1D,\n",
    "                                         metallicity_solar, atol=0))\n",
    "metallicity = aggregated_results.metallicities_1D[metallicity_index]\n",
    "\n",
    "with sns.plotting_context(\"poster\", font_scale=2):\n",
    "    for density in aggregated_results.densities_1D:\n",
    "        aggregated_results.plot_slice(metallicity, density,\n",
    "                                      with_MLE_fit=True, MLE_fit=MLE_fit,\n",
    "                                      with_Bayesian_fit=True, Bayesian_fit=Bayesian_fit,\n",
    "                                      verbose=True)\n",
    "        plt.title(\"density = {0:.2e} g cm^-3\".format(density))\n",
    "        plt.show()"
   ]
  },
  {
   "cell_type": "markdown",
   "metadata": {},
   "source": [
    "## Plot the data + model (using a 2D slice of fixed metallicity)"
   ]
  },
  {
   "cell_type": "code",
   "execution_count": null,
   "metadata": {
    "collapsed": false,
    "scrolled": false
   },
   "outputs": [],
   "source": [
    "%matplotlib inline\n",
    "\n",
    "density_index = np.argmax(np.isclose(aggregated_results.densities_1D,\n",
    "                                     1.33e-0 * m_proton, atol=0, rtol=1e-4))\n",
    "density = aggregated_results.densities_1D[density_index]\n",
    "\n",
    "with sns.plotting_context(\"poster\", font_scale=2):\n",
    "    for metallicity in aggregated_results.metallicities_1D:\n",
    "        aggregated_results.plot_slice(metallicity, density,\n",
    "                                      with_MLE_fit=True, MLE_fit=MLE_fit,\n",
    "                                      with_Bayesian_fit=True, Bayesian_fit=Bayesian_fit,\n",
    "                                      verbose=True)\n",
    "        plt.title(\"log Z / Z_solar = {0:.1f}\".format(np.log10(metallicity/metallicity_solar)))\n",
    "        plt.show()"
   ]
  }
 ],
 "metadata": {
  "kernelspec": {
   "display_name": "Python 3",
   "language": "python",
   "name": "python3"
  },
  "language_info": {
   "codemirror_mode": {
    "name": "ipython",
    "version": 3
   },
   "file_extension": ".py",
   "mimetype": "text/x-python",
   "name": "python",
   "nbconvert_exporter": "python",
   "pygments_lexer": "ipython3",
   "version": "3.5.1"
  }
 },
 "nbformat": 4,
 "nbformat_minor": 0
}
