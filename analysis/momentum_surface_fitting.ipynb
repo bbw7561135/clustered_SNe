{
 "cells": [
  {
   "cell_type": "code",
   "execution_count": null,
   "metadata": {
    "collapsed": false
   },
   "outputs": [],
   "source": [
    "from __future__ import print_function, division\n",
    "\n",
    "%matplotlib inline\n",
    "import seaborn as sns\n",
    "import matplotlib.pyplot as plt\n",
    "import numpy as np\n",
    "\n",
    "## Boilerplate path hack to give access to full clustered_SNe package\n",
    "import sys, os\n",
    "if __package__ is None:\n",
    "    if os.pardir not in sys.path[0]:\n",
    "        file_dir = os.getcwd()\n",
    "        sys.path.insert(0, os.path.join(file_dir, \n",
    "                                        os.pardir, \n",
    "                                        os.pardir))\n",
    "        \n",
    "\n",
    "from clustered_SNe.analysis.constants import m_proton, pc, yr, M_solar, \\\n",
    "                                   metallicity_solar\n",
    "from clustered_SNe.analysis.parse import Overview, RunSummary, \\\n",
    "                                         Inputs, parse_into_scientific_notation\n",
    "    \n",
    "from clustered_SNe.analysis.database_helpers import session, \\\n",
    "                                                Simulation, \\\n",
    "                                                Simulation_Inputs, \\\n",
    "                                                Simulation_Status\n",
    "            \n",
    "from clustered_SNe.analysis.fit_helpers import Aggregated_Results, \\\n",
    "                                               Momentum_Model\n",
    "                                         "
   ]
  },
  {
   "cell_type": "code",
   "execution_count": null,
   "metadata": {
    "collapsed": false
   },
   "outputs": [],
   "source": [
    "results = Aggregated_Results()"
   ]
  },
  {
   "cell_type": "markdown",
   "metadata": {},
   "source": [
    "## Example: visualize surface (fixed metallicity)"
   ]
  },
  {
   "cell_type": "code",
   "execution_count": null,
   "metadata": {
    "collapsed": false
   },
   "outputs": [],
   "source": [
    "%matplotlib notebook\n",
    "\n",
    "metallicity_index = np.argmax(results.metallicities_1D==metallicity_solar)\n",
    "\n",
    "from mpl_toolkits.mplot3d import axes3d\n",
    "fig = plt.figure()\n",
    "ax = fig.add_subplot(111, projection='3d')\n",
    "\n",
    "with sns.plotting_context(\"poster\"):\n",
    "    surf = ax.plot_wireframe(np.log10(results.masses_3D[   metallicity_index,:,:]),\n",
    "                             np.log10(results.densities_3D[metallicity_index,:,:]),\n",
    "                             results.momenta_3D[           metallicity_index,:,:],\n",
    "                             rstride=1, cstride=1, linewidth=1)\n",
    "\n",
    "    plt.xlabel(\"log Mass\")\n",
    "    plt.ylabel(\"log density\")\n",
    "    plt.show()"
   ]
  },
  {
   "cell_type": "markdown",
   "metadata": {},
   "source": [
    "## Example: visualize surface (fixed density)"
   ]
  },
  {
   "cell_type": "code",
   "execution_count": null,
   "metadata": {
    "collapsed": false
   },
   "outputs": [],
   "source": [
    "%matplotlib notebook\n",
    "\n",
    "density_index = np.argmax(results.densities_1D==1.33 * m_proton)\n",
    "\n",
    "from mpl_toolkits.mplot3d import axes3d\n",
    "fig = plt.figure()\n",
    "ax = fig.add_subplot(111, projection='3d')\n",
    "\n",
    "with sns.plotting_context(\"poster\"):\n",
    "    surf = ax.plot_wireframe(np.log10(results.masses_3D[       :, density_index, :]),\n",
    "                             np.log10(results.metallicities_3D[:, density_index, :]),\n",
    "                             results.momenta_3D[               :, density_index, :],\n",
    "                             rstride=1, cstride=1, linewidth=1)\n",
    "\n",
    "    plt.xlabel(\"log Mass\")\n",
    "    plt.ylabel(\"log Z / Z_sun\")\n",
    "    plt.show()"
   ]
  },
  {
   "cell_type": "markdown",
   "metadata": {},
   "source": [
    "## Test: call the model "
   ]
  },
  {
   "cell_type": "code",
   "execution_count": null,
   "metadata": {
    "collapsed": false
   },
   "outputs": [],
   "source": [
    "%matplotlib inline\n",
    "\n",
    "metallicity_index = np.argmax(results.metallicities_1D==metallicity_solar)\n",
    "density_index = 2\n",
    "metallicity = results.metallicities_1D[metallicity_index]\n",
    "density     = results.densities_1D[density_index]\n",
    "mask = np.isclose(results.densities, density, atol=0) \\\n",
    "     & np.isclose(results.metallicities, metallicity, atol=0) \\\n",
    "     & results.usable & (results.momenta>0)\n",
    "\n",
    "tmp_model = Momentum_Model(1e3, 1e4, \n",
    "                           0, 0, \n",
    "                           0, 0, \n",
    "                           2, -.2)\n",
    "\n",
    "print(tmp_model(metallicity, density, results.masses[mask]))\n",
    "\n",
    "with sns.plotting_context(\"poster\", font_scale=2):\n",
    "\n",
    "    plt.plot(results.num_SNe[mask],\n",
    "             results.momenta[mask] / (results.num_SNe[mask] * 100 * M_solar),\n",
    "             marker= \"o\", linestyle=\"\",\n",
    "             label=\"data\")\n",
    "    \n",
    "    \n",
    "    x_fit = np.logspace(-.5,3.5, num=100)\n",
    "    y_fit = tmp_model(metallicity, density, x_fit)\n",
    "    plt.plot(x_fit, y_fit,\n",
    "            label=\"chi-by-eye\")\n",
    "    \n",
    "    plt.xscale(\"log\")\n",
    "    plt.xlabel(\"N_SNe\")\n",
    "    plt.ylabel(\"Momentum / (100 M$_\\odot$ * N$_\\mathrm{SNe}$) [km / s]\")\n",
    "    plt.legend(loc=\"best\")"
   ]
  },
  {
   "cell_type": "markdown",
   "metadata": {},
   "source": [
    "## Test: fit the model (using 1D slice -- fixed density, metallicity)"
   ]
  },
  {
   "cell_type": "code",
   "execution_count": null,
   "metadata": {
    "collapsed": false
   },
   "outputs": [],
   "source": [
    "%matplotlib inline\n",
    "\n",
    "metallicity_index = np.argmax(results.metallicities_1D==metallicity_solar)\n",
    "density_index = 2\n",
    "metallicity = results.metallicities_1D[metallicity_index]\n",
    "density     = results.densities_1D[density_index]\n",
    "mask = np.isclose(results.densities, density, atol=0) \\\n",
    "     & np.isclose(results.metallicities, metallicity, atol=0) \\\n",
    "     & results.usable & (results.momenta>0)\n",
    "\n",
    "tmp_model = Momentum_Model(1e3, 1e4, \n",
    "                           0, 0, \n",
    "                           0, 0, \n",
    "                           2, -.12)\n",
    "\n",
    "fixed = np.array([False, False, \n",
    "                  True, True, \n",
    "                  True, True, \n",
    "                  False, True])\n",
    "\n",
    "\n",
    "y_init = tmp_model(metallicity, density, results.num_SNe[mask])\n",
    "print(\"y_init: \", y_init)\n",
    "\n",
    "x = (results.metallicities[mask],\n",
    "     results.densities[mask],\n",
    "     results.num_SNe[mask])\n",
    "y = results.momenta[mask] / (results.num_SNe[mask] * 100 * M_solar)\n",
    "popt, pcov = tmp_model.fit(x, y, fixed=fixed)\n",
    "\n",
    "print(\"params_0: \", tmp_model.params_0)\n",
    "print(\"params:   \", tmp_model.params)\n",
    "\n",
    "with sns.plotting_context(\"poster\", font_scale=2):\n",
    "    plt.plot(results.num_SNe[mask], \n",
    "             results.momenta[mask] / (results.num_SNe[mask] * 100 * M_solar),\n",
    "             marker= \"o\", linestyle=\"\",\n",
    "             label=\"data\")\n",
    "    \n",
    "    x_fit = np.logspace(-.5,3.5, num=100)\n",
    "    y_fit = tmp_model(metallicity, density, x_fit)\n",
    "    plt.plot(x_fit, y_fit,\n",
    "             label=\"fit\")\n",
    "    plt.xscale(\"log\")\n",
    "    plt.legend(loc=\"best\")\n",
    "    plt.xlabel(\"N_SNe \")\n",
    "    plt.ylabel(\"Momentum / (100 * M$_\\odot$ * N$_\\mathrm{SNe}$) [km / s]\")"
   ]
  },
  {
   "cell_type": "markdown",
   "metadata": {},
   "source": [
    "## Test: fit the model (using 2D slice of solar metallicity)"
   ]
  },
  {
   "cell_type": "code",
   "execution_count": null,
   "metadata": {
    "collapsed": false,
    "scrolled": false
   },
   "outputs": [],
   "source": [
    "%matplotlib inline\n",
    "\n",
    "metallicity_index = np.argmax(np.isclose(results.metallicities_1D, metallicity_solar, atol=0))\n",
    "\n",
    "with sns.plotting_context(\"poster\", font_scale=2):\n",
    "    for density_index in range(len(results.densities_1D)):\n",
    "        results.plot_slice(metallicity_index, density_index, verbose=True)\n",
    "        plt.title(\"density = {0:.2e} g cm^-3\".format(results.densities_1D[density_index]))\n",
    "        plt.show()"
   ]
  },
  {
   "cell_type": "markdown",
   "metadata": {},
   "source": [
    "## Test: fit the model (using 2D slice -- fixed density)"
   ]
  },
  {
   "cell_type": "code",
   "execution_count": null,
   "metadata": {
    "collapsed": false,
    "scrolled": false
   },
   "outputs": [],
   "source": [
    "%matplotlib inline\n",
    "\n",
    "density_index = np.argmax(np.isclose(results.densities_1D, 1.33e-1 * m_proton, atol=0, rtol=1e-4))\n",
    "\n",
    "with sns.plotting_context(\"poster\", font_scale=2):\n",
    "    for metallicity_index in range(len(results.metallicities_1D)):\n",
    "        results.plot_slice(metallicity_index, density_index,verbose=True)\n",
    "        plt.title(\"log Z / Z_solar = {0:.1f}\".format(np.log10(results.metallicities_1D[metallicity_index] / metallicity_solar)))\n",
    "        plt.show()"
   ]
  }
 ],
 "metadata": {
  "kernelspec": {
   "display_name": "Python 3",
   "language": "python",
   "name": "python3"
  },
  "language_info": {
   "codemirror_mode": {
    "name": "ipython",
    "version": 3
   },
   "file_extension": ".py",
   "mimetype": "text/x-python",
   "name": "python",
   "nbconvert_exporter": "python",
   "pygments_lexer": "ipython3",
   "version": "3.5.1"
  }
 },
 "nbformat": 4,
 "nbformat_minor": 0
}
