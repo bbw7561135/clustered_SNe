{
 "cells": [
  {
   "cell_type": "code",
   "execution_count": 1,
   "metadata": {
    "collapsed": false
   },
   "outputs": [
    {
     "name": "stderr",
     "output_type": "stream",
     "text": [
      "/Users/egentry/anaconda/lib/python3.4/site-packages/IPython/kernel/__init__.py:13: ShimWarning: The `IPython.kernel` package has been deprecated. You should import from ipykernel or jupyter_client instead.\n",
      "  \"You should import from ipykernel or jupyter_client instead.\", ShimWarning)\n"
     ]
    }
   ],
   "source": [
    "import glob\n",
    "import os\n",
    "import numpy as np\n",
    "\n",
    "## Boilerplate path hack to give access to full clustered_SNe package\n",
    "import sys\n",
    "if __package__ is None:\n",
    "    if os.pardir not in sys.path[0]:\n",
    "        file_dir = os.getcwd()\n",
    "        sys.path.insert(0, os.path.join(file_dir, \n",
    "                                        os.pardir, \n",
    "                                        os.pardir))\n",
    "from clustered_SNe.analysis.parse import Overview, parse_run\n"
   ]
  },
  {
   "cell_type": "code",
   "execution_count": 2,
   "metadata": {
    "collapsed": false
   },
   "outputs": [],
   "source": [
    "data_dir = \"../saved_runs/cluster_parameter_study_new/\"\n",
    "data_dir_high_density = \"../saved_runs/sample_mass_scaling_high_density/\"\n",
    "# data_dir = \"../saved_runs/sample_mass_scaling_high_density\"\n",
    "data_dir_tmp = \"../src/tmp/\"\n",
    "\n",
    "src_dir = \"../src\"\n",
    "scripts_dir = \"../scripts/\"\n"
   ]
  },
  {
   "cell_type": "code",
   "execution_count": 3,
   "metadata": {
    "collapsed": false
   },
   "outputs": [],
   "source": [
    "def create_new_batch_file(id, destination_dir=scripts_dir, verbose=False):\n",
    "    with open(os.path.join(scripts_dir, \"restart.batch\")) as f:\n",
    "        text = f.read()\n",
    "        with open(os.path.join(destination_dir, \"restart.batch.\"+id), mode=\"w\") as f2:\n",
    "            text2 = text[:-1] + id\n",
    "            if verbose:\n",
    "                print(text2)\n",
    "            f2.write(text2)\n",
    "        \n",
    "def checkpoint_99_exists(id, data_dir=data_dir):\n",
    "    checkpoints = glob.glob(os.path.join(data_dir, id + \"*_checkpoint_*.dat\"))\n",
    "    checkpoints = sorted(checkpoints)\n",
    "    last_checkpoint = checkpoints[-1]\n",
    "    last_checkpoint_num = int(last_checkpoint.split(\"_\")[-1].strip(\".dat\")) % 100\n",
    "    if last_checkpoint_num != 99:\n",
    "        return False\n",
    "    else:\n",
    "        return True\n",
    "\n",
    "def is_momentum_converged(id, data_dir=data_dir):\n",
    "    _last_run = parse_run(data_dir, id)\n",
    "    momenta = _last_run[\"momentum\"]\n",
    "    if (momenta.size < 25):\n",
    "        earlier_momentum = momenta[0]\n",
    "    else:\n",
    "        earlier_momentum = momenta[-25]\n",
    "    current_momentum = momenta[-1]\n",
    "    tolerance = .01\n",
    "    if (current_momentum > ((1+tolerance) * earlier_momentum)):\n",
    "        return False\n",
    "    else:\n",
    "        return True\n",
    "    \n"
   ]
  },
  {
   "cell_type": "code",
   "execution_count": 4,
   "metadata": {
    "collapsed": false
   },
   "outputs": [
    {
     "data": {
      "text/plain": [
       "False"
      ]
     },
     "execution_count": 4,
     "metadata": {},
     "output_type": "execute_result"
    }
   ],
   "source": [
    "is_momentum_converged(\"ae1f1577-ad61-4f26-99ef-1204be73b417\", data_dir=data_dir)"
   ]
  },
  {
   "cell_type": "code",
   "execution_count": 5,
   "metadata": {
    "collapsed": false
   },
   "outputs": [
    {
     "data": {
      "text/plain": [
       "True"
      ]
     },
     "execution_count": 5,
     "metadata": {},
     "output_type": "execute_result"
    }
   ],
   "source": [
    "is_momentum_converged(\"a7bc1f23-aff9-4dcf-9705-03ae1f8e2507\", data_dir=data_dir_high_density)"
   ]
  },
  {
   "cell_type": "code",
   "execution_count": 6,
   "metadata": {
    "collapsed": false
   },
   "outputs": [
    {
     "data": {
      "text/plain": [
       "True"
      ]
     },
     "execution_count": 6,
     "metadata": {},
     "output_type": "execute_result"
    }
   ],
   "source": [
    "checkpoint_99_exists(\"ae1f1577-ad61-4f26-99ef-1204be73b417\", data_dir = data_dir)"
   ]
  },
  {
   "cell_type": "code",
   "execution_count": null,
   "metadata": {
    "collapsed": false
   },
   "outputs": [],
   "source": [
    "overviews = glob.glob(os.path.join(data_dir, \"*overview.dat\"))\n",
    "ids = []\n",
    "for overview in overviews:\n",
    "    id = os.path.basename(overview.split(\"_overview.dat\")[0])\n",
    "    ids.append(id)"
   ]
  },
  {
   "cell_type": "code",
   "execution_count": null,
   "metadata": {
    "collapsed": false
   },
   "outputs": [],
   "source": [
    "from multiprocessing import Pool\n",
    "pool = Pool(4)\n",
    "ids_tmp = np.array(ids)\n",
    "finished = pool.map(checkpoint_99_exists, ids_tmp)\n",
    "finished = np.array(finished)\n",
    "converged = pool.map(is_momentum_converged, ids_tmp[finished])\n",
    "converged = np.array(converged)\n",
    "\n",
    "restart_ids = ids_tmp[finished][~converged]"
   ]
  },
  {
   "cell_type": "code",
   "execution_count": null,
   "metadata": {
    "collapsed": false
   },
   "outputs": [],
   "source": [
    "np.sum(finished[converged])"
   ]
  },
  {
   "cell_type": "code",
   "execution_count": 24,
   "metadata": {
    "collapsed": false
   },
   "outputs": [
    {
     "data": {
      "text/plain": [
       "array(['0df337f0-6afa-496d-8eea-8e75f6a0bea5',\n",
       "       '16f7d335-77b9-4ad9-8eba-153c57026ed8',\n",
       "       '179c5f0b-ce52-4f81-84b2-b6afb47cb335',\n",
       "       '34ad9744-fd58-43f8-ab50-09b499cf7115',\n",
       "       '34ba2aec-f27c-4e09-9ffc-8d5e5fc6221d',\n",
       "       '35991ff8-2185-4b73-bc31-5ab852e07387',\n",
       "       '39758925-5bcf-475e-8f44-1e46e44cde75',\n",
       "       '39fdd9f6-3d02-4d60-a3d1-2f3b392de77c',\n",
       "       '3b381194-fe9b-4f6b-afc6-33e641f698c1',\n",
       "       '40506e13-5e5e-408c-92cb-3f5b092eee62',\n",
       "       '43b99111-b494-4a36-a2ab-486f0589c0b7',\n",
       "       '45e9c742-7d2c-461b-ad63-5e1be00777c9',\n",
       "       '487b841d-4822-482e-9276-a6cdcc541bb0',\n",
       "       '4ab2cbde-90cd-4109-8754-6ef7f5a79898',\n",
       "       '53c43e6e-1b48-4f96-bd93-1bf18ad5e25c',\n",
       "       '55ad8e4c-2609-494f-939c-bf8ff137c148',\n",
       "       '5608852a-c603-45c8-b363-d5fb6c1dbbb2',\n",
       "       '572d20e4-89e5-48b9-983b-86f8833c2570',\n",
       "       '57efb478-2ec7-4ace-9eea-71634d75b37a',\n",
       "       '5bd8c70c-1f40-46fe-ae6a-1c25f63e8b92',\n",
       "       '5d870455-d66c-437f-98ef-132f058b630c',\n",
       "       '5f3b6841-9592-4137-ad8d-073dfd44cb96',\n",
       "       '5f90a502-76c9-4d14-81b9-09fdf2eface3',\n",
       "       '60dc824d-d348-425e-8972-a1e84c8ae663',\n",
       "       '6283220e-f89f-45f2-815f-1691531de544',\n",
       "       '64673277-6efa-4871-a718-80ec5e837ee9',\n",
       "       '6657a739-78b6-40fa-a449-288035087e2c',\n",
       "       '69e38967-3b5f-4133-becd-d2cced85e367',\n",
       "       '6c1efa67-d904-4426-8452-61e0479342e3',\n",
       "       '6fbde823-0019-4948-b629-2dded4fad53e',\n",
       "       '760259a9-b028-474e-98a1-6810874c9563',\n",
       "       '7cbfb385-3e7d-4600-88ef-c9f5e8d4092b',\n",
       "       '7dc91bd8-ba64-4148-b560-ebe6b8c1c265',\n",
       "       '7e1d38da-82b4-42b0-a351-f59191d79995',\n",
       "       '7f0a5470-12c1-4974-b9d6-50aa90dcb198',\n",
       "       '8074e5f2-7c97-4a21-ae77-797c942209e4',\n",
       "       '86540288-b20a-405e-b0c8-88dcf611bd6d',\n",
       "       '89cf90d7-8ffa-401f-835f-f878f72a5cc1',\n",
       "       '8ed4f1e9-3307-4fbc-b650-63adf2191145',\n",
       "       '90526470-c959-4666-969b-bf5ecaa1130d',\n",
       "       '90d522ac-d77d-43c2-bcd3-80d1669f813b',\n",
       "       '94738f02-7320-449b-aa9f-79d15e8b7de8',\n",
       "       '9504c81d-b2f7-4593-8c28-e661c501cb11',\n",
       "       '95550349-189b-4501-b678-f0c1bac61df2',\n",
       "       '96d95a9e-0488-4d6e-97b5-61aec1b0ab05',\n",
       "       '99e4f57e-2105-420b-bf78-fbe71b07405f',\n",
       "       '9ce53082-875a-42e7-b938-e57926ddb673',\n",
       "       '9f6e73c8-fc05-4f04-b509-e8acef462627',\n",
       "       '9f6f652d-795c-4bcc-9e9d-022c9eab2896',\n",
       "       'a0b86f69-f212-4c3a-99ad-e75245dd5263',\n",
       "       'a0f9d0fc-450d-4a7d-8bab-5cbecba6880f',\n",
       "       'a1a131fd-abee-46ae-8d67-30b2d0dba20f',\n",
       "       'a26a0016-fbe0-4f20-8b75-dd8a92065787',\n",
       "       'a7bc1f23-aff9-4dcf-9705-03ae1f8e2507',\n",
       "       'a9d669ef-1ccd-47db-ad2b-c500ec9de80d',\n",
       "       'ab1f6819-2e9e-498b-b5c4-6948a843e58d',\n",
       "       'ab3d68eb-ed22-4799-b0d2-9e10f84543a8',\n",
       "       'ac30f0af-7d89-472b-ba15-25b2025874bb',\n",
       "       'ae1f1577-ad61-4f26-99ef-1204be73b417',\n",
       "       'b3aca507-476f-457d-8842-595e9d3b8f7e',\n",
       "       'b9065a50-1513-44a6-a2a3-592035e40a74',\n",
       "       'be928cef-7214-4492-a69a-db2692e8fc04',\n",
       "       'c1cb774c-eb3d-4d48-96f2-be5ac4fb5927',\n",
       "       'c28746a2-1342-4bb2-98a9-baef24752da8',\n",
       "       'c668b684-b0ac-474f-bdc0-a985c1b695b7',\n",
       "       'c7fb237d-ee42-4423-8be9-50eda479d669',\n",
       "       'caf6ac95-8d17-4f2d-957b-bcaff6f1d370',\n",
       "       'd044ac56-aae3-4da8-92a3-b660aa7cfcfd',\n",
       "       'd173f8fd-ae0b-4809-895f-6b19e1f11941',\n",
       "       'd431dd27-ee94-4f72-b81d-e572f9f74266',\n",
       "       'd45799c7-f947-4945-a247-8fab1e1d8aa7',\n",
       "       'd5bd1990-1c43-407f-8abd-770dcbcf3a53',\n",
       "       'd6b076d9-e763-48fa-98d1-fa04fc7a7ab8',\n",
       "       'da69d157-07a2-47f8-abed-e3f379a16983',\n",
       "       'dadf410a-7daa-44df-b0d9-3e2d3944247f',\n",
       "       'dcb098a2-f200-405c-94e9-2267a8e4545e',\n",
       "       'dd999c2e-2614-4cf0-986a-60d9e605c5cf',\n",
       "       'ddb1e28c-d0a9-4461-b5d8-36b5cf123b6e',\n",
       "       'e153d17b-dfe2-4172-ba68-1c59862b57cc',\n",
       "       'e416222b-91df-4bc9-9f0b-7e8c9911ba05',\n",
       "       'e4abf0bb-0a95-466f-b6dd-89f19e121168',\n",
       "       'e4f585ee-310d-4c90-9b68-8a6a5560385b',\n",
       "       'e6c01efc-749a-46eb-bf4a-b85f734544ed',\n",
       "       'e6c85ffa-2e11-45b9-8a82-cf6818f91d92',\n",
       "       'e730e083-9335-4a55-ba55-280c5bd0bcbb',\n",
       "       'eea1bc12-ae50-4606-ae62-98fc7d29567f',\n",
       "       'f0cdabdf-0100-4f20-9573-5e7a2da3da71',\n",
       "       'f691be34-4db1-40c3-9655-a80be3c111d1',\n",
       "       'f901bbba-415a-4c80-a474-0b01db289004',\n",
       "       'f9fd37b8-8d6b-425e-9e71-1aeb519c93d1',\n",
       "       'fa6ebee6-6937-428d-ae35-28fed941bf77',\n",
       "       'fd7ec1de-db4e-4519-90a8-9f638bd54cf7',\n",
       "       'fec53d95-f069-49d9-89e7-04cc5ba49e01',\n",
       "       'ff0d0d1a-9072-43b3-9e78-d85a0ff7562b',\n",
       "       'ffc8d5e0-96a2-49b7-ad1f-3c54e777addc'], \n",
       "      dtype='<U36')"
      ]
     },
     "execution_count": 24,
     "metadata": {},
     "output_type": "execute_result"
    }
   ],
   "source": [
    "restart_ids"
   ]
  },
  {
   "cell_type": "code",
   "execution_count": null,
   "metadata": {
    "collapsed": true
   },
   "outputs": [],
   "source": []
  },
  {
   "cell_type": "code",
   "execution_count": 25,
   "metadata": {
    "collapsed": false
   },
   "outputs": [
    {
     "data": {
      "text/plain": [
       "95"
      ]
     },
     "execution_count": 25,
     "metadata": {},
     "output_type": "execute_result"
    }
   ],
   "source": [
    "restart_ids.size"
   ]
  },
  {
   "cell_type": "code",
   "execution_count": 92,
   "metadata": {
    "collapsed": true
   },
   "outputs": [],
   "source": [
    "for restart_id in restart_ids:\n",
    "    create_new_batch_file(restart_id)"
   ]
  }
 ],
 "metadata": {
  "kernelspec": {
   "display_name": "Python 3",
   "language": "python",
   "name": "python3"
  },
  "language_info": {
   "codemirror_mode": {
    "name": "ipython",
    "version": 3
   },
   "file_extension": ".py",
   "mimetype": "text/x-python",
   "name": "python",
   "nbconvert_exporter": "python",
   "pygments_lexer": "ipython3",
   "version": "3.4.3"
  }
 },
 "nbformat": 4,
 "nbformat_minor": 0
}
