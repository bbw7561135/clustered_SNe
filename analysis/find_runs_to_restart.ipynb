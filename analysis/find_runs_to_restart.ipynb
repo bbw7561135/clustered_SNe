{
 "cells": [
  {
   "cell_type": "code",
   "execution_count": 1,
   "metadata": {
    "collapsed": false
   },
   "outputs": [
    {
     "name": "stderr",
     "output_type": "stream",
     "text": [
      "/Users/egentry/anaconda/lib/python3.4/site-packages/IPython/kernel/__init__.py:13: ShimWarning: The `IPython.kernel` package has been deprecated. You should import from ipykernel or jupyter_client instead.\n",
      "  \"You should import from ipykernel or jupyter_client instead.\", ShimWarning)\n",
      "/Users/egentry/Dropbox/Data/clustered_SNe/analysis/../../clustered_SNe/analysis/database_helpers.py:38: UserWarning: `session' from database_helpers can only write using 1 process at a time\n",
      "  UserWarning)\n"
     ]
    }
   ],
   "source": [
    "import glob\n",
    "import numpy as np\n",
    "\n",
    "## Boilerplate path hack to give access to full clustered_SNe package\n",
    "import os, sys\n",
    "if __package__ is None:\n",
    "    if os.pardir not in sys.path[0]:\n",
    "        file_dir = os.getcwd()\n",
    "        sys.path.insert(0, os.path.join(file_dir, \n",
    "                                        os.pardir, \n",
    "                                        os.pardir))\n",
    "from clustered_SNe.analysis.parse import Overview, parse_run\n",
    "from clustered_SNe.analysis.database_helpers import Simulation_Status, \\\n",
    "                                                    session\n"
   ]
  },
  {
   "cell_type": "code",
   "execution_count": 2,
   "metadata": {
    "collapsed": false
   },
   "outputs": [],
   "source": [
    "data_dir = \"../saved_runs/cluster_parameter_study/\"\n",
    "\n",
    "src_dir = \"../src\"\n",
    "scripts_dir = \"../scripts/\"\n"
   ]
  },
  {
   "cell_type": "markdown",
   "metadata": {},
   "source": [
    "# Examples"
   ]
  },
  {
   "cell_type": "code",
   "execution_count": 3,
   "metadata": {
    "collapsed": false
   },
   "outputs": [
    {
     "data": {
      "text/plain": [
       "True"
      ]
     },
     "execution_count": 3,
     "metadata": {},
     "output_type": "execute_result"
    }
   ],
   "source": [
    "Simulation_Status.is_converged(\"ae1f1577-ad61-4f26-99ef-1204be73b417\", data_dir)"
   ]
  },
  {
   "cell_type": "code",
   "execution_count": 4,
   "metadata": {
    "collapsed": false
   },
   "outputs": [
    {
     "data": {
      "text/plain": [
       "True"
      ]
     },
     "execution_count": 4,
     "metadata": {},
     "output_type": "execute_result"
    }
   ],
   "source": [
    "Simulation_Status.is_last_checkpoint_x99(\"ae1f1577-ad61-4f26-99ef-1204be73b417\", data_dir)"
   ]
  },
  {
   "cell_type": "markdown",
   "metadata": {},
   "source": [
    "# Build Statuses from data files"
   ]
  },
  {
   "cell_type": "code",
   "execution_count": 5,
   "metadata": {
    "collapsed": true
   },
   "outputs": [],
   "source": [
    "overviews = glob.glob(os.path.join(data_dir, \"*overview.dat\"))\n",
    "ids = []\n",
    "for overview in overviews:\n",
    "    id = os.path.basename(overview.split(\"_overview.dat\")[0])\n",
    "    ids.append(id)\n",
    "ids = np.array(ids)"
   ]
  },
  {
   "cell_type": "code",
   "execution_count": 6,
   "metadata": {
    "collapsed": false
   },
   "outputs": [],
   "source": [
    "from multiprocessing import Pool\n",
    "pool = Pool(4)\n",
    "ids_and_data_dir = np.array([(id, data_dir) for id in ids])\n",
    "finished = pool.map(Simulation_Status.mappable_is_last_checkpoint_x99, ids_and_data_dir)\n",
    "finished = np.array(finished)\n",
    "converged = pool.map(Simulation_Status.mappable_is_converged, ids_and_data_dir[finished])\n",
    "converged = np.array(converged)\n",
    "\n",
    "restart_ids = ids[finished][~converged]"
   ]
  },
  {
   "cell_type": "code",
   "execution_count": 7,
   "metadata": {
    "collapsed": false
   },
   "outputs": [
    {
     "data": {
      "text/plain": [
       "array(['0fdca3cb-3c60-4073-b3d5-33b771786bfc',\n",
       "       '34ad9744-fd58-43f8-ab50-09b499cf7115',\n",
       "       '34ba2aec-f27c-4e09-9ffc-8d5e5fc6221d',\n",
       "       '53c43e6e-1b48-4f96-bd93-1bf18ad5e25c',\n",
       "       '7f0a5470-12c1-4974-b9d6-50aa90dcb198',\n",
       "       '99e4f57e-2105-420b-bf78-fbe71b07405f',\n",
       "       'b9065a50-1513-44a6-a2a3-592035e40a74',\n",
       "       'd431dd27-ee94-4f72-b81d-e572f9f74266',\n",
       "       'e6c85ffa-2e11-45b9-8a82-cf6818f91d92',\n",
       "       'e730e083-9335-4a55-ba55-280c5bd0bcbb'], \n",
       "      dtype='<U36')"
      ]
     },
     "execution_count": 7,
     "metadata": {},
     "output_type": "execute_result"
    }
   ],
   "source": [
    "restart_ids"
   ]
  },
  {
   "cell_type": "markdown",
   "metadata": {},
   "source": [
    "## Add to database"
   ]
  },
  {
   "cell_type": "code",
   "execution_count": 8,
   "metadata": {
    "collapsed": false
   },
   "outputs": [],
   "source": [
    "simulation_statuses = []\n",
    "for id in ids:\n",
    "    status = \"Unknown\"\n",
    "    if id in ids[finished]:\n",
    "        status = \"Ready\"\n",
    "    if id in ids[finished][converged]:\n",
    "        status = \"Complete\"\n",
    "        \n",
    "    simulation_status = Simulation_Status(id=id, data_dir=data_dir,\n",
    "                                          status=status)\n",
    "    simulation_statuses.append(simulation_status)\n",
    "\n",
    "\n",
    "for status in simulation_statuses:\n",
    "    status.add_or_update_to_table()\n",
    "\n",
    "    "
   ]
  },
  {
   "cell_type": "markdown",
   "metadata": {},
   "source": [
    "# Restart if ready"
   ]
  },
  {
   "cell_type": "code",
   "execution_count": 9,
   "metadata": {
    "collapsed": false
   },
   "outputs": [],
   "source": [
    "for status in session.query(Simulation_Status):\n",
    "    if status.status is \"Ready\":\n",
    "#         status.create_new_batch_file_and_switch_to_running()\n",
    "        pass"
   ]
  },
  {
   "cell_type": "code",
   "execution_count": 10,
   "metadata": {
    "collapsed": false
   },
   "outputs": [
    {
     "name": "stdout",
     "output_type": "stream",
     "text": [
      "Complete\n",
      "Complete\n",
      "Complete\n",
      "Complete\n",
      "Unknown\n",
      "Complete\n",
      "Complete\n",
      "Complete\n",
      "Complete\n",
      "Complete\n",
      "Unknown\n",
      "Ready\n",
      "Complete\n",
      "Complete\n",
      "Complete\n",
      "Complete\n",
      "Complete\n",
      "Complete\n",
      "Complete\n",
      "Complete\n",
      "Unknown\n",
      "Complete\n",
      "Complete\n",
      "Complete\n",
      "Complete\n",
      "Complete\n",
      "Complete\n",
      "Complete\n",
      "Complete\n",
      "Complete\n",
      "Unknown\n",
      "Complete\n",
      "Complete\n",
      "Complete\n",
      "Complete\n",
      "Ready\n",
      "Ready\n",
      "Complete\n",
      "Complete\n",
      "Complete\n",
      "Complete\n",
      "Complete\n",
      "Complete\n",
      "Complete\n",
      "Unknown\n",
      "Complete\n",
      "Complete\n",
      "Complete\n",
      "Complete\n",
      "Complete\n",
      "Complete\n",
      "Complete\n",
      "Complete\n",
      "Complete\n",
      "Ready\n",
      "Complete\n",
      "Complete\n",
      "Complete\n",
      "Unknown\n",
      "Unknown\n",
      "Complete\n",
      "Complete\n",
      "Complete\n",
      "Complete\n",
      "Unknown\n",
      "Complete\n",
      "Complete\n",
      "Unknown\n",
      "Complete\n",
      "Complete\n",
      "Complete\n",
      "Complete\n",
      "Complete\n",
      "Complete\n",
      "Complete\n",
      "Complete\n",
      "Complete\n",
      "Complete\n",
      "Complete\n",
      "Complete\n",
      "Complete\n",
      "Complete\n",
      "Complete\n",
      "Complete\n",
      "Unknown\n",
      "Complete\n",
      "Complete\n",
      "Complete\n",
      "Complete\n",
      "Complete\n",
      "Ready\n",
      "Complete\n",
      "Complete\n",
      "Complete\n",
      "Complete\n",
      "Complete\n",
      "Complete\n",
      "Complete\n",
      "Complete\n",
      "Complete\n",
      "Complete\n",
      "Complete\n",
      "Complete\n",
      "Complete\n",
      "Complete\n",
      "Complete\n",
      "Complete\n",
      "Ready\n",
      "Complete\n",
      "Complete\n",
      "Complete\n",
      "Complete\n",
      "Complete\n",
      "Complete\n",
      "Complete\n",
      "Unknown\n",
      "Unknown\n",
      "Unknown\n",
      "Complete\n",
      "Unknown\n",
      "Complete\n",
      "Complete\n",
      "Complete\n",
      "Complete\n",
      "Complete\n",
      "Complete\n",
      "Complete\n",
      "Complete\n",
      "Complete\n",
      "Complete\n",
      "Complete\n",
      "Complete\n",
      "Complete\n",
      "Complete\n",
      "Complete\n",
      "Ready\n",
      "Complete\n",
      "Complete\n",
      "Complete\n",
      "Complete\n",
      "Complete\n",
      "Complete\n",
      "Complete\n",
      "Complete\n",
      "Complete\n",
      "Complete\n",
      "Complete\n",
      "Complete\n",
      "Unknown\n",
      "Complete\n",
      "Complete\n",
      "Complete\n",
      "Ready\n",
      "Complete\n",
      "Complete\n",
      "Complete\n",
      "Complete\n",
      "Complete\n",
      "Complete\n",
      "Complete\n",
      "Complete\n",
      "Complete\n",
      "Complete\n",
      "Complete\n",
      "Complete\n",
      "Complete\n",
      "Complete\n",
      "Complete\n",
      "Complete\n",
      "Complete\n",
      "Complete\n",
      "Complete\n",
      "Ready\n",
      "Ready\n",
      "Unknown\n",
      "Complete\n",
      "Complete\n",
      "Complete\n",
      "Unknown\n",
      "Complete\n",
      "Complete\n",
      "Unknown\n",
      "Complete\n",
      "Complete\n",
      "Complete\n",
      "Complete\n",
      "Complete\n",
      "Complete\n",
      "Complete\n",
      "Complete\n",
      "Complete\n",
      "Complete\n",
      "Complete\n",
      "Complete\n"
     ]
    }
   ],
   "source": [
    "for status in session.query(Simulation_Status):\n",
    "    print(status.status)"
   ]
  },
  {
   "cell_type": "markdown",
   "metadata": {},
   "source": [
    "# Check statuses from database"
   ]
  },
  {
   "cell_type": "code",
   "execution_count": 11,
   "metadata": {
    "collapsed": false
   },
   "outputs": [],
   "source": [
    "statuses = np.array([status.status for status in session.query(Simulation_Status)])\n",
    "counts = {status : 0 for status in Simulation_Status.possible_statuses}\n",
    "\n",
    "for status in statuses:\n",
    "    counts[status] += 1\n"
   ]
  },
  {
   "cell_type": "code",
   "execution_count": 12,
   "metadata": {
    "collapsed": false
   },
   "outputs": [],
   "source": [
    "for simulation_status in session.query(Simulation_Status).filter(Simulation_Status.status==\"Error\"):\n",
    "    print(simulation_status.id)"
   ]
  },
  {
   "cell_type": "code",
   "execution_count": null,
   "metadata": {
    "collapsed": false
   },
   "outputs": [],
   "source": [
    "statuses"
   ]
  },
  {
   "cell_type": "code",
   "execution_count": 13,
   "metadata": {
    "collapsed": false
   },
   "outputs": [
    {
     "data": {
      "text/plain": [
       "{'Complete': 166, 'Error': 0, 'Ready': 10, 'Running': 0, 'Unknown': 18}"
      ]
     },
     "execution_count": 13,
     "metadata": {},
     "output_type": "execute_result"
    }
   ],
   "source": [
    "counts"
   ]
  },
  {
   "cell_type": "code",
   "execution_count": 14,
   "metadata": {
    "collapsed": false
   },
   "outputs": [
    {
     "name": "stdout",
     "output_type": "stream",
     "text": [
      "0716f4d7-9411-40d3-b001-4a021cf0c2e1\n",
      "0edcca3b-6d7f-45ea-9dc2-a7172d68a01d\n",
      "1cf82e21-095e-4eb6-b554-60a5d9363762\n",
      "2ec6b483-da85-4781-b5f0-075531580754\n",
      "417eceab-0a0a-4040-a087-e33d4c38f7dc\n",
      "560f1259-63e6-40cf-b5ce-40b715490d5c\n",
      "56d7e5b5-3845-441a-83fa-2996f493501c\n",
      "5ac6f05a-b4f4-4550-aac9-c6e5327e9f32\n",
      "5d571036-8dab-4e3f-923d-d058d88f7e96\n",
      "70f3c240-e3bf-43fa-8bb5-7701167e6b94\n",
      "a302e259-80cd-425e-b0b0-278ab8778c88\n",
      "a3f38dec-7696-44cb-b376-7462997d9a97\n",
      "a4b88f80-50f9-496a-8b0b-8234b05e4dc0\n",
      "a58d92f5-f1bb-4cfb-88ee-559e6eaeaf4c\n",
      "cbd8bbe5-389f-438e-b324-7bf3ecc1b46d\n",
      "e8ed025a-1bd2-44d1-bc79-349db4376822\n",
      "f4783a27-2b2c-4366-95bb-5e058fcaf869\n",
      "f8644401-fcff-4a77-bf47-2418e60d19ae\n"
     ]
    }
   ],
   "source": [
    "for status in session.query(Simulation_Status).filter(Simulation_Status.status==\"Unknown\"):\n",
    "    print(status.id)\n"
   ]
  },
  {
   "cell_type": "code",
   "execution_count": 15,
   "metadata": {
    "collapsed": false
   },
   "outputs": [],
   "source": [
    "session.commit()"
   ]
  },
  {
   "cell_type": "markdown",
   "metadata": {},
   "source": [
    "# Shut down SQL session when done"
   ]
  },
  {
   "cell_type": "code",
   "execution_count": 16,
   "metadata": {
    "collapsed": true
   },
   "outputs": [],
   "source": [
    "session.close()"
   ]
  }
 ],
 "metadata": {
  "kernelspec": {
   "display_name": "Python 3",
   "language": "python",
   "name": "python3"
  },
  "language_info": {
   "codemirror_mode": {
    "name": "ipython",
    "version": 3
   },
   "file_extension": ".py",
   "mimetype": "text/x-python",
   "name": "python",
   "nbconvert_exporter": "python",
   "pygments_lexer": "ipython3",
   "version": "3.4.3"
  }
 },
 "nbformat": 4,
 "nbformat_minor": 0
}
