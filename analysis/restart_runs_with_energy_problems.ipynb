{
 "cells": [
  {
   "cell_type": "code",
   "execution_count": null,
   "metadata": {
    "collapsed": false
   },
   "outputs": [],
   "source": [
    "from __future__ import print_function\n",
    "\n",
    "import numpy as np\n",
    "import glob\n",
    "\n",
    "## Boilerplate path hack to give access to full clustered_SNe package\n",
    "import sys, os\n",
    "if __package__ is None:\n",
    "    if os.pardir not in sys.path[0]:\n",
    "        file_dir = os.getcwd()\n",
    "        sys.path.insert(0, os.path.join(file_dir, \n",
    "                                        os.pardir, \n",
    "                                        os.pardir))\n",
    "        \n",
    "from clustered_SNe import data_dir_default\n",
    "from clustered_SNe.analysis.constants import m_proton, pc, yr, M_solar, \\\n",
    "                                   metallicity_solar\n",
    "from clustered_SNe.analysis.parse import Overview, RunSummary, \\\n",
    "                                         Inputs, \\\n",
    "                                         get_full_id_from_partial_id\n",
    "\n",
    "from clustered_SNe.analysis.database_helpers import session, \\\n",
    "                                                Simulation, \\\n",
    "                                                Simulation_Inputs, \\\n",
    "                                                Simulation_Status\n"
   ]
  },
  {
   "cell_type": "code",
   "execution_count": null,
   "metadata": {
    "collapsed": false
   },
   "outputs": [],
   "source": [
    "data_dir = data_dir_default\n",
    "data_dir = \"../energy_restarts/\"\n"
   ]
  },
  {
   "cell_type": "code",
   "execution_count": null,
   "metadata": {
    "collapsed": true
   },
   "outputs": [],
   "source": [
    "ids = [Overview(filename).id for filename in glob.glob(os.path.join(data_dir, \"*_overview.dat\"))]"
   ]
  },
  {
   "cell_type": "code",
   "execution_count": null,
   "metadata": {
    "collapsed": false
   },
   "outputs": [],
   "source": [
    "qsub_system = \"PBS\"\n",
    "\n",
    "paths = glob.glob(\"../src/tmp_in_par/*\")\n",
    "for path in paths:\n",
    "    os.remove(path)\n",
    "\n",
    "paths = glob.glob(\"../scripts/\" + qsub_system + \"/tmp_restart/*\")\n",
    "for path in paths:\n",
    "    os.remove(path)\n",
    "\n",
    "f_delete = open(\"delete_script\", mode=\"w\")\n",
    "f_delete.write(\"#!/bin/bash \\n\")\n",
    "f_delete.write(\"mkdir -p _tmp_ \\n\")\n",
    "\n",
    "f_copy = open(\"copy_script\", mode=\"w\")\n",
    "f_copy.write(\"#!/bin/bash \\n\")\n",
    "f_copy.write(\"mkdir -p ../energy_restarts \\n\")\n",
    "    \n",
    "f_submit = open(\"submit_script\", mode=\"w\")\n",
    "f_submit.write(\"#!/bin/bash \\n\")\n",
    "\n",
    "for id in ids:\n",
    "\n",
    "    print(\"id: \", id)\n",
    "    run_summary = RunSummary(data_dir=data_dir, id=id)\n",
    "\n",
    "    bad_checkpoint_name = run_summary.first_unreasonable_energy()\n",
    "    if bad_checkpoint_name is None:\n",
    "        continue\n",
    "    bad_checkpoint_num = int(bad_checkpoint_name.split(\"_\")[-1].strip(\".dat\"))\n",
    "    restart_checkpoints_needed = 100 - (bad_checkpoint_num % 100)\n",
    "    print(\"bad_checkpoint_num: \", bad_checkpoint_num)\n",
    "    print(\"new checkpoints_needed: \", restart_checkpoints_needed)\n",
    "    \n",
    "    bad_checkpoint_index = np.argmax(np.array(run_summary.filenames)==bad_checkpoint_name)\n",
    "    for filename in run_summary.filenames[:bad_checkpoint_index]:\n",
    "        f_delete.write(\"cp -p       \" + os.path.basename(filename) + \" _tmp_/ \\n\")\n",
    "        f_copy.write(  \"cp -p \" + os.path.basename(filename) + \" ../energy_restarts \\n\")\n",
    "\n",
    "    f_copy.write(  \"cp -p \" + id + \"_SNe.dat            \" + \" ../energy_restarts \\n\")\n",
    "    f_copy.write(  \"cp -p \" + id + \"_overview.dat       \" + \" ../energy_restarts \\n\")\n",
    "    f_copy.write(  \"cp -p \" + id + \"_inputs.dat         \" + \" ../energy_restarts \\n\")\n",
    "\n",
    "    f_delete.write(\"rm -f       \" + id + \"_checkpoint* \" + \"\\n\")\n",
    "    f_delete.write(\"cp -p _tmp_/\" + id + \"* . \\n\")\n",
    "    \n",
    "    restart_time_needed = run_summary.overview.SNe_times.max() * 3 - run_summary.times[bad_checkpoint_index]\n",
    "    if bad_checkpoint_num > 99:\n",
    "        restart_time_needed = 3e15\n",
    "    print(\"extra time needed: \", restart_time_needed, \"[s]\")\n",
    "\n",
    "    print(\"\")\n",
    "\n",
    "    CFL = .0125\n",
    "        \n",
    "    f_submit.write(\"qsub \" +\n",
    "                       \"-v RESTART_ID=\" + run_summary.id + \",\"\n",
    "                       + \"RESTART_N_CHECKPOINTS=\" + str(restart_checkpoints_needed) + \",\"\n",
    "                       + \"RESTART_DELTA_TIME=\" + str(restart_time_needed) + \",\"\n",
    "                       + \"RESTART_CFL=\" + str(CFL)\n",
    "                    + \" -N \" + id + \"_restart.batch \"\n",
    "                    + \" ../scripts/\" + qsub_system + \"/restart.batch.env_variables \\n\")\n",
    "        \n",
    "f_delete.write(\"rm -rf _tmp_ \\n\")\n",
    "f_delete.close()\n",
    "f_submit.close()\n",
    "f_copy.close()"
   ]
  },
  {
   "cell_type": "code",
   "execution_count": null,
   "metadata": {
    "collapsed": false
   },
   "outputs": [],
   "source": [
    "for id in ids:\n",
    "    session.query(Simulation_Status).filter(Simulation_Status.id == id).update({\"status\":\"Running\"})\n",
    "    sim_status = session.query(Simulation_Status).get(id)\n",
    "    print(sim_status.status)\n",
    "    print(id)"
   ]
  },
  {
   "cell_type": "code",
   "execution_count": null,
   "metadata": {
    "collapsed": false
   },
   "outputs": [],
   "source": [
    "session.commit()"
   ]
  }
 ],
 "metadata": {
  "kernelspec": {
   "display_name": "Python 3",
   "language": "python",
   "name": "python3"
  },
  "language_info": {
   "codemirror_mode": {
    "name": "ipython",
    "version": 3
   },
   "file_extension": ".py",
   "mimetype": "text/x-python",
   "name": "python",
   "nbconvert_exporter": "python",
   "pygments_lexer": "ipython3",
   "version": "3.4.4"
  }
 },
 "nbformat": 4,
 "nbformat_minor": 0
}
