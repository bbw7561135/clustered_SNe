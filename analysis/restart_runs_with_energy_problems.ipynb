{
 "cells": [
  {
   "cell_type": "code",
   "execution_count": 1,
   "metadata": {
    "collapsed": false
   },
   "outputs": [
    {
     "name": "stderr",
     "output_type": "stream",
     "text": [
      "/home/egentry/anaconda3/lib/python3.4/site-packages/IPython/kernel/__init__.py:13: ShimWarning: The `IPython.kernel` package has been deprecated. You should import from ipykernel or jupyter_client instead.\n",
      "  \"You should import from ipykernel or jupyter_client instead.\", ShimWarning)\n",
      "/media/egentry/Windows7_OS/Users/Eric/Dropbox/data/clustered_SNe/analysis/../../clustered_SNe/analysis/database_helpers.py:41: UserWarning: `session' from database_helpers can only write using 1 process at a time\n",
      "  UserWarning)\n"
     ]
    }
   ],
   "source": [
    "from __future__ import print_function\n",
    "\n",
    "import numpy as np\n",
    "import glob\n",
    "\n",
    "\n",
    "## Boilerplate path hack to give access to full clustered_SNe package\n",
    "import sys, os\n",
    "if __package__ is None:\n",
    "    if os.pardir not in sys.path[0]:\n",
    "        file_dir = os.getcwd()\n",
    "        sys.path.insert(0, os.path.join(file_dir, \n",
    "                                        os.pardir, \n",
    "                                        os.pardir))\n",
    "        \n",
    "\n",
    "from clustered_SNe.analysis.constants import m_proton, pc, yr, M_solar, \\\n",
    "                                   metallicity_solar\n",
    "from clustered_SNe.analysis.parse import Overview, RunSummary, \\\n",
    "                                         Inputs, \\\n",
    "                                         get_full_id_from_partial_id\n",
    "\n",
    "from clustered_SNe.analysis.database_helpers import session, \\\n",
    "                                                Simulation, \\\n",
    "                                                Simulation_Inputs, \\\n",
    "                                                Simulation_Status\n"
   ]
  },
  {
   "cell_type": "code",
   "execution_count": 2,
   "metadata": {
    "collapsed": true
   },
   "outputs": [],
   "source": [
    "data_dir = \"../saved_runs/cluster_parameter_study/\""
   ]
  },
  {
   "cell_type": "code",
   "execution_count": 3,
   "metadata": {
    "collapsed": false
   },
   "outputs": [],
   "source": [
    "ids = [\n",
    "\"32226257-da2d-47ae-85ef-d99b39621202\",\n",
    "\"20b4fccc-e53f-48ca-894b-3ee282bad8ea\",\n",
    "\"3cf9d3f4-b657-4437-a59f-324de0b52763\",\n",
    "\"db48961d-c5d2-4495-8c47-a1922d0170a9\",\n",
    "\"45a6c151-774b-479f-b4fc-83c9945516c7\",\n",
    "\"b7ef7e0d-72b5-4592-ad9a-288fa98fd7cc\",\n",
    "\"af79be27-ff8e-47c1-bee1-e29a2786d908\",\n",
    "\"e219741b-5ff9-488c-8a0b-c64b6f568c00\",\n",
    "\"9504c81d-b2f7-4593-8c28-e661c501cb11\",\n",
    "\"c436d5db-4feb-41a0-8175-f6dd2287a6b9\",\n",
    "\"e3d7135a-0265-4216-b63f-e29ba039f912\",\n",
    "\"c7b202a2-dbf2-46fb-a192-4ab258b70b9d\"\n",
    "]\n",
    "\n",
    "# ids = [get_full_id_from_partial_id(data_dir, partial_id) for partial_id in ids]\n"
   ]
  },
  {
   "cell_type": "code",
   "execution_count": 4,
   "metadata": {
    "collapsed": true
   },
   "outputs": [],
   "source": [
    "# in_par_restart_template = \"\"\"\n",
    "# //Time Range//\n",
    "\n",
    "# T_Start             1e0\n",
    "# T_End               {0:.2e}\n",
    "\n",
    "\n",
    "# //Output Frequency//\n",
    "\n",
    "# Num_Reports         1000\n",
    "# Num_Checkpoints     {1:d}\n",
    "# Use_Logtime         true\n",
    "\n",
    "\n",
    "# //Grid Dimensions//\n",
    "\n",
    "# Num_R               1024\n",
    "# R_Min               3.08e16\n",
    "# R_Max               3.08e20\n",
    "# Log_Zoning          0        //0=Uniform, 1=Log, 2=Hybrid\n",
    "# Log_Radius          0.25     //Only for option 2 of Log_Zoning\n",
    "\n",
    "# Max_Aspect_Short    10.0\n",
    "# Max_Aspect_Long     10.0     //Aspect Ratio AMR Refinement Criteria\n",
    "\n",
    "\n",
    "# //Numerical Parameters//\n",
    "\n",
    "# CFL                 {2:f}\n",
    "# PLM                 1\n",
    "# RK2                 1\n",
    "# H_0                 0.0\n",
    "# H_1                 0.1\n",
    "# Riemann_Solver      1       //0=HLL, 1=HLLC\n",
    "# Mesh_Motion         1       //0=Fixed, 1=By Cell, 2=Riemann Solver\n",
    "# Density_Floor       1e-60\n",
    "# Pressure_Floor      1e-40 \n",
    "\n",
    "\n",
    "# //Cooling Parameters//\n",
    "\n",
    "# With_Cooling        true\n",
    "# Cooling_Type        equilibrium\n",
    "\n",
    "\n",
    "# //Hydro Parameters//\n",
    "\n",
    "# Adiabatic_Index     1.666666667\n",
    "\n",
    "\n",
    "# //Initial Conditions//\n",
    "\n",
    "# ICs                 restart\n",
    "\n",
    "\n",
    "# //Feedback//\n",
    "\n",
    "# mass_loss           uniform\n",
    "# \"\"\"\n",
    "\n",
    "# restart_batch_template = \"\"\"#!/bin/bash\n",
    "# #\n",
    "# #$ -M egentry@ucsc.edu\n",
    "# #$ -m e\n",
    "# #\n",
    "# #$ -cwd\n",
    "# #$ -S /bin/bash\n",
    "# #\n",
    "\n",
    "# source $HOME/.bashrc\n",
    "# time ../bin/SNe ../src/in.par.restart.{0} {0}\"\"\""
   ]
  },
  {
   "cell_type": "code",
   "execution_count": 9,
   "metadata": {
    "collapsed": false
   },
   "outputs": [
    {
     "name": "stdout",
     "output_type": "stream",
     "text": [
      "id:  32226257-da2d-47ae-85ef-d99b39621202\n",
      "bad_checkpoint_num:  2\n",
      "new checkpoints_needed:  97\n",
      "extra time needed:  2.8148237e+15 [s]\n",
      "\n",
      "id:  20b4fccc-e53f-48ca-894b-3ee282bad8ea\n",
      "bad_checkpoint_num:  64\n",
      "new checkpoints_needed:  35\n",
      "extra time needed:  1.6281142e+15 [s]\n",
      "\n",
      "id:  3cf9d3f4-b657-4437-a59f-324de0b52763\n",
      "bad_checkpoint_num:  38\n",
      "new checkpoints_needed:  61\n",
      "extra time needed:  2.307064e+15 [s]\n",
      "\n",
      "id:  db48961d-c5d2-4495-8c47-a1922d0170a9\n",
      "bad_checkpoint_num:  86\n",
      "new checkpoints_needed:  13\n",
      "extra time needed:  5.98064e+14 [s]\n",
      "\n",
      "id:  45a6c151-774b-479f-b4fc-83c9945516c7\n",
      "bad_checkpoint_num:  2\n",
      "new checkpoints_needed:  97\n",
      "extra time needed:  1.9919052e+15 [s]\n",
      "\n",
      "id:  b7ef7e0d-72b5-4592-ad9a-288fa98fd7cc\n",
      "bad_checkpoint_num:  67\n",
      "new checkpoints_needed:  32\n",
      "extra time needed:  2.485415e+14 [s]\n",
      "\n",
      "id:  af79be27-ff8e-47c1-bee1-e29a2786d908\n",
      "bad_checkpoint_num:  85\n",
      "new checkpoints_needed:  14\n",
      "extra time needed:  8.835297e+14 [s]\n",
      "\n",
      "id:  e219741b-5ff9-488c-8a0b-c64b6f568c00\n",
      "bad_checkpoint_num:  86\n",
      "new checkpoints_needed:  13\n",
      "extra time needed:  4.117261e+14 [s]\n",
      "\n",
      "id:  9504c81d-b2f7-4593-8c28-e661c501cb11\n",
      "bad_checkpoint_num:  79\n",
      "new checkpoints_needed:  20\n",
      "extra time needed:  9.394528e+14 [s]\n",
      "\n",
      "id:  c436d5db-4feb-41a0-8175-f6dd2287a6b9\n",
      "bad_checkpoint_num:  97\n",
      "new checkpoints_needed:  2\n",
      "extra time needed:  1.44413e+14 [s]\n",
      "\n",
      "id:  e3d7135a-0265-4216-b63f-e29ba039f912\n",
      "bad_checkpoint_num:  11\n",
      "new checkpoints_needed:  88\n",
      "extra time needed:  1.5246732e+15 [s]\n",
      "\n",
      "id:  c7b202a2-dbf2-46fb-a192-4ab258b70b9d\n",
      "bad_checkpoint_num:  57\n",
      "new checkpoints_needed:  42\n",
      "extra time needed:  2.681557e+15 [s]\n",
      "\n"
     ]
    }
   ],
   "source": [
    "qsub_system = \"SGE\"\n",
    "\n",
    "paths = glob.glob(\"../src/tmp_in_par/*\")\n",
    "for path in paths:\n",
    "    os.remove(path)\n",
    "\n",
    "paths = glob.glob(\"../scripts/\" + qsub_system + \"/tmp_restart/*\")\n",
    "for path in paths:\n",
    "    os.remove(path)\n",
    "\n",
    "f_delete = open(\"delete_script\", mode=\"w\")\n",
    "f_delete.write(\"#!/bin/bash \\n\")\n",
    "f_delete.write(\"mkdir -p _tmp_ \\n\")\n",
    "\n",
    "    \n",
    "f_submit = open(\"submit_all\", mode=\"w\")\n",
    "f_submit.write(\"#!/bin/bash \\n\")\n",
    "\n",
    "for id in ids:\n",
    "\n",
    "    print(\"id: \", id)\n",
    "    run_summary = RunSummary(data_dir=data_dir, id=id)\n",
    "\n",
    "    bad_checkpoint_name = run_summary.first_unreasonable_energy()\n",
    "    if bad_checkpoint_name is None:\n",
    "        continue\n",
    "    bad_checkpoint_num = int(bad_checkpoint_name.split(\"_\")[-1].strip(\".dat\"))\n",
    "    restart_checkpoints_needed = 100 - (bad_checkpoint_num % 100)\n",
    "    print(\"bad_checkpoint_num: \", bad_checkpoint_num)\n",
    "    print(\"new checkpoints_needed: \", restart_checkpoints_needed)\n",
    "    \n",
    "    bad_checkpoint_index = np.argmax(np.array(run_summary.filenames)==bad_checkpoint_name)\n",
    "    for filename in run_summary.filenames[:bad_checkpoint_index]:\n",
    "        f_delete.write(\"mv       \" + os.path.basename(filename) + \" _tmp_/ \\n\")\n",
    "    f_delete.write(\"rm -f    \" + id + \"_checkpoint* \" + \"\\n\")\n",
    "    f_delete.write(\"mv _tmp_/\" + id + \"* . \\n\")\n",
    "    \n",
    "    restart_time_needed = run_summary.overview.SNe_times.max() * 3 - run_summary.times[bad_checkpoint_index]\n",
    "    if bad_checkpoint_num > 99:\n",
    "        restart_time_needed = 3e15\n",
    "    print(\"extra time needed: \", restart_time_needed, \"[s]\")\n",
    "\n",
    "    print(\"\")\n",
    "\n",
    "    CFL = .025\n",
    "\n",
    "#     with open(\"../src/tmp_in_par/in.par.restart.\" + run_summary.id, mode=\"w\") as f:\n",
    "#         f.write(in_par_restart_template.format(restart_time_needed, restart_checkpoints_needed, CFL))\n",
    "\n",
    "#     with open(\"../scripts/SGE/tmp_restart/restart.batch.\" + run_summary.id, mode=\"w\") as f:\n",
    "#         f.write(restart_batch_template.format(run_summary.id))\n",
    "        \n",
    "    f_submit.write(\"qsub \" +\n",
    "                       \"-v RESTART_ID=\" + run_summary.id + \",\"\n",
    "                       + \"RESTART_N_CHECKPOINTS=\" + str(restart_checkpoints_needed) + \",\"\n",
    "                       + \"RESTART_DELTA_TIME=\" + str(restart_time_needed) + \",\"\n",
    "                       + \"RESTART_CFL=\" + str(CFL)\n",
    "                    + \"../scripts/\" + qsub_system + \"/restart.batch.env_variables \\n\")\n",
    "        \n",
    "f_delete.write(\"rm -rf _tmp_ \\n\")\n",
    "f_delete.close()\n",
    "f_submit.close()"
   ]
  },
  {
   "cell_type": "code",
   "execution_count": 12,
   "metadata": {
    "collapsed": false
   },
   "outputs": [
    {
     "data": {
      "text/plain": [
       "['32226257-da2d-47ae-85ef-d99b39621202',\n",
       " '20b4fccc-e53f-48ca-894b-3ee282bad8ea',\n",
       " '3cf9d3f4-b657-4437-a59f-324de0b52763',\n",
       " 'db48961d-c5d2-4495-8c47-a1922d0170a9',\n",
       " '45a6c151-774b-479f-b4fc-83c9945516c7',\n",
       " 'b7ef7e0d-72b5-4592-ad9a-288fa98fd7cc',\n",
       " 'af79be27-ff8e-47c1-bee1-e29a2786d908',\n",
       " 'e219741b-5ff9-488c-8a0b-c64b6f568c00',\n",
       " '9504c81d-b2f7-4593-8c28-e661c501cb11',\n",
       " 'c436d5db-4feb-41a0-8175-f6dd2287a6b9',\n",
       " 'e3d7135a-0265-4216-b63f-e29ba039f912',\n",
       " 'c7b202a2-dbf2-46fb-a192-4ab258b70b9d']"
      ]
     },
     "execution_count": 12,
     "metadata": {},
     "output_type": "execute_result"
    }
   ],
   "source": [
    "ids"
   ]
  },
  {
   "cell_type": "code",
   "execution_count": 6,
   "metadata": {
    "collapsed": false
   },
   "outputs": [
    {
     "name": "stdout",
     "output_type": "stream",
     "text": [
      "Running\n",
      "32226257-da2d-47ae-85ef-d99b39621202\n",
      "Running\n",
      "20b4fccc-e53f-48ca-894b-3ee282bad8ea\n",
      "Running\n",
      "3cf9d3f4-b657-4437-a59f-324de0b52763\n",
      "Running\n",
      "db48961d-c5d2-4495-8c47-a1922d0170a9\n",
      "Running\n",
      "45a6c151-774b-479f-b4fc-83c9945516c7\n",
      "Running\n",
      "b7ef7e0d-72b5-4592-ad9a-288fa98fd7cc\n",
      "Running\n",
      "af79be27-ff8e-47c1-bee1-e29a2786d908\n",
      "Running\n",
      "e219741b-5ff9-488c-8a0b-c64b6f568c00\n",
      "Running\n",
      "9504c81d-b2f7-4593-8c28-e661c501cb11\n",
      "Running\n",
      "c436d5db-4feb-41a0-8175-f6dd2287a6b9\n",
      "Running\n",
      "e3d7135a-0265-4216-b63f-e29ba039f912\n",
      "Running\n",
      "c7b202a2-dbf2-46fb-a192-4ab258b70b9d\n"
     ]
    }
   ],
   "source": [
    "for id in ids:\n",
    "#     full_id = get_full_id_from_partial_id(data_dir, id)\n",
    "    session.query(Simulation_Status).filter(Simulation_Status.id == id).update({\"status\":\"Running\"})\n",
    "    sim_status = session.query(Simulation_Status).get(id)\n",
    "    print(sim_status.status)\n",
    "    print(id)"
   ]
  },
  {
   "cell_type": "code",
   "execution_count": 8,
   "metadata": {
    "collapsed": false
   },
   "outputs": [],
   "source": [
    "session.commit()"
   ]
  }
 ],
 "metadata": {
  "kernelspec": {
   "display_name": "Python 3",
   "language": "python",
   "name": "python3"
  },
  "language_info": {
   "codemirror_mode": {
    "name": "ipython",
    "version": 3
   },
   "file_extension": ".py",
   "mimetype": "text/x-python",
   "name": "python",
   "nbconvert_exporter": "python",
   "pygments_lexer": "ipython3",
   "version": "3.4.4"
  }
 },
 "nbformat": 4,
 "nbformat_minor": 0
}
