{
 "cells": [
  {
   "cell_type": "code",
   "execution_count": 1,
   "metadata": {
    "collapsed": false
   },
   "outputs": [
    {
     "name": "stderr",
     "output_type": "stream",
     "text": [
      "/Users/egentry/anaconda/lib/python3.4/site-packages/IPython/kernel/__init__.py:13: ShimWarning: The `IPython.kernel` package has been deprecated. You should import from ipykernel or jupyter_client instead.\n",
      "  \"You should import from ipykernel or jupyter_client instead.\", ShimWarning)\n"
     ]
    }
   ],
   "source": [
    "from __future__ import print_function, division\n",
    "\n",
    "%matplotlib inline\n",
    "import matplotlib.pyplot as plt\n",
    "from matplotlib.ticker import LogFormatterMathtext, \\\n",
    "                              LogLocator\n",
    "import seaborn as sns\n",
    "sns.set(context=\"poster\")\n",
    "\n",
    "from IPython.display import display, Math\n",
    "from ipywidgets import interactive, RadioButtons\n",
    "\n",
    "import numpy as np\n",
    "import pandas as pd\n",
    "\n",
    "from astropy.modeling import models, fitting\n",
    "\n",
    "## Boilerplate path hack to give access to full SNe package\n",
    "import sys, os\n",
    "if __package__ is None:\n",
    "    if os.pardir not in sys.path[0]:\n",
    "        file_dir = os.getcwd()\n",
    "        sys.path.insert(0, os.path.join(file_dir, \n",
    "                                        os.pardir, \n",
    "                                        os.pardir))\n",
    "\n",
    "from SNe.analysis.constants import m_proton, metallicity_solar\n",
    "from SNe.analysis.parse import parse_run, RunSummary\n",
    "from SNe.analysis.parameter_study_file_structure import make_dirname_from_properties"
   ]
  },
  {
   "cell_type": "code",
   "execution_count": 2,
   "metadata": {
    "collapsed": false,
    "scrolled": true
   },
   "outputs": [
    {
     "name": "stdout",
     "output_type": "stream",
     "text": [
      "\n",
      "metallicity:  2e-05\n",
      "background density: 2.22458726e-27\n",
      "cooling index:  35\n",
      "\n",
      "metallicity:  0.0002\n",
      "background density: 2.22458726e-27\n",
      "cooling index:  35\n",
      "\n",
      "metallicity:  0.000632455532034\n",
      "background density: 2.22458726e-27\n",
      "cooling index:  35\n",
      "\n",
      "metallicity:  0.002\n",
      "background density: 2.22458726e-27\n",
      "cooling index:  35\n",
      "\n",
      "metallicity:  0.00632455532034\n",
      "background density: 2.22458726e-27\n",
      "cooling index:  35\n",
      "\n",
      "metallicity:  0.02\n",
      "background density: 2.22458726e-27\n",
      "cooling index:  34\n",
      "\n",
      "metallicity:  0.0632455532034\n",
      "background density: 2.22458726e-27\n",
      "cooling index:  33\n",
      "\n",
      "metallicity:  2e-05\n",
      "background density: 2.22458726e-26\n",
      "cooling index:  35\n",
      "\n",
      "metallicity:  0.0002\n",
      "background density: 2.22458726e-26\n",
      "cooling index:  35\n",
      "\n",
      "metallicity:  0.000632455532034\n",
      "background density: 2.22458726e-26\n",
      "cooling index:  36\n",
      "\n",
      "metallicity:  0.002\n",
      "background density: 2.22458726e-26\n",
      "cooling index:  35\n",
      "\n",
      "metallicity:  0.00632455532034\n",
      "background density: 2.22458726e-26\n",
      "cooling index:  35\n",
      "\n",
      "metallicity:  0.02\n",
      "background density: 2.22458726e-26\n",
      "cooling index:  34\n",
      "\n",
      "metallicity:  0.0632455532034\n",
      "background density: 2.22458726e-26\n",
      "cooling index:  34\n",
      "\n",
      "metallicity:  2e-05\n",
      "background density: 2.22458726e-25\n",
      "cooling index:  35\n",
      "\n",
      "metallicity:  0.0002\n",
      "background density: 2.22458726e-25\n",
      "cooling index:  36\n",
      "\n",
      "metallicity:  0.000632455532034\n",
      "background density: 2.22458726e-25\n",
      "cooling index:  36\n",
      "\n",
      "metallicity:  0.002\n",
      "background density: 2.22458726e-25\n",
      "cooling index:  36\n",
      "\n",
      "metallicity:  0.00632455532034\n",
      "background density: 2.22458726e-25\n",
      "cooling index:  35\n",
      "\n",
      "metallicity:  0.02\n",
      "background density: 2.22458726e-25\n",
      "cooling index:  35\n",
      "\n",
      "metallicity:  0.0632455532034\n",
      "background density: 2.22458726e-25\n",
      "cooling index:  34\n",
      "\n",
      "metallicity:  2e-05\n",
      "background density: 2.22458726e-24\n",
      "cooling index:  36\n",
      "\n",
      "metallicity:  0.0002\n",
      "background density: 2.22458726e-24\n",
      "cooling index:  36\n",
      "\n",
      "metallicity:  0.000632455532034\n",
      "background density: 2.22458726e-24\n",
      "cooling index:  36\n",
      "\n",
      "metallicity:  0.002\n",
      "background density: 2.22458726e-24\n",
      "cooling index:  36\n",
      "\n",
      "metallicity:  0.00632455532034\n",
      "background density: 2.22458726e-24\n",
      "cooling index:  35\n",
      "\n",
      "metallicity:  0.02\n",
      "background density: 2.22458726e-24\n",
      "cooling index:  35\n",
      "\n",
      "metallicity:  0.0632455532034\n",
      "background density: 2.22458726e-24\n",
      "cooling index:  34\n",
      "\n",
      "metallicity:  2e-05\n",
      "background density: 2.22458726e-23\n",
      "cooling index:  36\n",
      "\n",
      "metallicity:  0.0002\n",
      "background density: 2.22458726e-23\n",
      "cooling index:  35\n",
      "\n",
      "metallicity:  0.000632455532034\n",
      "background density: 2.22458726e-23\n",
      "cooling index:  35\n",
      "\n",
      "metallicity:  0.002\n",
      "background density: 2.22458726e-23\n",
      "cooling index:  35\n",
      "\n",
      "metallicity:  0.00632455532034\n",
      "background density: 2.22458726e-23\n",
      "cooling index:  35\n",
      "\n",
      "metallicity:  0.02\n",
      "background density: 2.22458726e-23\n",
      "cooling index:  34\n",
      "\n",
      "metallicity:  0.0632455532034\n",
      "background density: 2.22458726e-23\n",
      "cooling index:  34\n",
      "\n",
      "metallicity:  2e-05\n",
      "background density: 2.22458726e-22\n",
      "cooling index:  36\n",
      "\n",
      "metallicity:  0.0002\n",
      "background density: 2.22458726e-22\n",
      "cooling index:  35\n",
      "\n",
      "metallicity:  0.000632455532034\n",
      "background density: 2.22458726e-22\n",
      "cooling index:  36\n",
      "\n",
      "metallicity:  0.002\n",
      "background density: 2.22458726e-22\n",
      "cooling index:  36\n",
      "\n",
      "metallicity:  0.00632455532034\n",
      "background density: 2.22458726e-22\n",
      "cooling index:  36\n",
      "\n",
      "metallicity:  0.02\n",
      "background density: 2.22458726e-22\n",
      "cooling index:  36\n",
      "\n",
      "metallicity:  0.0632455532034\n",
      "background density: 2.22458726e-22\n",
      "cooling index:  35\n",
      "\n",
      "metallicity:  2e-05\n",
      "background density: 2.22458726e-21\n",
      "cooling index:  36\n",
      "\n",
      "metallicity:  0.0002\n",
      "background density: 2.22458726e-21\n",
      "cooling index:  36\n",
      "\n",
      "metallicity:  0.000632455532034\n",
      "background density: 2.22458726e-21\n",
      "cooling index:  36\n",
      "\n",
      "metallicity:  0.002\n",
      "background density: 2.22458726e-21\n",
      "cooling index:  36\n",
      "\n",
      "metallicity:  0.00632455532034\n",
      "background density: 2.22458726e-21\n",
      "cooling index:  36\n",
      "\n",
      "metallicity:  0.02\n",
      "background density: 2.22458726e-21\n",
      "cooling index:  36\n",
      "\n",
      "metallicity:  0.0632455532034\n",
      "background density: 2.22458726e-21\n",
      "cooling index:  35\n"
     ]
    }
   ],
   "source": [
    "background_temperature = 1e4\n",
    "\n",
    "background_densities = 1.33 * m_proton * 10**np.array([ 0,\n",
    "                                                        1,\n",
    "                                                        2,\n",
    "                                                        3,\n",
    "                                                       -1,\n",
    "                                                       -2,\n",
    "                                                       -3], dtype=float)\n",
    "\n",
    "metallicities = metallicity_solar * 10**np.array([ 0.0, \n",
    "                                                   0.5,\n",
    "                                                  -0.5,\n",
    "                                                  -1.0,\n",
    "                                                  -1.5,\n",
    "                                                  -2.0,\n",
    "                                                  -3.0], dtype=float)\n",
    "background_densities.sort()\n",
    "metallicities.sort()\n",
    "\n",
    "columns = [\"background_density\", \"background_temperature\", \"metallicity\",\n",
    "           \"number_density\",\n",
    "           \"E_R_kin\", \"E_R_int\", \"E_R_tot\", \"t_f\", \"R_shock\"]\n",
    "\n",
    "df = pd.DataFrame(index=[0], columns=columns)\n",
    "df = df[0:0]\n",
    "with_cooling = True\n",
    "i = 0\n",
    "for background_density in background_densities:\n",
    "    for metallicity in metallicities:\n",
    "        print()\n",
    "        print(\"metallicity: \", metallicity)\n",
    "        print(\"background density:\", background_density)\n",
    "        data_dir = make_dirname_from_properties(background_density,\n",
    "                                                metallicity,\n",
    "                                                background_temperature,\n",
    "                                                with_cooling)\n",
    "        last_run = RunSummary()\n",
    "        parse_results = parse_run(data_dir=data_dir, id=\"\", last_run=last_run)\n",
    "        cooling_index = np.argmin(np.abs(last_run.times - last_run.t_f))\n",
    "        print(\"cooling index: \", cooling_index)\n",
    "        \n",
    "        df.loc[i] = [background_density, background_temperature, metallicity,\n",
    "                     background_density / m_proton,\n",
    "                     last_run.E_R_kin[cooling_index], \n",
    "                     last_run.E_R_int[cooling_index], \n",
    "                     last_run.E_R_tot[cooling_index], \n",
    "                     last_run.t_f,\n",
    "                     last_run.R_shock[cooling_index]]\n",
    "        i += 1\n",
    "        \n",
    "        \n",
    "        "
   ]
  },
  {
   "cell_type": "code",
   "execution_count": 3,
   "metadata": {
    "collapsed": false
   },
   "outputs": [
    {
     "data": {
      "text/html": [
       "<div>\n",
       "<table border=\"1\" class=\"dataframe\">\n",
       "  <thead>\n",
       "    <tr style=\"text-align: right;\">\n",
       "      <th></th>\n",
       "      <th>background_density</th>\n",
       "      <th>background_temperature</th>\n",
       "      <th>metallicity</th>\n",
       "      <th>number_density</th>\n",
       "      <th>E_R_kin</th>\n",
       "      <th>E_R_int</th>\n",
       "      <th>E_R_tot</th>\n",
       "      <th>t_f</th>\n",
       "      <th>R_shock</th>\n",
       "    </tr>\n",
       "  </thead>\n",
       "  <tbody>\n",
       "    <tr>\n",
       "      <th>0</th>\n",
       "      <td>2.224587e-27</td>\n",
       "      <td>10000</td>\n",
       "      <td>0.000020</td>\n",
       "      <td>0.00133</td>\n",
       "      <td>2.852793e+49</td>\n",
       "      <td>5.605399e+51</td>\n",
       "      <td>5.633927e+51</td>\n",
       "      <td>2.017346e+15</td>\n",
       "      <td>5.973192e+21</td>\n",
       "    </tr>\n",
       "    <tr>\n",
       "      <th>1</th>\n",
       "      <td>2.224587e-27</td>\n",
       "      <td>10000</td>\n",
       "      <td>0.000200</td>\n",
       "      <td>0.00133</td>\n",
       "      <td>2.740644e+49</td>\n",
       "      <td>5.651454e+51</td>\n",
       "      <td>5.678861e+51</td>\n",
       "      <td>2.088940e+15</td>\n",
       "      <td>6.003581e+21</td>\n",
       "    </tr>\n",
       "    <tr>\n",
       "      <th>2</th>\n",
       "      <td>2.224587e-27</td>\n",
       "      <td>10000</td>\n",
       "      <td>0.000632</td>\n",
       "      <td>0.00133</td>\n",
       "      <td>3.216429e+49</td>\n",
       "      <td>3.894917e+51</td>\n",
       "      <td>3.927082e+51</td>\n",
       "      <td>1.769873e+15</td>\n",
       "      <td>5.339562e+21</td>\n",
       "    </tr>\n",
       "    <tr>\n",
       "      <th>3</th>\n",
       "      <td>2.224587e-27</td>\n",
       "      <td>10000</td>\n",
       "      <td>0.002000</td>\n",
       "      <td>0.00133</td>\n",
       "      <td>3.220956e+49</td>\n",
       "      <td>2.521353e+51</td>\n",
       "      <td>2.553563e+51</td>\n",
       "      <td>1.500688e+15</td>\n",
       "      <td>4.722664e+21</td>\n",
       "    </tr>\n",
       "    <tr>\n",
       "      <th>4</th>\n",
       "      <td>2.224587e-27</td>\n",
       "      <td>10000</td>\n",
       "      <td>0.006325</td>\n",
       "      <td>0.00133</td>\n",
       "      <td>2.821103e+49</td>\n",
       "      <td>1.323334e+51</td>\n",
       "      <td>1.351545e+51</td>\n",
       "      <td>1.271309e+15</td>\n",
       "      <td>4.079934e+21</td>\n",
       "    </tr>\n",
       "  </tbody>\n",
       "</table>\n",
       "</div>"
      ],
      "text/plain": [
       "   background_density  background_temperature  metallicity  number_density  \\\n",
       "0        2.224587e-27                   10000     0.000020         0.00133   \n",
       "1        2.224587e-27                   10000     0.000200         0.00133   \n",
       "2        2.224587e-27                   10000     0.000632         0.00133   \n",
       "3        2.224587e-27                   10000     0.002000         0.00133   \n",
       "4        2.224587e-27                   10000     0.006325         0.00133   \n",
       "\n",
       "        E_R_kin       E_R_int       E_R_tot           t_f       R_shock  \n",
       "0  2.852793e+49  5.605399e+51  5.633927e+51  2.017346e+15  5.973192e+21  \n",
       "1  2.740644e+49  5.651454e+51  5.678861e+51  2.088940e+15  6.003581e+21  \n",
       "2  3.216429e+49  3.894917e+51  3.927082e+51  1.769873e+15  5.339562e+21  \n",
       "3  3.220956e+49  2.521353e+51  2.553563e+51  1.500688e+15  4.722664e+21  \n",
       "4  2.821103e+49  1.323334e+51  1.351545e+51  1.271309e+15  4.079934e+21  "
      ]
     },
     "execution_count": 3,
     "metadata": {},
     "output_type": "execute_result"
    }
   ],
   "source": [
    "df.head()"
   ]
  },
  {
   "cell_type": "code",
   "execution_count": 4,
   "metadata": {
    "collapsed": false
   },
   "outputs": [],
   "source": [
    "energies = [\"tot\", \"kin\", \"int\" ]\n",
    "\n",
    "\n",
    "# astropy's models don't play well with fitting power laws\n",
    "# at least as far as making ones that look good in loglog plots\n",
    "# \n",
    "# So instead, I'm going to go with these ugly wrapper classes\n",
    "\n",
    "class SimultaneousModel(object):\n",
    "    \"\"\"Fit both metallicity and number density dependence\"\"\"\n",
    "    def __init__(self, metallicities, number_densities, energies):\n",
    "        super(SimultaneousModel, self).__init__()\n",
    "        self.model = self.fit(metallicities, number_densities, energies)\n",
    "        # should I keep the input metallicities, etc as attributes?\n",
    "        \n",
    "        \n",
    "    def __call__(self, metallicities, number_densities):\n",
    "        log_number_densities = np.log10(number_densities)\n",
    "        log_metallicities    = np.log10(metallicities / metallicity_solar)\n",
    "        \n",
    "        log_energies = self.model(log_metallicities, log_number_densities)\n",
    "        \n",
    "        return 10**log_energies\n",
    "        \n",
    "    def fit(self, metallicities, number_densities, energies):\n",
    "        fitter = fitting.LinearLSQFitter()\n",
    "        log_number_densities = np.log10(number_densities)\n",
    "        log_metallicities    = np.log10(metallicities / metallicity_solar)\n",
    "        log_energies         = np.log10(energies)\n",
    "        \n",
    "        model = models.Polynomial2D(1)\n",
    "        \n",
    "        fitted = fitter(model, log_metallicities,\n",
    "                               log_number_densities,\n",
    "                               log_energies)\n",
    "        return fitted\n",
    "    \n",
    "    def print_model(self):\n",
    "        result  = r\"E = \"\n",
    "        result += r\"{0:.2f} \\cdot 10^{{49}}\".format(10**self.model.c0_0.value/1e49)\n",
    "        result += r\" \\cdot (Z / Z_\\odot)^{{ {0:.2f} }}\".format(self.model.c1_0.value)\n",
    "        result += r\" \\cdot n_0^{{ {0:.2f} }}\".format(self.model.c0_1.value)\n",
    "        result += r\" \\text{ [ergs]}\"\n",
    "        display(Math(result))    \n",
    "        \n",
    "        \n",
    "\n",
    "class NumberDensityModel(object):\n",
    "    \"\"\"Eventually I should make this a real astropy model subclass\"\"\"\n",
    "    def __init__(self, number_densities, energies):\n",
    "        super(NumberDensityModel, self).__init__()\n",
    "        self.model  = self.fit(number_densities, energies)\n",
    "        \n",
    "    def __call__(self, number_densities):\n",
    "        log_number_densities = np.log10(number_densities)\n",
    "\n",
    "        log_energies = self.model(log_number_densities)\n",
    "        return 10**log_energies\n",
    "\n",
    "    def fit(self, number_densities, energies):\n",
    "        fitter = fitting.LinearLSQFitter()\n",
    "        log_number_densities = np.log10(number_densities)\n",
    "        log_energies         = np.log10(energies)\n",
    "\n",
    "        log_number_density_model = models.Linear1D()\n",
    "        fitted = fitter(log_number_density_model,\n",
    "                        log_number_densities,\n",
    "                        log_energies)\n",
    "        return fitted\n",
    "\n",
    "    def print_model(self):\n",
    "        result  = r\"E = \"\n",
    "        result += r\"{0:.2f} \\cdot 10^{{49}}\".format(10**self.model.intercept.value/1e49)\n",
    "        result += r\" \\cdot n_0^{{ {0:.2f} }}\".format(self.model.slope.value)\n",
    "        result += r\" \\text{ [ergs]}\"\n",
    "        display(Math(result))    \n",
    "    \n",
    "    \n",
    "    \n",
    "class MetallicityModel(object):\n",
    "    \"\"\"Eventually I should make this a real astropy model subclass\"\"\"\n",
    "    def __init__(self, metallicities, energies):\n",
    "        super(MetallicityModel, self).__init__()\n",
    "        self.model  = self.fit(metallicities, energies)\n",
    "        \n",
    "    def __call__(self, metallicities):\n",
    "        log_metallicities = np.log10(metallicities / metallicity_solar)\n",
    "\n",
    "        log_energies = self.model(log_metallicities)\n",
    "        return 10**log_energies\n",
    "\n",
    "    def fit(self, metallicities, energies):\n",
    "        fitter = fitting.LinearLSQFitter()\n",
    "        log_metallicities = np.log10(metallicities / metallicity_solar)\n",
    "        log_energies      = np.log10(energies)\n",
    "\n",
    "        log_metallicity_model = models.Linear1D()\n",
    "        fitted = fitter(log_metallicity_model,\n",
    "                        log_metallicities,\n",
    "                        log_energies)\n",
    "        return fitted\n",
    "\n",
    "    def print_model(self):\n",
    "        result  = r\"E = \"\n",
    "        result += r\"{0:.2f} \\cdot 10^{{49}}\".format(10**self.model.intercept.value/1e49)\n",
    "        result += r\" \\cdot (Z / Z_\\odot)^{{ {0:.2f} }}\".format(self.model.slope.value)\n",
    "        result += r\" \\text{ [ergs]}\"\n",
    "        display(Math(result))\n",
    "        \n",
    "\n",
    "\n",
    "class ThorntonModel(object):\n",
    "    def __init__(self, energy):\n",
    "        super(ThorntonModel, self).__init__()\n",
    "        \n",
    "        if energy in energies:\n",
    "            self.energy = energy\n",
    "        else:\n",
    "            raise ValueError(\"Incorrect input of 'energy': \" + energy)\n",
    "        \n",
    "    def __call__(self, metallicity, number_density):\n",
    "        if self.energy is \"tot\":\n",
    "            return self.E_tot(metallicity, number_density)\n",
    "        elif self.energy is \"kin\":\n",
    "            return self.E_kin(metallicity, number_density)\n",
    "        elif self.energy is \"int\":\n",
    "            return self.E_int(metallicity, number_density)\n",
    "    \n",
    "    def E_tot(self, metallicity, number_density):\n",
    "        E_tot  = self.E_kin(metallicity, number_density)\n",
    "        E_tot += self.E_int(metallicity, number_density)\n",
    "        return E_tot\n",
    "\n",
    "    def E_kin(self, metallicity, number_density):\n",
    "        # the awkward powers of 0 help us return\n",
    "        # an array of the correct shape\n",
    "        E_kin = 8.52e49 * metallicity**0 * number_density**0\n",
    "        return E_kin\n",
    "    \n",
    "    def E_int(self, metallicity, number_density):\n",
    "        E_int = 1.83e49 * number_density**-.23 \\\n",
    "                * (metallicity / metallicity_solar)**-.24\n",
    "        return E_int\n",
    "    \n",
    "    def print_model(self):\n",
    "        if self.energy is \"tot\":\n",
    "            result = r\"E_{tot} = E_{int} + E_{kin}\"\n",
    "        elif self.energy is \"kin\":\n",
    "            result  = r\"E_{kin} = 8.52 \\cdot 10^{49}\"\n",
    "            result += r\" \\text{ [ergs]}\"\n",
    "        elif self.energy is \"int\":\n",
    "            result  = r\"E_{int} = 1.83 \\cdot 10^{49}\"\n",
    "            result += r\" \\cdot (Z / Z_\\odot)^{-0.24}\"\n",
    "            result += r\" n_0^{-0.23}\" \n",
    "            result += r\" \\text{ [ergs]}\"\n",
    "\n",
    "        display(Math(result))   \n",
    "\n",
    "    "
   ]
  },
  {
   "cell_type": "code",
   "execution_count": 5,
   "metadata": {
    "collapsed": false,
    "scrolled": true
   },
   "outputs": [
    {
     "name": "stdout",
     "output_type": "stream",
     "text": [
      "\n",
      "Thornton Model, E_R_tot:\n"
     ]
    },
    {
     "data": {
      "text/latex": [
       "$$E_{tot} = E_{int} + E_{kin}$$"
      ],
      "text/plain": [
       "<IPython.core.display.Math object>"
      ]
     },
     "metadata": {},
     "output_type": "display_data"
    },
    {
     "name": "stdout",
     "output_type": "stream",
     "text": [
      "\n",
      "Thornton Model, E_R_kin:\n"
     ]
    },
    {
     "data": {
      "text/latex": [
       "$$E_{kin} = 8.52 \\cdot 10^{49} \\text{ [ergs]}$$"
      ],
      "text/plain": [
       "<IPython.core.display.Math object>"
      ]
     },
     "metadata": {},
     "output_type": "display_data"
    },
    {
     "name": "stdout",
     "output_type": "stream",
     "text": [
      "\n",
      "Thornton Model, E_R_int:\n"
     ]
    },
    {
     "data": {
      "text/latex": [
       "$$E_{int} = 1.83 \\cdot 10^{49} \\cdot (Z / Z_\\odot)^{-0.24} n_0^{-0.23} \\text{ [ergs]}$$"
      ],
      "text/plain": [
       "<IPython.core.display.Math object>"
      ]
     },
     "metadata": {},
     "output_type": "display_data"
    },
    {
     "name": "stdout",
     "output_type": "stream",
     "text": [
      "========================\n",
      "\n",
      "simultaneous model, E_R_tot\n"
     ]
    },
    {
     "data": {
      "text/latex": [
       "$$E = 13.80 \\cdot 10^{49} \\cdot (Z / Z_\\odot)^{ -0.19 } \\cdot n_0^{ -0.18 } \\text{ [ergs]}$$"
      ],
      "text/plain": [
       "<IPython.core.display.Math object>"
      ]
     },
     "metadata": {},
     "output_type": "display_data"
    },
    {
     "name": "stdout",
     "output_type": "stream",
     "text": [
      "\n",
      "simultaneous model, E_R_kin\n"
     ]
    },
    {
     "data": {
      "text/latex": [
       "$$E = 5.86 \\cdot 10^{49} \\cdot (Z / Z_\\odot)^{ 0.05 } \\cdot n_0^{ 0.04 } \\text{ [ergs]}$$"
      ],
      "text/plain": [
       "<IPython.core.display.Math object>"
      ]
     },
     "metadata": {},
     "output_type": "display_data"
    },
    {
     "name": "stdout",
     "output_type": "stream",
     "text": [
      "\n",
      "simultaneous model, E_R_int\n"
     ]
    },
    {
     "data": {
      "text/latex": [
       "$$E = 3.99 \\cdot 10^{49} \\cdot (Z / Z_\\odot)^{ -0.31 } \\cdot n_0^{ -0.31 } \\text{ [ergs]}$$"
      ],
      "text/plain": [
       "<IPython.core.display.Math object>"
      ]
     },
     "metadata": {},
     "output_type": "display_data"
    },
    {
     "name": "stdout",
     "output_type": "stream",
     "text": [
      "========================\n",
      "\n",
      "number_density_fit_E_R_tot: \n"
     ]
    },
    {
     "data": {
      "text/latex": [
       "$$E = 11.15 \\cdot 10^{49} \\cdot n_0^{ -0.08 } \\text{ [ergs]}$$"
      ],
      "text/plain": [
       "<IPython.core.display.Math object>"
      ]
     },
     "metadata": {},
     "output_type": "display_data"
    },
    {
     "name": "stdout",
     "output_type": "stream",
     "text": [
      "\n",
      "number_density_fit_E_R_kin: \n"
     ]
    },
    {
     "data": {
      "text/latex": [
       "$$E = 6.14 \\cdot 10^{49} \\cdot n_0^{ 0.02 } \\text{ [ergs]}$$"
      ],
      "text/plain": [
       "<IPython.core.display.Math object>"
      ]
     },
     "metadata": {},
     "output_type": "display_data"
    },
    {
     "name": "stdout",
     "output_type": "stream",
     "text": [
      "\n",
      "number_density_fit_E_R_int: \n"
     ]
    },
    {
     "data": {
      "text/latex": [
       "$$E = 3.32 \\cdot 10^{49} \\cdot n_0^{ -0.21 } \\text{ [ergs]}$$"
      ],
      "text/plain": [
       "<IPython.core.display.Math object>"
      ]
     },
     "metadata": {},
     "output_type": "display_data"
    },
    {
     "name": "stdout",
     "output_type": "stream",
     "text": [
      "========================\n",
      "\n",
      "metallicity_fit_E_R_tot: \n"
     ]
    },
    {
     "data": {
      "text/latex": [
       "$$E = 10.77 \\cdot 10^{49} \\cdot (Z / Z_\\odot)^{ -0.22 } \\text{ [ergs]}$$"
      ],
      "text/plain": [
       "<IPython.core.display.Math object>"
      ]
     },
     "metadata": {},
     "output_type": "display_data"
    },
    {
     "name": "stdout",
     "output_type": "stream",
     "text": [
      "\n",
      "metallicity_fit_E_R_kin: \n"
     ]
    },
    {
     "data": {
      "text/latex": [
       "$$E = 5.34 \\cdot 10^{49} \\cdot (Z / Z_\\odot)^{ 0.04 } \\text{ [ergs]}$$"
      ],
      "text/plain": [
       "<IPython.core.display.Math object>"
      ]
     },
     "metadata": {},
     "output_type": "display_data"
    },
    {
     "name": "stdout",
     "output_type": "stream",
     "text": [
      "\n",
      "metallicity_fit_E_R_int: \n"
     ]
    },
    {
     "data": {
      "text/latex": [
       "$$E = 4.07 \\cdot 10^{49} \\cdot (Z / Z_\\odot)^{ -0.39 } \\text{ [ergs]}$$"
      ],
      "text/plain": [
       "<IPython.core.display.Math object>"
      ]
     },
     "metadata": {},
     "output_type": "display_data"
    }
   ],
   "source": [
    "slice_by_metallicity    = df.metallicity    == metallicity_solar\n",
    "slice_by_number_density = df.number_density == .1 * 1.33\n",
    "\n",
    "thornton_models       = dict()\n",
    "\n",
    "simultaneous_models   = dict()\n",
    "number_density_models = dict()\n",
    "metallicity_models    = dict()\n",
    "\n",
    "for energy in energies:\n",
    "    thornton_models[energy] = ThorntonModel(energy)\n",
    "    simultaneous_models[energy] = SimultaneousModel(df.number_density, \n",
    "                                                      df.metallicity, \n",
    "                                                      df[\"E_R_{0}\".format(energy)])\n",
    "    number_density_models[energy] = NumberDensityModel(df.number_density[slice_by_metallicity],\n",
    "                                                       df[\"E_R_{0}\".format(energy)][slice_by_metallicity])\n",
    "    metallicity_models[energy] = MetallicityModel(df.metallicity[slice_by_number_density],\n",
    "                                                  df[\"E_R_{0}\".format(energy)][slice_by_number_density])\n",
    "\n",
    "\n",
    "for energy in energies:\n",
    "\n",
    "    print(\"\")\n",
    "    print(\"Thornton Model, E_R_{0}:\".format(energy))\n",
    "    thornton_models[energy].print_model()\n",
    "\n",
    "\n",
    "print(\"========================\")\n",
    "\n",
    "for energy in energies:\n",
    "    print(\"\")\n",
    "    print(\"simultaneous model, E_R_{0}\".format(energy))\n",
    "    simultaneous_models[energy].print_model()\n",
    "\n",
    "\n",
    "\n",
    "\n",
    "print(\"========================\")\n",
    "\n",
    "for energy in energies:\n",
    "    print(\"\")\n",
    "    print(\"number_density_fit_E_R_{0}: \".format(energy))\n",
    "    number_density_models[energy].print_model()\n",
    "\n",
    "\n",
    "print(\"========================\")\n",
    "\n",
    "for energy in energies:\n",
    "    print(\"\")\n",
    "    print(\"metallicity_fit_E_R_{0}: \".format(energy))\n",
    "    metallicity_models[energy].print_model()\n",
    "    \n"
   ]
  },
  {
   "cell_type": "code",
   "execution_count": 6,
   "metadata": {
    "collapsed": true
   },
   "outputs": [],
   "source": [
    "formatter = LogFormatterMathtext(labelOnlyBase=False)\n",
    "locator   = LogLocator(subs=np.logspace(0,1,num=5,endpoint=False)[1:])\n",
    "\n",
    "metallicity_fit_label    = r\"Fit($Z$)\"\n",
    "number_density_fit_label = r\"Fit($n$)\"\n",
    "simultaneous_fit_label   = r\"Fit($Z$, $n$)\"\n",
    "my_label = \"Numeric Results\"\n",
    "Thornton_label = \"Thornton et al. (1998)\"\n"
   ]
  },
  {
   "cell_type": "code",
   "execution_count": 7,
   "metadata": {
    "collapsed": false,
    "scrolled": false
   },
   "outputs": [
    {
     "data": {
      "text/latex": [
       "$$E = 11.15 \\cdot 10^{49} \\cdot n_0^{ -0.08 } \\text{ [ergs]}$$"
      ],
      "text/plain": [
       "<IPython.core.display.Math object>"
      ]
     },
     "metadata": {},
     "output_type": "display_data"
    },
    {
     "data": {
      "image/png": "[encoded data removed]",
      "text/plain": [
       "<matplotlib.figure.Figure at 0x10f2ba2e8>"
      ]
     },
     "metadata": {},
     "output_type": "display_data"
    }
   ],
   "source": [
    "def plot_one_number_density(energy=\"tot\"):\n",
    "    mask = slice_by_metallicity\n",
    "\n",
    "    y_variable = \"E_R_\" + energy\n",
    "\n",
    "    number_density_models[energy].print_model()\n",
    "\n",
    "    plt.figure()\n",
    "    plt.plot(df.number_density[mask], df[y_variable][mask],\n",
    "             marker=\"o\", linestyle=\"\",\n",
    "             label=my_label)\n",
    "    plt.plot(df.number_density[mask],\n",
    "             number_density_models[energy](df.number_density[mask]),\n",
    "             label=number_density_fit_label)\n",
    "    plt.plot(df.number_density[mask],\n",
    "             simultaneous_models[energy](df.metallicity[mask],\n",
    "                                         df.number_density[mask]),\n",
    "             label=simultaneous_fit_label)\n",
    "    plt.plot(df.number_density[mask],\n",
    "             thornton_models[energy](df.metallicity[mask],\n",
    "                            df.number_density[mask]),\n",
    "             label=Thornton_label, linestyle=\"--\")\n",
    "    plt.legend(loc=\"best\")\n",
    "    plt.xscale(\"log\")\n",
    "    plt.yscale(\"log\")\n",
    "    plt.xlabel(r\"$n$ [cm$^{-3}$]\")\n",
    "    plt.ylabel(r\"$E_{{R, \\mathrm{{ {0} }} }}$ [ergs]\".format(energy))\n",
    "\n",
    "    xmin, xmax = plt.xlim()\n",
    "    plt.xlim(xmin/5, xmax*5)\n",
    "\n",
    "    ax = plt.gca()\n",
    "    ax.yaxis.set_minor_formatter(formatter)\n",
    "    ax.yaxis.set_minor_locator(locator)\n",
    "    plt.show() # until ipywidgets stops printing out None\n",
    "\n",
    "    \n",
    "# for energy in energies:\n",
    "#     plot_one_number_density(energy=energy)\n",
    "    \n",
    "        \n",
    "interactive(plot_one_number_density,\n",
    "            energy = RadioButtons(options=energies))\n"
   ]
  },
  {
   "cell_type": "code",
   "execution_count": 8,
   "metadata": {
    "collapsed": false,
    "scrolled": false
   },
   "outputs": [
    {
     "data": {
      "text/latex": [
       "$$E = 10.77 \\cdot 10^{49} \\cdot (Z / Z_\\odot)^{ -0.22 } \\text{ [ergs]}$$"
      ],
      "text/plain": [
       "<IPython.core.display.Math object>"
      ]
     },
     "metadata": {},
     "output_type": "display_data"
    },
    {
     "data": {
      "image/png": "[encoded data removed]",
      "text/plain": [
       "<matplotlib.figure.Figure at 0x10e8c4a20>"
      ]
     },
     "metadata": {},
     "output_type": "display_data"
    }
   ],
   "source": [
    "def plot_one_metallicity(energy=\"tot\"):\n",
    "    mask = slice_by_number_density\n",
    "\n",
    "    y_variable = \"E_R_\" + energy\n",
    "    \n",
    "    metallicity_models[energy].print_model()\n",
    "    \n",
    "    plt.figure()\n",
    "    plt.plot(df.metallicity[mask] / metallicity_solar,\n",
    "             df[y_variable][mask],\n",
    "             marker=\"o\", linestyle=\"\", label=\"Numeric Results\")\n",
    "    plt.plot(df.metallicity[mask] / metallicity_solar,\n",
    "             metallicity_models[energy](df.metallicity[mask]),\n",
    "             label=metallicity_fit_label)\n",
    "    plt.plot(df.metallicity[mask] / metallicity_solar,\n",
    "             simultaneous_models[energy](df.metallicity[mask],\n",
    "                                         df.number_density[mask]),\n",
    "             label=simultaneous_fit_label)\n",
    "    plt.plot(df.metallicity[mask] / metallicity_solar,\n",
    "             thornton_models[energy](df.metallicity[mask],\n",
    "                            df.number_density[mask]),\n",
    "             label=Thornton_label, linestyle=\"--\")\n",
    "    plt.legend(loc=\"best\")\n",
    "    plt.xscale(\"log\")\n",
    "    plt.yscale(\"log\")\n",
    "    plt.xlabel(r\"$\\log[Z / Z_\\odot]$\")\n",
    "    plt.ylabel(r\"$E_{{R, {0} }}$ [ergs]\".format(energy))\n",
    "\n",
    "    xmin, xmax = plt.xlim()\n",
    "    plt.xlim(xmin/5, xmax*5)\n",
    "    \n",
    "    ax = plt.gca()\n",
    "    ax.yaxis.set_minor_formatter(formatter)\n",
    "    ax.yaxis.set_minor_locator(locator)\n",
    "\n",
    "    \n",
    "# for energy in energies:\n",
    "#     plot_one_metallicity(energy = energy)\n",
    "    \n",
    "interactive(plot_one_metallicity,\n",
    "            energy = RadioButtons(options=energies))\n"
   ]
  }
 ],
 "metadata": {
  "kernelspec": {
   "display_name": "Python 3",
   "language": "python",
   "name": "python3"
  },
  "language_info": {
   "codemirror_mode": {
    "name": "ipython",
    "version": 3
   },
   "file_extension": ".py",
   "mimetype": "text/x-python",
   "name": "python",
   "nbconvert_exporter": "python",
   "pygments_lexer": "ipython3",
   "version": "3.4.3"
  }
 },
 "nbformat": 4,
 "nbformat_minor": 0
}
