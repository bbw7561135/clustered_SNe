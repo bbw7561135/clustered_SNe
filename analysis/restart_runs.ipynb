{
 "cells": [
  {
   "cell_type": "code",
   "execution_count": null,
   "metadata": {
    "collapsed": false
   },
   "outputs": [],
   "source": [
    "from __future__ import print_function\n",
    "\n",
    "import numpy as np\n",
    "import glob\n",
    "\n",
    "\n",
    "## Boilerplate path hack to give access to full clustered_SNe package\n",
    "import sys, os\n",
    "if __package__ is None:\n",
    "    if os.pardir not in sys.path[0]:\n",
    "        file_dir = os.getcwd()\n",
    "        sys.path.insert(0, os.path.join(file_dir, \n",
    "                                        os.pardir, \n",
    "                                        os.pardir))\n",
    "        \n",
    "from clustered_SNe import data_dir_default\n",
    "from clustered_SNe.analysis.constants import m_proton, pc, yr, M_solar, \\\n",
    "                                   metallicity_solar\n",
    "from clustered_SNe.analysis.parse import Overview, RunSummary, \\\n",
    "                                         Inputs, \\\n",
    "                                         get_full_id_from_partial_id, \\\n",
    "                                         checkpoint_num_from_filename\n",
    "\n",
    "from clustered_SNe.analysis.database_helpers import session, \\\n",
    "                                                Simulation, \\\n",
    "                                                Simulation_Inputs, \\\n",
    "                                                Simulation_Status\n"
   ]
  },
  {
   "cell_type": "code",
   "execution_count": null,
   "metadata": {
    "collapsed": false
   },
   "outputs": [],
   "source": [
    "data_dir = data_dir_default"
   ]
  },
  {
   "cell_type": "code",
   "execution_count": null,
   "metadata": {
    "collapsed": false
   },
   "outputs": [],
   "source": [
    "target_ids = [\n",
    "\"32226257-da2d-47ae-85ef-d99b39621202\",\n",
    "\"20b4fccc-e53f-48ca-894b-3ee282bad8ea\",\n",
    "\"3cf9d3f4-b657-4437-a59f-324de0b52763\",\n",
    "\"db48961d-c5d2-4495-8c47-a1922d0170a9\",\n",
    "\"45a6c151-774b-479f-b4fc-83c9945516c7\",\n",
    "\"b7ef7e0d-72b5-4592-ad9a-288fa98fd7cc\",\n",
    "\"af79be27-ff8e-47c1-bee1-e29a2786d908\",\n",
    "\"e219741b-5ff9-488c-8a0b-c64b6f568c00\",\n",
    "\"9504c81d-b2f7-4593-8c28-e661c501cb11\",\n",
    "\"c436d5db-4feb-41a0-8175-f6dd2287a6b9\",\n",
    "\"e3d7135a-0265-4216-b63f-e29ba039f912\",\n",
    "\"c7b202a2-dbf2-46fb-a192-4ab258b70b9d\"\n",
    "]\n"
   ]
  },
  {
   "cell_type": "code",
   "execution_count": null,
   "metadata": {
    "collapsed": false
   },
   "outputs": [],
   "source": [
    "energy_ids = [\n",
    "    \"b5f8a507-0bbe-422e-8ee6-2f6e53813027\",\n",
    "\"0522ca33-c440-4384-ba16-2db6998fc8d0\",\n",
    "\"7ddb48b1-ca9d-4c87-808a-a5fa6c59b687\",\n",
    "\"3cf9d3f4-b657-4437-a59f-324de0b52763\",\n",
    "\"2af1f468-1aaa-471f-beec-d94c328a445b\",\n",
    "\"51e34873-903a-4a3b-8b27-26830709c9b6\",\n",
    "\"20b4fccc-e53f-48ca-894b-3ee282bad8ea\",\n",
    "\"f2a0cce6-88ca-4bfc-b6e9-be77356ee0bb\",\n",
    "\"741000c8-441e-4361-bbcc-bed2ac836ad8\",\n",
    "\"468f39c5-c4ad-472b-878e-e468224cac52\",\n",
    "]\n",
    "\n",
    "resolution_ids = [\n",
    "    \"26e43ef9-1710-4629-96fa-6ac055930dad\",\n",
    "\"9f8d633d-40e7-4c7b-b309-37b3218fcd1a\",\n",
    "\"59b7f2b4-ed74-48bc-ab18-7a860043a7de\",\n",
    "\"2af1f468-1aaa-471f-beec-d94c328a445b\",\n",
    "\"c381b033-8dfe-4ab9-acb2-5a28fc49e9f4\",\n",
    "\"7ddb48b1-ca9d-4c87-808a-a5fa6c59b687\",\n",
    "\"7d54ea03-7abd-429b-9438-39b0dfcbbe8f\",\n",
    "\"3cf9d3f4-b657-4437-a59f-324de0b52763\",\n",
    "\"6a3b2459-9dcc-424c-a836-c23575424395\",\n",
    "\"741000c8-441e-4361-bbcc-bed2ac836ad8\",\n",
    "\"468f39c5-c4ad-472b-878e-e468224cac52\",\n",
    "\"f22ff92d-fd0e-4a13-8372-7275e0bf41ed\",\n",
    "\"372eac02-4b98-4434-86ab-f7adaf4cbb11\",\n",
    "]\n",
    "\n",
    "ids = []\n",
    "for id in target_ids:\n",
    "    if id in energy_ids:\n",
    "        continue\n",
    "    if id in resolution_ids:\n",
    "        continue\n",
    "    if session.query(Simulation_Status).get(id).status == \"Running\":\n",
    "        continue\n",
    "    ids.append(id)"
   ]
  },
  {
   "cell_type": "code",
   "execution_count": null,
   "metadata": {
    "collapsed": false
   },
   "outputs": [],
   "source": [
    "restart_dir = \"restart_incomplete\"\n",
    "\n",
    "qsub_systems = set([\"SGE\", \"PBS\"])\n",
    "qsub_system = \"PBS\"\n",
    "assert(qsub_system in qsub_systems)\n",
    "    \n",
    "f_submit = open(\"submit_script\", mode=\"w\")\n",
    "f_submit.write(\"#!/bin/bash \\n\")\n",
    "\n",
    "f_copy = open(\"copy_script\", mode=\"w\")\n",
    "f_copy.write(\"#!/bin/bash \\n\")\n",
    "f_copy.write(\"mkdir -p ../\" + restart_dir + \"\\n\")\n",
    "\n",
    "for id in ids:\n",
    "\n",
    "    print(\"id: \", id)\n",
    "    \n",
    "    overview = Overview(os.path.join(data_dir, id + \"_overview.dat\"))\n",
    "    \n",
    "    filenames = glob.glob(os.path.join(data_dir, id + \"_checkpoint_*.dat\"))\n",
    "    filenames = sorted(filenames)\n",
    "    last_checkpoint_filename  = filenames[-1]\n",
    "    last_checkpoint_number = checkpoint_num_from_filename(last_checkpoint_filename)\n",
    "    \n",
    "    with open(last_checkpoint_filename, 'r') as f:\n",
    "        line = f.readline()\n",
    "        last_checkpoint_time = float(line.split()[3])\n",
    "    \n",
    "    restart_checkpoints_needed = 100 - ((last_checkpoint_number+1) % 100)\n",
    "    print(last_checkpoint_filename)\n",
    "    print(((last_checkpoint_number+1) % 100))\n",
    "    print(\"new checkpoints_needed: \", restart_checkpoints_needed)\n",
    "    \n",
    "    restart_time_needed = overview.SNe_times.max() * 3 - last_checkpoint_time\n",
    "    if last_checkpoint_number >= 99:\n",
    "        restart_time_needed = 3e15\n",
    "    print(\"extra time needed: \", restart_time_needed, \"[s]\")\n",
    "\n",
    "    print(\"\")\n",
    "\n",
    "    CFL = .025\n",
    "\n",
    "    f_submit.write(\"qsub \" +\n",
    "                       \"-v RESTART_ID=\" + id + \",\"\n",
    "                       + \"RESTART_N_CHECKPOINTS=\" + str(restart_checkpoints_needed) + \",\"\n",
    "                       + \"RESTART_DELTA_TIME=\" + str(restart_time_needed) + \",\"\n",
    "                       + \"RESTART_CFL=\" + str(CFL)\n",
    "                    + \" ../scripts/\" + qsub_system + \"/restart.batch.env_variables \\n\")\n",
    "    f_copy.write(\"cp -p \" + id + \"* ../\" + restart_dir + \" \\n\")\n",
    "        \n",
    "f_submit.close()\n",
    "f_copy.close()"
   ]
  },
  {
   "cell_type": "code",
   "execution_count": null,
   "metadata": {
    "collapsed": false
   },
   "outputs": [],
   "source": [
    "for id in ids:\n",
    "    session.query(Simulation_Status).filter(Simulation_Status.id == id).update({\"status\":\"Running\"})\n",
    "    sim_status = session.query(Simulation_Status).get(id)\n",
    "    print(sim_status.status)\n",
    "    print(id)"
   ]
  },
  {
   "cell_type": "code",
   "execution_count": null,
   "metadata": {
    "collapsed": false
   },
   "outputs": [],
   "source": [
    "session.commit()"
   ]
  }
 ],
 "metadata": {
  "kernelspec": {
   "display_name": "Python 3",
   "language": "python",
   "name": "python3"
  },
  "language_info": {
   "codemirror_mode": {
    "name": "ipython",
    "version": 3
   },
   "file_extension": ".py",
   "mimetype": "text/x-python",
   "name": "python",
   "nbconvert_exporter": "python",
   "pygments_lexer": "ipython3",
   "version": "3.4.4"
  }
 },
 "nbformat": 4,
 "nbformat_minor": 0
}
