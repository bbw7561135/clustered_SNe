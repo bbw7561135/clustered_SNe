{
 "cells": [
  {
   "cell_type": "code",
   "execution_count": null,
   "metadata": {
    "collapsed": false
   },
   "outputs": [],
   "source": [
    "from __future__ import print_function\n",
    "\n",
    "import numpy as np\n",
    "import glob\n",
    "\n",
    "\n",
    "## Boilerplate path hack to give access to full clustered_SNe package\n",
    "import sys, os\n",
    "if __package__ is None:\n",
    "    if os.pardir not in sys.path[0]:\n",
    "        file_dir = os.getcwd()\n",
    "        sys.path.insert(0, os.path.join(file_dir, \n",
    "                                        os.pardir, \n",
    "                                        os.pardir))\n",
    "        \n",
    "from clustered_SNe import data_dir_default\n",
    "from clustered_SNe.analysis.constants import m_proton, pc, yr, M_solar, \\\n",
    "                                   metallicity_solar\n",
    "from clustered_SNe.analysis.parse import Overview, RunSummary, \\\n",
    "                                         Inputs, \\\n",
    "                                         get_full_id_from_partial_id, \\\n",
    "                                         checkpoint_num_from_filename\n",
    "\n",
    "from clustered_SNe.analysis.database_helpers import session, \\\n",
    "                                                Simulation, \\\n",
    "                                                Simulation_Inputs, \\\n",
    "                                                Simulation_Status\n"
   ]
  },
  {
   "cell_type": "code",
   "execution_count": null,
   "metadata": {
    "collapsed": false
   },
   "outputs": [],
   "source": [
    "data_dir = data_dir_default"
   ]
  },
  {
   "cell_type": "code",
   "execution_count": null,
   "metadata": {
    "collapsed": true
   },
   "outputs": [],
   "source": [
    "all_ids = [Overview(filename).id for filename in glob.glob(os.path.join(data_dir, \"*_overview.dat\"))]"
   ]
  },
  {
   "cell_type": "code",
   "execution_count": null,
   "metadata": {
    "collapsed": false
   },
   "outputs": [],
   "source": [
    "ids = []\n",
    "for id in all_ids:\n",
    "    filenames = glob.glob(os.path.join(data_dir, id + \"_checkpoint_*.dat\"))\n",
    "    last_filename = sorted(filenames)[-1]\n",
    "    last_file_number = checkpoint_num_from_filename(last_filename)\n",
    "    if (last_file_number % 100) != 99:\n",
    "        if session.query(Simulation_Status).get(id).status not in [\"Error\", \"Unphysical\"]:\n",
    "            ids.append(id)\n",
    "        \n",
    "len(ids)"
   ]
  },
  {
   "cell_type": "code",
   "execution_count": null,
   "metadata": {
    "collapsed": false
   },
   "outputs": [],
   "source": [
    "restart_dir = \"restart_incomplete\"\n",
    "\n",
    "qsub_systems = set([\"SGE\", \"PBS\"])\n",
    "qsub_system = \"PBS\"\n",
    "assert(qsub_system in qsub_systems)\n",
    "    \n",
    "f_submit = open(\"submit_script\", mode=\"w\")\n",
    "f_submit.write(\"#!/bin/bash \\n\")\n",
    "\n",
    "f_copy = open(\"copy_script\", mode=\"w\")\n",
    "f_copy.write(\"#!/bin/bash \\n\")\n",
    "f_copy.write(\"mkdir -p ../\" + restart_dir + \"\\n\")\n",
    "\n",
    "for id in ids:\n",
    "\n",
    "    print(\"id: \", id)\n",
    "    \n",
    "    overview = Overview(os.path.join(data_dir, id + \"_overview.dat\"))\n",
    "    \n",
    "    filenames = glob.glob(os.path.join(data_dir, id + \"_checkpoint_*.dat\"))\n",
    "    filenames = sorted(filenames)\n",
    "    last_checkpoint_filename  = filenames[-1]\n",
    "    last_checkpoint_number = checkpoint_num_from_filename(last_checkpoint_filename)\n",
    "    \n",
    "    with open(last_checkpoint_filename, 'r') as f:\n",
    "        line = f.readline()\n",
    "        last_checkpoint_time = float(line.split()[3])\n",
    "    \n",
    "    restart_checkpoints_needed = 100 - ((last_checkpoint_number+1) % 100)\n",
    "    print(last_checkpoint_filename)\n",
    "    print(((last_checkpoint_number+1) % 100))\n",
    "    print(\"new checkpoints_needed: \", restart_checkpoints_needed)\n",
    "    \n",
    "    restart_time_needed = overview.SNe_times.max() * 3 - last_checkpoint_time\n",
    "    if last_checkpoint_number >= 99:\n",
    "        restart_time_needed = 3e15\n",
    "    print(\"extra time needed: \", restart_time_needed, \"[s]\")\n",
    "\n",
    "    print(\"\")\n",
    "\n",
    "    CFL = .025\n",
    "\n",
    "    f_submit.write(\"qsub \" +\n",
    "                       \"-v RESTART_ID=\" + id + \",\"\n",
    "                       + \"RESTART_N_CHECKPOINTS=\" + str(restart_checkpoints_needed) + \",\"\n",
    "                       + \"RESTART_DELTA_TIME=\" + str(restart_time_needed) + \",\"\n",
    "                       + \"RESTART_CFL=\" + str(CFL)\n",
    "                    + \" -N \" + id + \"_restart.batch \"\n",
    "                    + \" ../scripts/\" + qsub_system + \"/restart.batch.env_variables \\n\")\n",
    "    f_copy.write(\"cp -p \" + id + \"* ../\" + restart_dir + \" \\n\")\n",
    "        \n",
    "f_submit.close()\n",
    "f_copy.close()"
   ]
  },
  {
   "cell_type": "code",
   "execution_count": null,
   "metadata": {
    "collapsed": false
   },
   "outputs": [],
   "source": [
    "for id in ids:\n",
    "    session.query(Simulation_Status).filter(Simulation_Status.id == id).update({\"status\":\"Running\"})\n",
    "    sim_status = session.query(Simulation_Status).get(id)\n",
    "    print(sim_status.status)\n",
    "    print(id)"
   ]
  },
  {
   "cell_type": "code",
   "execution_count": null,
   "metadata": {
    "collapsed": false
   },
   "outputs": [],
   "source": [
    "session.commit()"
   ]
  }
 ],
 "metadata": {
  "kernelspec": {
   "display_name": "Python 3",
   "language": "python",
   "name": "python3"
  },
  "language_info": {
   "codemirror_mode": {
    "name": "ipython",
    "version": 3
   },
   "file_extension": ".py",
   "mimetype": "text/x-python",
   "name": "python",
   "nbconvert_exporter": "python",
   "pygments_lexer": "ipython3",
   "version": "3.5.1"
  }
 },
 "nbformat": 4,
 "nbformat_minor": 0
}
