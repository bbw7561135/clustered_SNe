{
 "cells": [
  {
   "cell_type": "code",
   "execution_count": null,
   "metadata": {
    "collapsed": false
   },
   "outputs": [],
   "source": [
    "from __future__ import print_function\n",
    "\n",
    "import numpy as np\n",
    "import glob\n",
    "\n",
    "\n",
    "## Boilerplate path hack to give access to full clustered_SNe package\n",
    "import sys, os\n",
    "if __package__ is None:\n",
    "    if os.pardir not in sys.path[0]:\n",
    "        file_dir = os.getcwd()\n",
    "        sys.path.insert(0, os.path.join(file_dir, \n",
    "                                        os.pardir, \n",
    "                                        os.pardir))\n",
    "        \n",
    "\n",
    "from clustered_SNe.analysis.constants import m_proton, pc, yr, M_solar, \\\n",
    "                                   metallicity_solar\n",
    "from clustered_SNe.analysis.parse import Overview, RunSummary, \\\n",
    "                                         Inputs, \\\n",
    "                                         get_full_id_from_partial_id, \\\n",
    "                                         checkpoint_num_from_filename\n",
    "\n",
    "from clustered_SNe.analysis.database_helpers import session, \\\n",
    "                                                Simulation, \\\n",
    "                                                Simulation_Inputs, \\\n",
    "                                                Simulation_Status\n"
   ]
  },
  {
   "cell_type": "code",
   "execution_count": null,
   "metadata": {
    "collapsed": true
   },
   "outputs": [],
   "source": [
    "data_dir = \"../saved_runs/cluster_parameter_study/\""
   ]
  },
  {
   "cell_type": "code",
   "execution_count": null,
   "metadata": {
    "collapsed": false
   },
   "outputs": [],
   "source": [
    "ids = [\n",
    "\"32226257-da2d-47ae-85ef-d99b39621202\",\n",
    "\"20b4fccc-e53f-48ca-894b-3ee282bad8ea\",\n",
    "\"3cf9d3f4-b657-4437-a59f-324de0b52763\",\n",
    "\"db48961d-c5d2-4495-8c47-a1922d0170a9\",\n",
    "\"45a6c151-774b-479f-b4fc-83c9945516c7\",\n",
    "\"b7ef7e0d-72b5-4592-ad9a-288fa98fd7cc\",\n",
    "\"af79be27-ff8e-47c1-bee1-e29a2786d908\",\n",
    "\"e219741b-5ff9-488c-8a0b-c64b6f568c00\",\n",
    "\"9504c81d-b2f7-4593-8c28-e661c501cb11\",\n",
    "\"c436d5db-4feb-41a0-8175-f6dd2287a6b9\",\n",
    "\"e3d7135a-0265-4216-b63f-e29ba039f912\",\n",
    "\"c7b202a2-dbf2-46fb-a192-4ab258b70b9d\"\n",
    "]\n",
    "\n",
    "# ids = [get_full_id_from_partial_id(data_dir, partial_id) for partial_id in ids]\n"
   ]
  },
  {
   "cell_type": "code",
   "execution_count": null,
   "metadata": {
    "collapsed": false
   },
   "outputs": [],
   "source": [
    "qsub_systems = set([\"SGE\", \"PBS\"])\n",
    "qsub_system = \"SGE\"\n",
    "assert(qsub_system in qsub_systems)\n",
    "    \n",
    "f_submit = open(\"submit_all\", mode=\"w\")\n",
    "f_submit.write(\"#!/bin/bash \\n\")\n",
    "\n",
    "for id in ids:\n",
    "\n",
    "    print(\"id: \", id)\n",
    "    \n",
    "    overview = Overview(os.path.join(data_dir, id + \"_overview.dat\"))\n",
    "    \n",
    "    filenames = glob.glob(os.path.join(data_dir, id + \"_checkpoint_*.dat\"))\n",
    "    filenames = sorted(filenames)\n",
    "    last_checkpoint_filename  = filename[-1]\n",
    "    last_checkpoint_number = checkpoint_num_from_filename(last_checkpoint_filename)\n",
    "    \n",
    "    with open(last_checkpoint_filename, 'r') as f:\n",
    "        line = f.readline()\n",
    "        last_checkpoint_time = float(line.split()[3])\n",
    "    \n",
    "    restart_checkpoints_needed = 100 - (last_checkpoint_number+1 % 100)\n",
    "    print(\"new checkpoints_needed: \", restart_checkpoints_needed)\n",
    "    \n",
    "    restart_time_needed = overview.SNe_times.max() * 3 - last_checkpoint_times\n",
    "    if last_checkpoint_number >= 99:\n",
    "        restart_time_needed = 3e15\n",
    "    print(\"extra time needed: \", restart_time_needed, \"[s]\")\n",
    "\n",
    "    print(\"\")\n",
    "\n",
    "    CFL = .025\n",
    "\n",
    "    f_submit.write(\"qsub \" +\n",
    "                       \"-v RESTART_ID=\" + run_summary.id + \",\"\n",
    "                       + \"RESTART_N_CHECKPOINTS=\" + str(restart_checkpoints_needed) + \",\"\n",
    "                       + \"RESTART_DELTA_TIME=\" + str(restart_time_needed) + \",\"\n",
    "                       + \"RESTART_CFL=\" + str(CFL)\n",
    "                    + \"../scripts/\" + qsub_system + \"/restart.batch.env_variables \\n\")\n",
    "        \n",
    "f_submit.close()"
   ]
  },
  {
   "cell_type": "code",
   "execution_count": null,
   "metadata": {
    "collapsed": false
   },
   "outputs": [],
   "source": [
    "for id in ids:\n",
    "#     full_id = get_full_id_from_partial_id(data_dir, id)\n",
    "    session.query(Simulation_Status).filter(Simulation_Status.id == id).update({\"status\":\"Running\"})\n",
    "    sim_status = session.query(Simulation_Status).get(id)\n",
    "    print(sim_status.status)\n",
    "    print(id)"
   ]
  },
  {
   "cell_type": "code",
   "execution_count": null,
   "metadata": {
    "collapsed": false
   },
   "outputs": [],
   "source": [
    "session.commit()"
   ]
  }
 ],
 "metadata": {
  "kernelspec": {
   "display_name": "Python 3",
   "language": "python",
   "name": "python3"
  },
  "language_info": {
   "codemirror_mode": {
    "name": "ipython",
    "version": 3
   },
   "file_extension": ".py",
   "mimetype": "text/x-python",
   "name": "python",
   "nbconvert_exporter": "python",
   "pygments_lexer": "ipython3",
   "version": "3.4.4"
  }
 },
 "nbformat": 4,
 "nbformat_minor": 0
}
