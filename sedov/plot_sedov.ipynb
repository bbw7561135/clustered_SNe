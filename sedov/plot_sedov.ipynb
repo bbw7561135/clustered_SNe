{
 "cells": [
  {
   "cell_type": "code",
   "execution_count": 1,
   "metadata": {
    "collapsed": false
   },
   "outputs": [
    {
     "name": "stderr",
     "output_type": "stream",
     "text": [
      ":0: FutureWarning: IPython widgets are experimental and may change in the future.\n"
     ]
    }
   ],
   "source": [
    "%matplotlib inline\n",
    "import numpy as np\n",
    "import matplotlib.pyplot as plt\n",
    "from matplotlib import rc\n",
    "rc('text', usetex=True)\n",
    "plt.rc('font', family='serif')\n",
    "\n",
    "import pandas as pd\n",
    "\n",
    "\n",
    "from IPython.html.widgets import interact"
   ]
  },
  {
   "cell_type": "code",
   "execution_count": 2,
   "metadata": {
    "collapsed": true
   },
   "outputs": [],
   "source": [
    "nstep = 1000"
   ]
  },
  {
   "cell_type": "code",
   "execution_count": 3,
   "metadata": {
    "collapsed": false
   },
   "outputs": [
    {
     "name": "stdout",
     "output_type": "stream",
     "text": [
      "make: `sedov3' is up to date.\n",
      "        1000\n",
      " spherical_standard_omega0p00_nstep_1000.dat                                     \n",
      " standard\n",
      " xgeom =  3.000000E+00 eblast=  1.000000E+00 omega =  0.000000E+00 alpha =  4.935902E-01 j1    =  2.221251E-02 j2    =  1.878160E-02 \n",
      " r2    =  1.151666E+00 rho2  =  4.000000E+00 u2    =  3.454999E-01 e2    =  5.968510E-02 p2    =  1.591603E-01 cs2   =  2.575204E-01 \n"
     ]
    }
   ],
   "source": [
    "%%bash -s \"$nstep\"\n",
    "make\n",
    "./sedov3 $1"
   ]
  },
  {
   "cell_type": "code",
   "execution_count": 4,
   "metadata": {
    "collapsed": false
   },
   "outputs": [],
   "source": [
    "i, x, den, energy, pressure, velocity, cs = np.loadtxt('spherical_standard_omega0p00_nstep_' + str(nstep).zfill(4) + '.dat', skiprows=2, unpack=True)"
   ]
  },
  {
   "cell_type": "code",
   "execution_count": 5,
   "metadata": {
    "collapsed": false
   },
   "outputs": [
    {
     "data": {
      "text/plain": [
       "<matplotlib.axes._subplots.AxesSubplot at 0x107b40358>"
      ]
     },
     "execution_count": 5,
     "metadata": {},
     "output_type": "execute_result"
    },
    {
     "data": {
      "image/png": "[encoded data removed]",
      "text/plain": [
       "<matplotlib.figure.Figure at 0x107b56be0>"
      ]
     },
     "metadata": {},
     "output_type": "display_data"
    }
   ],
   "source": [
    "filename = 'spherical_standard_omega0p00_nstep_' + str(nstep).zfill(4) + '.dat'\n",
    "\n",
    "df = pd.read_csv(filename, skiprows=1, sep=r\"\\s+\", index_col=0, usecols=np.arange(6)+1)\n",
    "(df / df.max()).plot()"
   ]
  }
 ],
 "metadata": {
  "kernelspec": {
   "display_name": "Python 3",
   "language": "python",
   "name": "python3"
  },
  "language_info": {
   "codemirror_mode": {
    "name": "ipython",
    "version": 3
   },
   "file_extension": ".py",
   "mimetype": "text/x-python",
   "name": "python",
   "nbconvert_exporter": "python",
   "pygments_lexer": "ipython3",
   "version": "3.4.3"
  }
 },
 "nbformat": 4,
 "nbformat_minor": 0
}
