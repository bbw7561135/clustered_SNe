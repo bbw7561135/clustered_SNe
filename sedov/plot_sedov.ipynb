{
 "metadata": {
  "name": "",
  "signature": "sha256:c922d2ab7e2a393efb785147fb176505712d369bb68843aabfb816a2ddd34393"
 },
 "nbformat": 3,
 "nbformat_minor": 0,
 "worksheets": [
  {
   "cells": [
    {
     "cell_type": "code",
     "collapsed": false,
     "input": [
      "%matplotlib inline\n",
      "import numpy as np\n",
      "import matplotlib.pyplot as plt\n",
      "from matplotlib import rc\n",
      "rc('text', usetex=True)\n",
      "plt.rc('font', family='serif')\n",
      "\n",
      "\n",
      "from IPython.html.widgets import interact"
     ],
     "language": "python",
     "metadata": {},
     "outputs": [],
     "prompt_number": 1
    },
    {
     "cell_type": "code",
     "collapsed": false,
     "input": [
      "i, x, den, energy, pressure, velocity, cs = np.loadtxt('spherical_standard_omega0p00.dat', skiprows=2, unpack=True)"
     ],
     "language": "python",
     "metadata": {},
     "outputs": [],
     "prompt_number": 2
    },
    {
     "cell_type": "code",
     "collapsed": false,
     "input": [
      "velocity, radius, pressure, den, energy, temperature, cs, q = np.genfromtxt('../modfile', skiprows=1, unpack=True, skip_footer=1)\n",
      "\n",
      "den = 1. / den"
     ],
     "language": "python",
     "metadata": {},
     "outputs": [],
     "prompt_number": 7
    },
    {
     "cell_type": "code",
     "collapsed": false,
     "input": [
      "%pdb\n",
      "plt.plot(x, den / np.max(den))\n",
      "plt.plot(x, pressure / np.max(pressure))\n",
      "plt.plot(x, energy / np.max(energy))\n",
      "plt.plot(x, velocity / np.max(velocity))\n",
      "plt.plot(x, cs / np.max(cs))\n",
      "\n",
      "plt.legend((r\"$\\rho$\", r\"$P$\", r\"$E$\", r\"$v$\", r\"$c_s$\"), loc=\"upper left\")"
     ],
     "language": "python",
     "metadata": {},
     "outputs": []
    }
   ],
   "metadata": {}
  }
 ]
}